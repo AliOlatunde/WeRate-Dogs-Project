{
 "cells": [
  {
   "cell_type": "markdown",
   "id": "3c32be72",
   "metadata": {},
   "source": [
    "## Introduction"
   ]
  },
  {
   "cell_type": "markdown",
   "id": "75d5ead7",
   "metadata": {},
   "source": [
    "**The purpose of this project is to put in practice what I learned in data wrangling data section from Udacity Data Analysis Nanodegree program. The dataset that is wrangled is the tweet archive of Twitter user @dog_rates, also known as WeRateDogs.**"
   ]
  },
  {
   "cell_type": "code",
   "execution_count": null,
   "id": "1902460c",
   "metadata": {},
   "outputs": [],
   "source": []
  },
  {
   "cell_type": "code",
   "execution_count": 344,
   "id": "c1ac5fcc",
   "metadata": {},
   "outputs": [],
   "source": [
    "# Import required librarie`s\n",
    "import pandas as pd \n",
    "import numpy as np\n",
    "import matplotlib.pyplot as plt\n",
    "import seaborn as sns\n",
    "%matplotlib inline\n",
    "%config InlineBackend.figure_format = 'retina'\n",
    "import requests\n",
    "import os\n",
    "import tweepy\n",
    "from tweepy import OAuthHandler\n",
    "import json\n",
    "from timeit import default_timer as timer"
   ]
  },
  {
   "cell_type": "code",
   "execution_count": null,
   "id": "6386b270",
   "metadata": {},
   "outputs": [],
   "source": []
  },
  {
   "cell_type": "markdown",
   "id": "064ef986",
   "metadata": {},
   "source": [
    "## Data Gathering"
   ]
  },
  {
   "cell_type": "markdown",
   "id": "56afe63e",
   "metadata": {},
   "source": [
    "- **Twitter archive file**: download this file manually by clicking the following link: twitter_archive_enhanced.csv"
   ]
  },
  {
   "cell_type": "markdown",
   "id": "14c1baf6",
   "metadata": {},
   "source": [
    "- **The tweet image predictions**: WeRateDogs Twitter archive was ran through a neural network that can classify breeds of dogs*. The results: a table full of image predictions (the top three only) alongside each tweet ID, image URL, and the image number that corresponded to the most confident prediction (numbered 1 to 3 since tweets can have up to three images).i.e., what breed of dog (or other object, animal, etc.) is present in each tweet according to a neural network, This file (image_predictions.tsv) is hosted on Udacity's servers and should be downloaded programmatically using the Requests library and the following URL: https://d17h27t6h515a5.cloudfront.net/topher/2017/August/599fd2ad_image-predictions/image-predictions.tsv"
   ]
  },
  {
   "cell_type": "markdown",
   "id": "d041d114",
   "metadata": {},
   "source": [
    "- **Twitter API & JSON**: Each tweet's retweet count and favorite (\"like\") count at the minimum and any additional data you find interesting. Using the tweet IDs in the WeRateDogs Twitter archive, query the Twitter API for each tweet's JSON data using Python's Tweepy library and store each tweet's entire set of JSON data in a file called tweet_json.txt file.\n",
    "\n",
    "- Each tweet's JSON data should be written to its own line. Then read this .txt file line by line into a pandas DataFrame with (at minimum) tweet ID, retweet count, and favorite count. Note: do not include your Twitter API keys, secrets, and tokens in your project submission."
   ]
  },
  {
   "cell_type": "code",
   "execution_count": null,
   "id": "40fd0c3f",
   "metadata": {},
   "outputs": [],
   "source": []
  },
  {
   "cell_type": "code",
   "execution_count": 345,
   "id": "06bb8088",
   "metadata": {},
   "outputs": [],
   "source": [
    "# Reading CSV file\n",
    "twitter_archive_enhanced = pd.read_csv('twitter-archive-enhanced.csv')"
   ]
  },
  {
   "cell_type": "code",
   "execution_count": null,
   "id": "1ad373bb",
   "metadata": {},
   "outputs": [],
   "source": []
  },
  {
   "cell_type": "code",
   "execution_count": 346,
   "id": "93aeb91a",
   "metadata": {},
   "outputs": [],
   "source": [
    "# Make directory if it doesn't already exist & define and get url\n",
    "folder_name = 'image_predictions_file'\n",
    "if not os.path.exists(folder_name):\n",
    "    os.makedirs(folder_name)\n",
    "    \n",
    "url = 'https://d17h27t6h515a5.cloudfront.net/topher/2017/August/599fd2ad_image-predictions/image-predictions.tsv'    \n",
    "response = requests.get(url)"
   ]
  },
  {
   "cell_type": "code",
   "execution_count": 347,
   "id": "6fc0ae8b",
   "metadata": {},
   "outputs": [],
   "source": [
    "# Access and write content to file\n",
    "with open(os.path.join(folder_name,\n",
    "                       url.split('/')[-1]), mode = 'wb') as file:\n",
    "    file.write(response.content)"
   ]
  },
  {
   "cell_type": "code",
   "execution_count": 348,
   "id": "b8305542",
   "metadata": {},
   "outputs": [],
   "source": [
    "# Reading TSV file\n",
    "image_predictions = pd.read_csv('image_predictions_file/image-predictions.tsv', sep = '\\t')"
   ]
  },
  {
   "cell_type": "code",
   "execution_count": null,
   "id": "517af3dc",
   "metadata": {},
   "outputs": [],
   "source": []
  },
  {
   "cell_type": "markdown",
   "id": "552d5915",
   "metadata": {},
   "source": [
    "#### The code template below was provided by udacity"
   ]
  },
  {
   "cell_type": "markdown",
   "id": "9fb82911",
   "metadata": {},
   "source": [
    "```\n",
    "import tweepy\n",
    "from tweepy import OAuthHandler\n",
    "import json\n",
    "from timeit import default_timer as timer\n",
    "\n",
    "# Query Twitter API for each tweet in the Twitter archive and save JSON in a text file\n",
    "# These are hidden to comply with Twitter's API terms and conditions\n",
    "consumer_key = 'HIDDEN'\n",
    "consumer_secret = 'HIDDEN'\n",
    "access_token = 'HIDDEN'\n",
    "access_secret = 'HIDDEN'\n",
    "\n",
    "auth = OAuthHandler(consumer_key, consumer_secret)\n",
    "auth.set_access_token(access_token, access_secret)\n",
    "\n",
    "api = tweepy.API(auth, wait_on_rate_limit=True)\n",
    "\n",
    "# NOTE TO STUDENT WITH MOBILE VERIFICATION ISSUES:\n",
    "# df_1 is a DataFrame with the twitter_archive_enhanced.csv file. You may have to\n",
    "# change line 17 to match the name of your DataFrame with twitter_archive_enhanced.csv\n",
    "# NOTE TO REVIEWER: this student had mobile verification issues so the following\n",
    "# Twitter API code was sent to this student from a Udacity instructor\n",
    "# Tweet IDs for which to gather additional data via Twitter's API\n",
    "tweet_ids = df_1.tweet_id.values\n",
    "len(tweet_ids)\n",
    "\n",
    "# Query Twitter's API for JSON data for each tweet ID in the Twitter archive\n",
    "count = 0\n",
    "fails_dict = {}\n",
    "start = timer()\n",
    "# Save each tweet's returned JSON as a new line in a .txt file\n",
    "with open('tweet_json.txt', 'w') as outfile:\n",
    "    # This loop will likely take 20-30 minutes to run because of Twitter's rate limit\n",
    "    for tweet_id in tweet_ids:\n",
    "        count += 1\n",
    "        print(str(count) + \": \" + str(tweet_id))\n",
    "        try:\n",
    "            tweet = api.get_status(tweet_id, tweet_mode='extended')\n",
    "            print(\"Success\")\n",
    "            json.dump(tweet._json, outfile)\n",
    "            outfile.write('\\n')\n",
    "        except tweepy.TweepError as e:\n",
    "            print(\"Fail\")\n",
    "            fails_dict[tweet_id] = e\n",
    "            pass\n",
    "end = timer()\n",
    "print(end - start)\n",
    "print(fails_dict)\n",
    "```"
   ]
  },
  {
   "cell_type": "code",
   "execution_count": null,
   "id": "515d7868",
   "metadata": {},
   "outputs": [],
   "source": []
  },
  {
   "cell_type": "code",
   "execution_count": 349,
   "id": "9640f1f2",
   "metadata": {},
   "outputs": [],
   "source": [
    "# Opening the json file and append to a new list\n",
    "df_list = []\n",
    "\n",
    "with open('tweet-json.txt') as file:\n",
    "    for line in file:\n",
    "        df_list.append(json.loads(line))"
   ]
  },
  {
   "cell_type": "code",
   "execution_count": 350,
   "id": "211bbc53",
   "metadata": {},
   "outputs": [],
   "source": [
    "# Reading the json file line by line into a pandas DataFrame\n",
    "tweet_data = pd.DataFrame(df_list, columns = ['id', 'retweet_count', 'favorite_count'])"
   ]
  },
  {
   "cell_type": "code",
   "execution_count": null,
   "id": "d7520bcd",
   "metadata": {},
   "outputs": [],
   "source": []
  },
  {
   "cell_type": "markdown",
   "id": "95a24442",
   "metadata": {},
   "source": [
    "## Assessing Data"
   ]
  },
  {
   "cell_type": "markdown",
   "id": "4d5566fd",
   "metadata": {},
   "source": [
    "In the cells below, each column of each table in this WeRateDogs dataset is described. To see the table that goes hand in hand with these descriptions, do visual assessment in pandas."
   ]
  },
  {
   "cell_type": "markdown",
   "id": "66cad687",
   "metadata": {},
   "source": [
    "### Visual assessment\n",
    "Each piece of gathered data is displayed in the Jupyter Notebook for visual assessment purposes."
   ]
  },
  {
   "cell_type": "code",
   "execution_count": null,
   "id": "b16a6db1",
   "metadata": {},
   "outputs": [],
   "source": []
  },
  {
   "cell_type": "code",
   "execution_count": 351,
   "id": "a1db7347",
   "metadata": {},
   "outputs": [
    {
     "data": {
      "text/html": [
       "<div>\n",
       "<style scoped>\n",
       "    .dataframe tbody tr th:only-of-type {\n",
       "        vertical-align: middle;\n",
       "    }\n",
       "\n",
       "    .dataframe tbody tr th {\n",
       "        vertical-align: top;\n",
       "    }\n",
       "\n",
       "    .dataframe thead th {\n",
       "        text-align: right;\n",
       "    }\n",
       "</style>\n",
       "<table border=\"1\" class=\"dataframe\">\n",
       "  <thead>\n",
       "    <tr style=\"text-align: right;\">\n",
       "      <th></th>\n",
       "      <th>tweet_id</th>\n",
       "      <th>in_reply_to_status_id</th>\n",
       "      <th>in_reply_to_user_id</th>\n",
       "      <th>timestamp</th>\n",
       "      <th>source</th>\n",
       "      <th>text</th>\n",
       "      <th>retweeted_status_id</th>\n",
       "      <th>retweeted_status_user_id</th>\n",
       "      <th>retweeted_status_timestamp</th>\n",
       "      <th>expanded_urls</th>\n",
       "      <th>rating_numerator</th>\n",
       "      <th>rating_denominator</th>\n",
       "      <th>name</th>\n",
       "      <th>doggo</th>\n",
       "      <th>floofer</th>\n",
       "      <th>pupper</th>\n",
       "      <th>puppo</th>\n",
       "    </tr>\n",
       "  </thead>\n",
       "  <tbody>\n",
       "    <tr>\n",
       "      <th>0</th>\n",
       "      <td>892420643555336193</td>\n",
       "      <td>NaN</td>\n",
       "      <td>NaN</td>\n",
       "      <td>2017-08-01 16:23:56 +0000</td>\n",
       "      <td>&lt;a href=\"http://twitter.com/download/iphone\" r...</td>\n",
       "      <td>This is Phineas. He's a mystical boy. Only eve...</td>\n",
       "      <td>NaN</td>\n",
       "      <td>NaN</td>\n",
       "      <td>NaN</td>\n",
       "      <td>https://twitter.com/dog_rates/status/892420643...</td>\n",
       "      <td>13</td>\n",
       "      <td>10</td>\n",
       "      <td>Phineas</td>\n",
       "      <td>None</td>\n",
       "      <td>None</td>\n",
       "      <td>None</td>\n",
       "      <td>None</td>\n",
       "    </tr>\n",
       "    <tr>\n",
       "      <th>1</th>\n",
       "      <td>892177421306343426</td>\n",
       "      <td>NaN</td>\n",
       "      <td>NaN</td>\n",
       "      <td>2017-08-01 00:17:27 +0000</td>\n",
       "      <td>&lt;a href=\"http://twitter.com/download/iphone\" r...</td>\n",
       "      <td>This is Tilly. She's just checking pup on you....</td>\n",
       "      <td>NaN</td>\n",
       "      <td>NaN</td>\n",
       "      <td>NaN</td>\n",
       "      <td>https://twitter.com/dog_rates/status/892177421...</td>\n",
       "      <td>13</td>\n",
       "      <td>10</td>\n",
       "      <td>Tilly</td>\n",
       "      <td>None</td>\n",
       "      <td>None</td>\n",
       "      <td>None</td>\n",
       "      <td>None</td>\n",
       "    </tr>\n",
       "    <tr>\n",
       "      <th>2</th>\n",
       "      <td>891815181378084864</td>\n",
       "      <td>NaN</td>\n",
       "      <td>NaN</td>\n",
       "      <td>2017-07-31 00:18:03 +0000</td>\n",
       "      <td>&lt;a href=\"http://twitter.com/download/iphone\" r...</td>\n",
       "      <td>This is Archie. He is a rare Norwegian Pouncin...</td>\n",
       "      <td>NaN</td>\n",
       "      <td>NaN</td>\n",
       "      <td>NaN</td>\n",
       "      <td>https://twitter.com/dog_rates/status/891815181...</td>\n",
       "      <td>12</td>\n",
       "      <td>10</td>\n",
       "      <td>Archie</td>\n",
       "      <td>None</td>\n",
       "      <td>None</td>\n",
       "      <td>None</td>\n",
       "      <td>None</td>\n",
       "    </tr>\n",
       "    <tr>\n",
       "      <th>3</th>\n",
       "      <td>891689557279858688</td>\n",
       "      <td>NaN</td>\n",
       "      <td>NaN</td>\n",
       "      <td>2017-07-30 15:58:51 +0000</td>\n",
       "      <td>&lt;a href=\"http://twitter.com/download/iphone\" r...</td>\n",
       "      <td>This is Darla. She commenced a snooze mid meal...</td>\n",
       "      <td>NaN</td>\n",
       "      <td>NaN</td>\n",
       "      <td>NaN</td>\n",
       "      <td>https://twitter.com/dog_rates/status/891689557...</td>\n",
       "      <td>13</td>\n",
       "      <td>10</td>\n",
       "      <td>Darla</td>\n",
       "      <td>None</td>\n",
       "      <td>None</td>\n",
       "      <td>None</td>\n",
       "      <td>None</td>\n",
       "    </tr>\n",
       "    <tr>\n",
       "      <th>4</th>\n",
       "      <td>891327558926688256</td>\n",
       "      <td>NaN</td>\n",
       "      <td>NaN</td>\n",
       "      <td>2017-07-29 16:00:24 +0000</td>\n",
       "      <td>&lt;a href=\"http://twitter.com/download/iphone\" r...</td>\n",
       "      <td>This is Franklin. He would like you to stop ca...</td>\n",
       "      <td>NaN</td>\n",
       "      <td>NaN</td>\n",
       "      <td>NaN</td>\n",
       "      <td>https://twitter.com/dog_rates/status/891327558...</td>\n",
       "      <td>12</td>\n",
       "      <td>10</td>\n",
       "      <td>Franklin</td>\n",
       "      <td>None</td>\n",
       "      <td>None</td>\n",
       "      <td>None</td>\n",
       "      <td>None</td>\n",
       "    </tr>\n",
       "    <tr>\n",
       "      <th>...</th>\n",
       "      <td>...</td>\n",
       "      <td>...</td>\n",
       "      <td>...</td>\n",
       "      <td>...</td>\n",
       "      <td>...</td>\n",
       "      <td>...</td>\n",
       "      <td>...</td>\n",
       "      <td>...</td>\n",
       "      <td>...</td>\n",
       "      <td>...</td>\n",
       "      <td>...</td>\n",
       "      <td>...</td>\n",
       "      <td>...</td>\n",
       "      <td>...</td>\n",
       "      <td>...</td>\n",
       "      <td>...</td>\n",
       "      <td>...</td>\n",
       "    </tr>\n",
       "    <tr>\n",
       "      <th>2351</th>\n",
       "      <td>666049248165822465</td>\n",
       "      <td>NaN</td>\n",
       "      <td>NaN</td>\n",
       "      <td>2015-11-16 00:24:50 +0000</td>\n",
       "      <td>&lt;a href=\"http://twitter.com/download/iphone\" r...</td>\n",
       "      <td>Here we have a 1949 1st generation vulpix. Enj...</td>\n",
       "      <td>NaN</td>\n",
       "      <td>NaN</td>\n",
       "      <td>NaN</td>\n",
       "      <td>https://twitter.com/dog_rates/status/666049248...</td>\n",
       "      <td>5</td>\n",
       "      <td>10</td>\n",
       "      <td>None</td>\n",
       "      <td>None</td>\n",
       "      <td>None</td>\n",
       "      <td>None</td>\n",
       "      <td>None</td>\n",
       "    </tr>\n",
       "    <tr>\n",
       "      <th>2352</th>\n",
       "      <td>666044226329800704</td>\n",
       "      <td>NaN</td>\n",
       "      <td>NaN</td>\n",
       "      <td>2015-11-16 00:04:52 +0000</td>\n",
       "      <td>&lt;a href=\"http://twitter.com/download/iphone\" r...</td>\n",
       "      <td>This is a purebred Piers Morgan. Loves to Netf...</td>\n",
       "      <td>NaN</td>\n",
       "      <td>NaN</td>\n",
       "      <td>NaN</td>\n",
       "      <td>https://twitter.com/dog_rates/status/666044226...</td>\n",
       "      <td>6</td>\n",
       "      <td>10</td>\n",
       "      <td>a</td>\n",
       "      <td>None</td>\n",
       "      <td>None</td>\n",
       "      <td>None</td>\n",
       "      <td>None</td>\n",
       "    </tr>\n",
       "    <tr>\n",
       "      <th>2353</th>\n",
       "      <td>666033412701032449</td>\n",
       "      <td>NaN</td>\n",
       "      <td>NaN</td>\n",
       "      <td>2015-11-15 23:21:54 +0000</td>\n",
       "      <td>&lt;a href=\"http://twitter.com/download/iphone\" r...</td>\n",
       "      <td>Here is a very happy pup. Big fan of well-main...</td>\n",
       "      <td>NaN</td>\n",
       "      <td>NaN</td>\n",
       "      <td>NaN</td>\n",
       "      <td>https://twitter.com/dog_rates/status/666033412...</td>\n",
       "      <td>9</td>\n",
       "      <td>10</td>\n",
       "      <td>a</td>\n",
       "      <td>None</td>\n",
       "      <td>None</td>\n",
       "      <td>None</td>\n",
       "      <td>None</td>\n",
       "    </tr>\n",
       "    <tr>\n",
       "      <th>2354</th>\n",
       "      <td>666029285002620928</td>\n",
       "      <td>NaN</td>\n",
       "      <td>NaN</td>\n",
       "      <td>2015-11-15 23:05:30 +0000</td>\n",
       "      <td>&lt;a href=\"http://twitter.com/download/iphone\" r...</td>\n",
       "      <td>This is a western brown Mitsubishi terrier. Up...</td>\n",
       "      <td>NaN</td>\n",
       "      <td>NaN</td>\n",
       "      <td>NaN</td>\n",
       "      <td>https://twitter.com/dog_rates/status/666029285...</td>\n",
       "      <td>7</td>\n",
       "      <td>10</td>\n",
       "      <td>a</td>\n",
       "      <td>None</td>\n",
       "      <td>None</td>\n",
       "      <td>None</td>\n",
       "      <td>None</td>\n",
       "    </tr>\n",
       "    <tr>\n",
       "      <th>2355</th>\n",
       "      <td>666020888022790149</td>\n",
       "      <td>NaN</td>\n",
       "      <td>NaN</td>\n",
       "      <td>2015-11-15 22:32:08 +0000</td>\n",
       "      <td>&lt;a href=\"http://twitter.com/download/iphone\" r...</td>\n",
       "      <td>Here we have a Japanese Irish Setter. Lost eye...</td>\n",
       "      <td>NaN</td>\n",
       "      <td>NaN</td>\n",
       "      <td>NaN</td>\n",
       "      <td>https://twitter.com/dog_rates/status/666020888...</td>\n",
       "      <td>8</td>\n",
       "      <td>10</td>\n",
       "      <td>None</td>\n",
       "      <td>None</td>\n",
       "      <td>None</td>\n",
       "      <td>None</td>\n",
       "      <td>None</td>\n",
       "    </tr>\n",
       "  </tbody>\n",
       "</table>\n",
       "<p>2356 rows × 17 columns</p>\n",
       "</div>"
      ],
      "text/plain": [
       "                tweet_id  in_reply_to_status_id  in_reply_to_user_id  \\\n",
       "0     892420643555336193                    NaN                  NaN   \n",
       "1     892177421306343426                    NaN                  NaN   \n",
       "2     891815181378084864                    NaN                  NaN   \n",
       "3     891689557279858688                    NaN                  NaN   \n",
       "4     891327558926688256                    NaN                  NaN   \n",
       "...                  ...                    ...                  ...   \n",
       "2351  666049248165822465                    NaN                  NaN   \n",
       "2352  666044226329800704                    NaN                  NaN   \n",
       "2353  666033412701032449                    NaN                  NaN   \n",
       "2354  666029285002620928                    NaN                  NaN   \n",
       "2355  666020888022790149                    NaN                  NaN   \n",
       "\n",
       "                      timestamp  \\\n",
       "0     2017-08-01 16:23:56 +0000   \n",
       "1     2017-08-01 00:17:27 +0000   \n",
       "2     2017-07-31 00:18:03 +0000   \n",
       "3     2017-07-30 15:58:51 +0000   \n",
       "4     2017-07-29 16:00:24 +0000   \n",
       "...                         ...   \n",
       "2351  2015-11-16 00:24:50 +0000   \n",
       "2352  2015-11-16 00:04:52 +0000   \n",
       "2353  2015-11-15 23:21:54 +0000   \n",
       "2354  2015-11-15 23:05:30 +0000   \n",
       "2355  2015-11-15 22:32:08 +0000   \n",
       "\n",
       "                                                 source  \\\n",
       "0     <a href=\"http://twitter.com/download/iphone\" r...   \n",
       "1     <a href=\"http://twitter.com/download/iphone\" r...   \n",
       "2     <a href=\"http://twitter.com/download/iphone\" r...   \n",
       "3     <a href=\"http://twitter.com/download/iphone\" r...   \n",
       "4     <a href=\"http://twitter.com/download/iphone\" r...   \n",
       "...                                                 ...   \n",
       "2351  <a href=\"http://twitter.com/download/iphone\" r...   \n",
       "2352  <a href=\"http://twitter.com/download/iphone\" r...   \n",
       "2353  <a href=\"http://twitter.com/download/iphone\" r...   \n",
       "2354  <a href=\"http://twitter.com/download/iphone\" r...   \n",
       "2355  <a href=\"http://twitter.com/download/iphone\" r...   \n",
       "\n",
       "                                                   text  retweeted_status_id  \\\n",
       "0     This is Phineas. He's a mystical boy. Only eve...                  NaN   \n",
       "1     This is Tilly. She's just checking pup on you....                  NaN   \n",
       "2     This is Archie. He is a rare Norwegian Pouncin...                  NaN   \n",
       "3     This is Darla. She commenced a snooze mid meal...                  NaN   \n",
       "4     This is Franklin. He would like you to stop ca...                  NaN   \n",
       "...                                                 ...                  ...   \n",
       "2351  Here we have a 1949 1st generation vulpix. Enj...                  NaN   \n",
       "2352  This is a purebred Piers Morgan. Loves to Netf...                  NaN   \n",
       "2353  Here is a very happy pup. Big fan of well-main...                  NaN   \n",
       "2354  This is a western brown Mitsubishi terrier. Up...                  NaN   \n",
       "2355  Here we have a Japanese Irish Setter. Lost eye...                  NaN   \n",
       "\n",
       "      retweeted_status_user_id retweeted_status_timestamp  \\\n",
       "0                          NaN                        NaN   \n",
       "1                          NaN                        NaN   \n",
       "2                          NaN                        NaN   \n",
       "3                          NaN                        NaN   \n",
       "4                          NaN                        NaN   \n",
       "...                        ...                        ...   \n",
       "2351                       NaN                        NaN   \n",
       "2352                       NaN                        NaN   \n",
       "2353                       NaN                        NaN   \n",
       "2354                       NaN                        NaN   \n",
       "2355                       NaN                        NaN   \n",
       "\n",
       "                                          expanded_urls  rating_numerator  \\\n",
       "0     https://twitter.com/dog_rates/status/892420643...                13   \n",
       "1     https://twitter.com/dog_rates/status/892177421...                13   \n",
       "2     https://twitter.com/dog_rates/status/891815181...                12   \n",
       "3     https://twitter.com/dog_rates/status/891689557...                13   \n",
       "4     https://twitter.com/dog_rates/status/891327558...                12   \n",
       "...                                                 ...               ...   \n",
       "2351  https://twitter.com/dog_rates/status/666049248...                 5   \n",
       "2352  https://twitter.com/dog_rates/status/666044226...                 6   \n",
       "2353  https://twitter.com/dog_rates/status/666033412...                 9   \n",
       "2354  https://twitter.com/dog_rates/status/666029285...                 7   \n",
       "2355  https://twitter.com/dog_rates/status/666020888...                 8   \n",
       "\n",
       "      rating_denominator      name doggo floofer pupper puppo  \n",
       "0                     10   Phineas  None    None   None  None  \n",
       "1                     10     Tilly  None    None   None  None  \n",
       "2                     10    Archie  None    None   None  None  \n",
       "3                     10     Darla  None    None   None  None  \n",
       "4                     10  Franklin  None    None   None  None  \n",
       "...                  ...       ...   ...     ...    ...   ...  \n",
       "2351                  10      None  None    None   None  None  \n",
       "2352                  10         a  None    None   None  None  \n",
       "2353                  10         a  None    None   None  None  \n",
       "2354                  10         a  None    None   None  None  \n",
       "2355                  10      None  None    None   None  None  \n",
       "\n",
       "[2356 rows x 17 columns]"
      ]
     },
     "execution_count": 351,
     "metadata": {},
     "output_type": "execute_result"
    }
   ],
   "source": [
    "twitter_archive_enhanced"
   ]
  },
  {
   "cell_type": "markdown",
   "id": "0dc2c706",
   "metadata": {},
   "source": [
    "`twitter_archive_enhanced` columns: "
   ]
  },
  {
   "cell_type": "code",
   "execution_count": null,
   "id": "b19a704a",
   "metadata": {},
   "outputs": [],
   "source": []
  },
  {
   "cell_type": "code",
   "execution_count": null,
   "id": "8f3ba73d",
   "metadata": {},
   "outputs": [],
   "source": []
  },
  {
   "cell_type": "code",
   "execution_count": 352,
   "id": "e0786a6e",
   "metadata": {},
   "outputs": [
    {
     "data": {
      "text/html": [
       "<div>\n",
       "<style scoped>\n",
       "    .dataframe tbody tr th:only-of-type {\n",
       "        vertical-align: middle;\n",
       "    }\n",
       "\n",
       "    .dataframe tbody tr th {\n",
       "        vertical-align: top;\n",
       "    }\n",
       "\n",
       "    .dataframe thead th {\n",
       "        text-align: right;\n",
       "    }\n",
       "</style>\n",
       "<table border=\"1\" class=\"dataframe\">\n",
       "  <thead>\n",
       "    <tr style=\"text-align: right;\">\n",
       "      <th></th>\n",
       "      <th>tweet_id</th>\n",
       "      <th>jpg_url</th>\n",
       "      <th>img_num</th>\n",
       "      <th>p1</th>\n",
       "      <th>p1_conf</th>\n",
       "      <th>p1_dog</th>\n",
       "      <th>p2</th>\n",
       "      <th>p2_conf</th>\n",
       "      <th>p2_dog</th>\n",
       "      <th>p3</th>\n",
       "      <th>p3_conf</th>\n",
       "      <th>p3_dog</th>\n",
       "    </tr>\n",
       "  </thead>\n",
       "  <tbody>\n",
       "    <tr>\n",
       "      <th>0</th>\n",
       "      <td>666020888022790149</td>\n",
       "      <td>https://pbs.twimg.com/media/CT4udn0WwAA0aMy.jpg</td>\n",
       "      <td>1</td>\n",
       "      <td>Welsh_springer_spaniel</td>\n",
       "      <td>0.465074</td>\n",
       "      <td>True</td>\n",
       "      <td>collie</td>\n",
       "      <td>0.156665</td>\n",
       "      <td>True</td>\n",
       "      <td>Shetland_sheepdog</td>\n",
       "      <td>0.061428</td>\n",
       "      <td>True</td>\n",
       "    </tr>\n",
       "    <tr>\n",
       "      <th>1</th>\n",
       "      <td>666029285002620928</td>\n",
       "      <td>https://pbs.twimg.com/media/CT42GRgUYAA5iDo.jpg</td>\n",
       "      <td>1</td>\n",
       "      <td>redbone</td>\n",
       "      <td>0.506826</td>\n",
       "      <td>True</td>\n",
       "      <td>miniature_pinscher</td>\n",
       "      <td>0.074192</td>\n",
       "      <td>True</td>\n",
       "      <td>Rhodesian_ridgeback</td>\n",
       "      <td>0.072010</td>\n",
       "      <td>True</td>\n",
       "    </tr>\n",
       "    <tr>\n",
       "      <th>2</th>\n",
       "      <td>666033412701032449</td>\n",
       "      <td>https://pbs.twimg.com/media/CT4521TWwAEvMyu.jpg</td>\n",
       "      <td>1</td>\n",
       "      <td>German_shepherd</td>\n",
       "      <td>0.596461</td>\n",
       "      <td>True</td>\n",
       "      <td>malinois</td>\n",
       "      <td>0.138584</td>\n",
       "      <td>True</td>\n",
       "      <td>bloodhound</td>\n",
       "      <td>0.116197</td>\n",
       "      <td>True</td>\n",
       "    </tr>\n",
       "    <tr>\n",
       "      <th>3</th>\n",
       "      <td>666044226329800704</td>\n",
       "      <td>https://pbs.twimg.com/media/CT5Dr8HUEAA-lEu.jpg</td>\n",
       "      <td>1</td>\n",
       "      <td>Rhodesian_ridgeback</td>\n",
       "      <td>0.408143</td>\n",
       "      <td>True</td>\n",
       "      <td>redbone</td>\n",
       "      <td>0.360687</td>\n",
       "      <td>True</td>\n",
       "      <td>miniature_pinscher</td>\n",
       "      <td>0.222752</td>\n",
       "      <td>True</td>\n",
       "    </tr>\n",
       "    <tr>\n",
       "      <th>4</th>\n",
       "      <td>666049248165822465</td>\n",
       "      <td>https://pbs.twimg.com/media/CT5IQmsXIAAKY4A.jpg</td>\n",
       "      <td>1</td>\n",
       "      <td>miniature_pinscher</td>\n",
       "      <td>0.560311</td>\n",
       "      <td>True</td>\n",
       "      <td>Rottweiler</td>\n",
       "      <td>0.243682</td>\n",
       "      <td>True</td>\n",
       "      <td>Doberman</td>\n",
       "      <td>0.154629</td>\n",
       "      <td>True</td>\n",
       "    </tr>\n",
       "    <tr>\n",
       "      <th>...</th>\n",
       "      <td>...</td>\n",
       "      <td>...</td>\n",
       "      <td>...</td>\n",
       "      <td>...</td>\n",
       "      <td>...</td>\n",
       "      <td>...</td>\n",
       "      <td>...</td>\n",
       "      <td>...</td>\n",
       "      <td>...</td>\n",
       "      <td>...</td>\n",
       "      <td>...</td>\n",
       "      <td>...</td>\n",
       "    </tr>\n",
       "    <tr>\n",
       "      <th>2070</th>\n",
       "      <td>891327558926688256</td>\n",
       "      <td>https://pbs.twimg.com/media/DF6hr6BUMAAzZgT.jpg</td>\n",
       "      <td>2</td>\n",
       "      <td>basset</td>\n",
       "      <td>0.555712</td>\n",
       "      <td>True</td>\n",
       "      <td>English_springer</td>\n",
       "      <td>0.225770</td>\n",
       "      <td>True</td>\n",
       "      <td>German_short-haired_pointer</td>\n",
       "      <td>0.175219</td>\n",
       "      <td>True</td>\n",
       "    </tr>\n",
       "    <tr>\n",
       "      <th>2071</th>\n",
       "      <td>891689557279858688</td>\n",
       "      <td>https://pbs.twimg.com/media/DF_q7IAWsAEuuN8.jpg</td>\n",
       "      <td>1</td>\n",
       "      <td>paper_towel</td>\n",
       "      <td>0.170278</td>\n",
       "      <td>False</td>\n",
       "      <td>Labrador_retriever</td>\n",
       "      <td>0.168086</td>\n",
       "      <td>True</td>\n",
       "      <td>spatula</td>\n",
       "      <td>0.040836</td>\n",
       "      <td>False</td>\n",
       "    </tr>\n",
       "    <tr>\n",
       "      <th>2072</th>\n",
       "      <td>891815181378084864</td>\n",
       "      <td>https://pbs.twimg.com/media/DGBdLU1WsAANxJ9.jpg</td>\n",
       "      <td>1</td>\n",
       "      <td>Chihuahua</td>\n",
       "      <td>0.716012</td>\n",
       "      <td>True</td>\n",
       "      <td>malamute</td>\n",
       "      <td>0.078253</td>\n",
       "      <td>True</td>\n",
       "      <td>kelpie</td>\n",
       "      <td>0.031379</td>\n",
       "      <td>True</td>\n",
       "    </tr>\n",
       "    <tr>\n",
       "      <th>2073</th>\n",
       "      <td>892177421306343426</td>\n",
       "      <td>https://pbs.twimg.com/media/DGGmoV4XsAAUL6n.jpg</td>\n",
       "      <td>1</td>\n",
       "      <td>Chihuahua</td>\n",
       "      <td>0.323581</td>\n",
       "      <td>True</td>\n",
       "      <td>Pekinese</td>\n",
       "      <td>0.090647</td>\n",
       "      <td>True</td>\n",
       "      <td>papillon</td>\n",
       "      <td>0.068957</td>\n",
       "      <td>True</td>\n",
       "    </tr>\n",
       "    <tr>\n",
       "      <th>2074</th>\n",
       "      <td>892420643555336193</td>\n",
       "      <td>https://pbs.twimg.com/media/DGKD1-bXoAAIAUK.jpg</td>\n",
       "      <td>1</td>\n",
       "      <td>orange</td>\n",
       "      <td>0.097049</td>\n",
       "      <td>False</td>\n",
       "      <td>bagel</td>\n",
       "      <td>0.085851</td>\n",
       "      <td>False</td>\n",
       "      <td>banana</td>\n",
       "      <td>0.076110</td>\n",
       "      <td>False</td>\n",
       "    </tr>\n",
       "  </tbody>\n",
       "</table>\n",
       "<p>2075 rows × 12 columns</p>\n",
       "</div>"
      ],
      "text/plain": [
       "                tweet_id                                          jpg_url  \\\n",
       "0     666020888022790149  https://pbs.twimg.com/media/CT4udn0WwAA0aMy.jpg   \n",
       "1     666029285002620928  https://pbs.twimg.com/media/CT42GRgUYAA5iDo.jpg   \n",
       "2     666033412701032449  https://pbs.twimg.com/media/CT4521TWwAEvMyu.jpg   \n",
       "3     666044226329800704  https://pbs.twimg.com/media/CT5Dr8HUEAA-lEu.jpg   \n",
       "4     666049248165822465  https://pbs.twimg.com/media/CT5IQmsXIAAKY4A.jpg   \n",
       "...                  ...                                              ...   \n",
       "2070  891327558926688256  https://pbs.twimg.com/media/DF6hr6BUMAAzZgT.jpg   \n",
       "2071  891689557279858688  https://pbs.twimg.com/media/DF_q7IAWsAEuuN8.jpg   \n",
       "2072  891815181378084864  https://pbs.twimg.com/media/DGBdLU1WsAANxJ9.jpg   \n",
       "2073  892177421306343426  https://pbs.twimg.com/media/DGGmoV4XsAAUL6n.jpg   \n",
       "2074  892420643555336193  https://pbs.twimg.com/media/DGKD1-bXoAAIAUK.jpg   \n",
       "\n",
       "      img_num                      p1   p1_conf  p1_dog                  p2  \\\n",
       "0           1  Welsh_springer_spaniel  0.465074    True              collie   \n",
       "1           1                 redbone  0.506826    True  miniature_pinscher   \n",
       "2           1         German_shepherd  0.596461    True            malinois   \n",
       "3           1     Rhodesian_ridgeback  0.408143    True             redbone   \n",
       "4           1      miniature_pinscher  0.560311    True          Rottweiler   \n",
       "...       ...                     ...       ...     ...                 ...   \n",
       "2070        2                  basset  0.555712    True    English_springer   \n",
       "2071        1             paper_towel  0.170278   False  Labrador_retriever   \n",
       "2072        1               Chihuahua  0.716012    True            malamute   \n",
       "2073        1               Chihuahua  0.323581    True            Pekinese   \n",
       "2074        1                  orange  0.097049   False               bagel   \n",
       "\n",
       "       p2_conf  p2_dog                           p3   p3_conf  p3_dog  \n",
       "0     0.156665    True            Shetland_sheepdog  0.061428    True  \n",
       "1     0.074192    True          Rhodesian_ridgeback  0.072010    True  \n",
       "2     0.138584    True                   bloodhound  0.116197    True  \n",
       "3     0.360687    True           miniature_pinscher  0.222752    True  \n",
       "4     0.243682    True                     Doberman  0.154629    True  \n",
       "...        ...     ...                          ...       ...     ...  \n",
       "2070  0.225770    True  German_short-haired_pointer  0.175219    True  \n",
       "2071  0.168086    True                      spatula  0.040836   False  \n",
       "2072  0.078253    True                       kelpie  0.031379    True  \n",
       "2073  0.090647    True                     papillon  0.068957    True  \n",
       "2074  0.085851   False                       banana  0.076110   False  \n",
       "\n",
       "[2075 rows x 12 columns]"
      ]
     },
     "execution_count": 352,
     "metadata": {},
     "output_type": "execute_result"
    }
   ],
   "source": [
    "image_predictions"
   ]
  },
  {
   "cell_type": "markdown",
   "id": "a068a8d6",
   "metadata": {},
   "source": [
    "`image_predictions` columns: "
   ]
  },
  {
   "cell_type": "code",
   "execution_count": null,
   "id": "4d02c4ac",
   "metadata": {},
   "outputs": [],
   "source": []
  },
  {
   "cell_type": "code",
   "execution_count": null,
   "id": "4cc1288e",
   "metadata": {},
   "outputs": [],
   "source": []
  },
  {
   "cell_type": "code",
   "execution_count": 353,
   "id": "ebf37d8c",
   "metadata": {},
   "outputs": [
    {
     "data": {
      "text/html": [
       "<div>\n",
       "<style scoped>\n",
       "    .dataframe tbody tr th:only-of-type {\n",
       "        vertical-align: middle;\n",
       "    }\n",
       "\n",
       "    .dataframe tbody tr th {\n",
       "        vertical-align: top;\n",
       "    }\n",
       "\n",
       "    .dataframe thead th {\n",
       "        text-align: right;\n",
       "    }\n",
       "</style>\n",
       "<table border=\"1\" class=\"dataframe\">\n",
       "  <thead>\n",
       "    <tr style=\"text-align: right;\">\n",
       "      <th></th>\n",
       "      <th>id</th>\n",
       "      <th>retweet_count</th>\n",
       "      <th>favorite_count</th>\n",
       "    </tr>\n",
       "  </thead>\n",
       "  <tbody>\n",
       "    <tr>\n",
       "      <th>0</th>\n",
       "      <td>892420643555336193</td>\n",
       "      <td>8853</td>\n",
       "      <td>39467</td>\n",
       "    </tr>\n",
       "    <tr>\n",
       "      <th>1</th>\n",
       "      <td>892177421306343426</td>\n",
       "      <td>6514</td>\n",
       "      <td>33819</td>\n",
       "    </tr>\n",
       "    <tr>\n",
       "      <th>2</th>\n",
       "      <td>891815181378084864</td>\n",
       "      <td>4328</td>\n",
       "      <td>25461</td>\n",
       "    </tr>\n",
       "    <tr>\n",
       "      <th>3</th>\n",
       "      <td>891689557279858688</td>\n",
       "      <td>8964</td>\n",
       "      <td>42908</td>\n",
       "    </tr>\n",
       "    <tr>\n",
       "      <th>4</th>\n",
       "      <td>891327558926688256</td>\n",
       "      <td>9774</td>\n",
       "      <td>41048</td>\n",
       "    </tr>\n",
       "    <tr>\n",
       "      <th>...</th>\n",
       "      <td>...</td>\n",
       "      <td>...</td>\n",
       "      <td>...</td>\n",
       "    </tr>\n",
       "    <tr>\n",
       "      <th>2349</th>\n",
       "      <td>666049248165822465</td>\n",
       "      <td>41</td>\n",
       "      <td>111</td>\n",
       "    </tr>\n",
       "    <tr>\n",
       "      <th>2350</th>\n",
       "      <td>666044226329800704</td>\n",
       "      <td>147</td>\n",
       "      <td>311</td>\n",
       "    </tr>\n",
       "    <tr>\n",
       "      <th>2351</th>\n",
       "      <td>666033412701032449</td>\n",
       "      <td>47</td>\n",
       "      <td>128</td>\n",
       "    </tr>\n",
       "    <tr>\n",
       "      <th>2352</th>\n",
       "      <td>666029285002620928</td>\n",
       "      <td>48</td>\n",
       "      <td>132</td>\n",
       "    </tr>\n",
       "    <tr>\n",
       "      <th>2353</th>\n",
       "      <td>666020888022790149</td>\n",
       "      <td>532</td>\n",
       "      <td>2535</td>\n",
       "    </tr>\n",
       "  </tbody>\n",
       "</table>\n",
       "<p>2354 rows × 3 columns</p>\n",
       "</div>"
      ],
      "text/plain": [
       "                      id  retweet_count  favorite_count\n",
       "0     892420643555336193           8853           39467\n",
       "1     892177421306343426           6514           33819\n",
       "2     891815181378084864           4328           25461\n",
       "3     891689557279858688           8964           42908\n",
       "4     891327558926688256           9774           41048\n",
       "...                  ...            ...             ...\n",
       "2349  666049248165822465             41             111\n",
       "2350  666044226329800704            147             311\n",
       "2351  666033412701032449             47             128\n",
       "2352  666029285002620928             48             132\n",
       "2353  666020888022790149            532            2535\n",
       "\n",
       "[2354 rows x 3 columns]"
      ]
     },
     "execution_count": 353,
     "metadata": {},
     "output_type": "execute_result"
    }
   ],
   "source": [
    "tweet_data"
   ]
  },
  {
   "cell_type": "markdown",
   "id": "39a5d4fc",
   "metadata": {},
   "source": [
    "`tweet_data` columns: "
   ]
  },
  {
   "cell_type": "code",
   "execution_count": null,
   "id": "6a67a404",
   "metadata": {},
   "outputs": [],
   "source": []
  },
  {
   "cell_type": "code",
   "execution_count": null,
   "id": "f14906e6",
   "metadata": {},
   "outputs": [],
   "source": []
  },
  {
   "cell_type": "markdown",
   "id": "49a7bea6",
   "metadata": {},
   "source": [
    "### Programmatic assessment\n",
    "Pandas' functions and/or methods are used to assess the data."
   ]
  },
  {
   "cell_type": "code",
   "execution_count": null,
   "id": "1c78e9c1",
   "metadata": {},
   "outputs": [],
   "source": []
  },
  {
   "cell_type": "code",
   "execution_count": 354,
   "id": "4af0fbe4",
   "metadata": {},
   "outputs": [
    {
     "data": {
      "text/html": [
       "<div>\n",
       "<style scoped>\n",
       "    .dataframe tbody tr th:only-of-type {\n",
       "        vertical-align: middle;\n",
       "    }\n",
       "\n",
       "    .dataframe tbody tr th {\n",
       "        vertical-align: top;\n",
       "    }\n",
       "\n",
       "    .dataframe thead th {\n",
       "        text-align: right;\n",
       "    }\n",
       "</style>\n",
       "<table border=\"1\" class=\"dataframe\">\n",
       "  <thead>\n",
       "    <tr style=\"text-align: right;\">\n",
       "      <th></th>\n",
       "      <th>tweet_id</th>\n",
       "      <th>in_reply_to_status_id</th>\n",
       "      <th>in_reply_to_user_id</th>\n",
       "      <th>timestamp</th>\n",
       "      <th>source</th>\n",
       "      <th>text</th>\n",
       "      <th>retweeted_status_id</th>\n",
       "      <th>retweeted_status_user_id</th>\n",
       "      <th>retweeted_status_timestamp</th>\n",
       "      <th>expanded_urls</th>\n",
       "      <th>rating_numerator</th>\n",
       "      <th>rating_denominator</th>\n",
       "      <th>name</th>\n",
       "      <th>doggo</th>\n",
       "      <th>floofer</th>\n",
       "      <th>pupper</th>\n",
       "      <th>puppo</th>\n",
       "    </tr>\n",
       "  </thead>\n",
       "  <tbody>\n",
       "    <tr>\n",
       "      <th>1677</th>\n",
       "      <td>682059653698686977</td>\n",
       "      <td>NaN</td>\n",
       "      <td>NaN</td>\n",
       "      <td>2015-12-30 04:44:28 +0000</td>\n",
       "      <td>&lt;a href=\"http://twitter.com/download/iphone\" r...</td>\n",
       "      <td>This is Tess. Her main passions are shelves an...</td>\n",
       "      <td>NaN</td>\n",
       "      <td>NaN</td>\n",
       "      <td>NaN</td>\n",
       "      <td>https://twitter.com/dog_rates/status/682059653...</td>\n",
       "      <td>11</td>\n",
       "      <td>10</td>\n",
       "      <td>Tess</td>\n",
       "      <td>None</td>\n",
       "      <td>None</td>\n",
       "      <td>None</td>\n",
       "      <td>None</td>\n",
       "    </tr>\n",
       "    <tr>\n",
       "      <th>2153</th>\n",
       "      <td>669661792646373376</td>\n",
       "      <td>NaN</td>\n",
       "      <td>NaN</td>\n",
       "      <td>2015-11-25 23:39:47 +0000</td>\n",
       "      <td>&lt;a href=\"http://twitter.com/download/iphone\" r...</td>\n",
       "      <td>This is a brave dog. Excellent free climber. T...</td>\n",
       "      <td>NaN</td>\n",
       "      <td>NaN</td>\n",
       "      <td>NaN</td>\n",
       "      <td>https://twitter.com/dog_rates/status/669661792...</td>\n",
       "      <td>5</td>\n",
       "      <td>10</td>\n",
       "      <td>a</td>\n",
       "      <td>None</td>\n",
       "      <td>None</td>\n",
       "      <td>None</td>\n",
       "      <td>None</td>\n",
       "    </tr>\n",
       "    <tr>\n",
       "      <th>1772</th>\n",
       "      <td>678278586130948096</td>\n",
       "      <td>NaN</td>\n",
       "      <td>NaN</td>\n",
       "      <td>2015-12-19 18:19:51 +0000</td>\n",
       "      <td>&lt;a href=\"http://twitter.com/download/iphone\" r...</td>\n",
       "      <td>Another spooky pupper here. Most definitely fl...</td>\n",
       "      <td>NaN</td>\n",
       "      <td>NaN</td>\n",
       "      <td>NaN</td>\n",
       "      <td>https://twitter.com/dog_rates/status/678278586...</td>\n",
       "      <td>10</td>\n",
       "      <td>10</td>\n",
       "      <td>None</td>\n",
       "      <td>None</td>\n",
       "      <td>None</td>\n",
       "      <td>pupper</td>\n",
       "      <td>None</td>\n",
       "    </tr>\n",
       "    <tr>\n",
       "      <th>1748</th>\n",
       "      <td>679062614270468097</td>\n",
       "      <td>NaN</td>\n",
       "      <td>NaN</td>\n",
       "      <td>2015-12-21 22:15:18 +0000</td>\n",
       "      <td>&lt;a href=\"http://twitter.com/download/iphone\" r...</td>\n",
       "      <td>This is Chompsky. He lives up to his name. 11/...</td>\n",
       "      <td>NaN</td>\n",
       "      <td>NaN</td>\n",
       "      <td>NaN</td>\n",
       "      <td>https://twitter.com/dog_rates/status/679062614...</td>\n",
       "      <td>11</td>\n",
       "      <td>10</td>\n",
       "      <td>Chompsky</td>\n",
       "      <td>None</td>\n",
       "      <td>None</td>\n",
       "      <td>None</td>\n",
       "      <td>None</td>\n",
       "    </tr>\n",
       "  </tbody>\n",
       "</table>\n",
       "</div>"
      ],
      "text/plain": [
       "                tweet_id  in_reply_to_status_id  in_reply_to_user_id  \\\n",
       "1677  682059653698686977                    NaN                  NaN   \n",
       "2153  669661792646373376                    NaN                  NaN   \n",
       "1772  678278586130948096                    NaN                  NaN   \n",
       "1748  679062614270468097                    NaN                  NaN   \n",
       "\n",
       "                      timestamp  \\\n",
       "1677  2015-12-30 04:44:28 +0000   \n",
       "2153  2015-11-25 23:39:47 +0000   \n",
       "1772  2015-12-19 18:19:51 +0000   \n",
       "1748  2015-12-21 22:15:18 +0000   \n",
       "\n",
       "                                                 source  \\\n",
       "1677  <a href=\"http://twitter.com/download/iphone\" r...   \n",
       "2153  <a href=\"http://twitter.com/download/iphone\" r...   \n",
       "1772  <a href=\"http://twitter.com/download/iphone\" r...   \n",
       "1748  <a href=\"http://twitter.com/download/iphone\" r...   \n",
       "\n",
       "                                                   text  retweeted_status_id  \\\n",
       "1677  This is Tess. Her main passions are shelves an...                  NaN   \n",
       "2153  This is a brave dog. Excellent free climber. T...                  NaN   \n",
       "1772  Another spooky pupper here. Most definitely fl...                  NaN   \n",
       "1748  This is Chompsky. He lives up to his name. 11/...                  NaN   \n",
       "\n",
       "      retweeted_status_user_id retweeted_status_timestamp  \\\n",
       "1677                       NaN                        NaN   \n",
       "2153                       NaN                        NaN   \n",
       "1772                       NaN                        NaN   \n",
       "1748                       NaN                        NaN   \n",
       "\n",
       "                                          expanded_urls  rating_numerator  \\\n",
       "1677  https://twitter.com/dog_rates/status/682059653...                11   \n",
       "2153  https://twitter.com/dog_rates/status/669661792...                 5   \n",
       "1772  https://twitter.com/dog_rates/status/678278586...                10   \n",
       "1748  https://twitter.com/dog_rates/status/679062614...                11   \n",
       "\n",
       "      rating_denominator      name doggo floofer  pupper puppo  \n",
       "1677                  10      Tess  None    None    None  None  \n",
       "2153                  10         a  None    None    None  None  \n",
       "1772                  10      None  None    None  pupper  None  \n",
       "1748                  10  Chompsky  None    None    None  None  "
      ]
     },
     "execution_count": 354,
     "metadata": {},
     "output_type": "execute_result"
    }
   ],
   "source": [
    "twitter_archive_enhanced.sample(4)"
   ]
  },
  {
   "cell_type": "code",
   "execution_count": 355,
   "id": "b057aeca",
   "metadata": {},
   "outputs": [
    {
     "name": "stdout",
     "output_type": "stream",
     "text": [
      "<class 'pandas.core.frame.DataFrame'>\n",
      "RangeIndex: 2356 entries, 0 to 2355\n",
      "Data columns (total 17 columns):\n",
      " #   Column                      Non-Null Count  Dtype  \n",
      "---  ------                      --------------  -----  \n",
      " 0   tweet_id                    2356 non-null   int64  \n",
      " 1   in_reply_to_status_id       78 non-null     float64\n",
      " 2   in_reply_to_user_id         78 non-null     float64\n",
      " 3   timestamp                   2356 non-null   object \n",
      " 4   source                      2356 non-null   object \n",
      " 5   text                        2356 non-null   object \n",
      " 6   retweeted_status_id         181 non-null    float64\n",
      " 7   retweeted_status_user_id    181 non-null    float64\n",
      " 8   retweeted_status_timestamp  181 non-null    object \n",
      " 9   expanded_urls               2297 non-null   object \n",
      " 10  rating_numerator            2356 non-null   int64  \n",
      " 11  rating_denominator          2356 non-null   int64  \n",
      " 12  name                        2356 non-null   object \n",
      " 13  doggo                       2356 non-null   object \n",
      " 14  floofer                     2356 non-null   object \n",
      " 15  pupper                      2356 non-null   object \n",
      " 16  puppo                       2356 non-null   object \n",
      "dtypes: float64(4), int64(3), object(10)\n",
      "memory usage: 313.0+ KB\n"
     ]
    }
   ],
   "source": [
    "# check information about column names, datatype, missing data\n",
    "twitter_archive_enhanced.info()"
   ]
  },
  {
   "cell_type": "code",
   "execution_count": 356,
   "id": "485da687",
   "metadata": {},
   "outputs": [
    {
     "data": {
      "text/plain": [
       "tweet_id                         0\n",
       "in_reply_to_status_id         2278\n",
       "in_reply_to_user_id           2278\n",
       "timestamp                        0\n",
       "source                           0\n",
       "text                             0\n",
       "retweeted_status_id           2175\n",
       "retweeted_status_user_id      2175\n",
       "retweeted_status_timestamp    2175\n",
       "expanded_urls                   59\n",
       "rating_numerator                 0\n",
       "rating_denominator               0\n",
       "name                             0\n",
       "doggo                            0\n",
       "floofer                          0\n",
       "pupper                           0\n",
       "puppo                            0\n",
       "dtype: int64"
      ]
     },
     "execution_count": 356,
     "metadata": {},
     "output_type": "execute_result"
    }
   ],
   "source": [
    "# check if any null values\n",
    "twitter_archive_enhanced.isnull().sum()"
   ]
  },
  {
   "cell_type": "code",
   "execution_count": 357,
   "id": "25ece59c",
   "metadata": {},
   "outputs": [
    {
     "data": {
      "text/plain": [
       "0"
      ]
     },
     "execution_count": 357,
     "metadata": {},
     "output_type": "execute_result"
    }
   ],
   "source": [
    "# check if any duplicate records\n",
    "twitter_archive_enhanced.duplicated().sum()"
   ]
  },
  {
   "cell_type": "code",
   "execution_count": 358,
   "id": "7f89e9b5",
   "metadata": {},
   "outputs": [
    {
     "data": {
      "text/plain": [
       "tweet_id                      2356\n",
       "in_reply_to_status_id           77\n",
       "in_reply_to_user_id             31\n",
       "timestamp                     2356\n",
       "source                           4\n",
       "text                          2356\n",
       "retweeted_status_id            181\n",
       "retweeted_status_user_id        25\n",
       "retweeted_status_timestamp     181\n",
       "expanded_urls                 2218\n",
       "rating_numerator                40\n",
       "rating_denominator              18\n",
       "name                           957\n",
       "doggo                            2\n",
       "floofer                          2\n",
       "pupper                           2\n",
       "puppo                            2\n",
       "dtype: int64"
      ]
     },
     "execution_count": 358,
     "metadata": {},
     "output_type": "execute_result"
    }
   ],
   "source": [
    "# Check the number of unique values in each column.\n",
    "twitter_archive_enhanced.nunique()"
   ]
  },
  {
   "cell_type": "code",
   "execution_count": 359,
   "id": "206e0b95",
   "metadata": {},
   "outputs": [
    {
     "data": {
      "text/html": [
       "<div>\n",
       "<style scoped>\n",
       "    .dataframe tbody tr th:only-of-type {\n",
       "        vertical-align: middle;\n",
       "    }\n",
       "\n",
       "    .dataframe tbody tr th {\n",
       "        vertical-align: top;\n",
       "    }\n",
       "\n",
       "    .dataframe thead th {\n",
       "        text-align: right;\n",
       "    }\n",
       "</style>\n",
       "<table border=\"1\" class=\"dataframe\">\n",
       "  <thead>\n",
       "    <tr style=\"text-align: right;\">\n",
       "      <th></th>\n",
       "      <th>tweet_id</th>\n",
       "      <th>in_reply_to_status_id</th>\n",
       "      <th>in_reply_to_user_id</th>\n",
       "      <th>retweeted_status_id</th>\n",
       "      <th>retweeted_status_user_id</th>\n",
       "      <th>rating_numerator</th>\n",
       "      <th>rating_denominator</th>\n",
       "    </tr>\n",
       "  </thead>\n",
       "  <tbody>\n",
       "    <tr>\n",
       "      <th>count</th>\n",
       "      <td>2.356000e+03</td>\n",
       "      <td>7.800000e+01</td>\n",
       "      <td>7.800000e+01</td>\n",
       "      <td>1.810000e+02</td>\n",
       "      <td>1.810000e+02</td>\n",
       "      <td>2356.000000</td>\n",
       "      <td>2356.000000</td>\n",
       "    </tr>\n",
       "    <tr>\n",
       "      <th>mean</th>\n",
       "      <td>7.427716e+17</td>\n",
       "      <td>7.455079e+17</td>\n",
       "      <td>2.014171e+16</td>\n",
       "      <td>7.720400e+17</td>\n",
       "      <td>1.241698e+16</td>\n",
       "      <td>13.126486</td>\n",
       "      <td>10.455433</td>\n",
       "    </tr>\n",
       "    <tr>\n",
       "      <th>std</th>\n",
       "      <td>6.856705e+16</td>\n",
       "      <td>7.582492e+16</td>\n",
       "      <td>1.252797e+17</td>\n",
       "      <td>6.236928e+16</td>\n",
       "      <td>9.599254e+16</td>\n",
       "      <td>45.876648</td>\n",
       "      <td>6.745237</td>\n",
       "    </tr>\n",
       "    <tr>\n",
       "      <th>min</th>\n",
       "      <td>6.660209e+17</td>\n",
       "      <td>6.658147e+17</td>\n",
       "      <td>1.185634e+07</td>\n",
       "      <td>6.661041e+17</td>\n",
       "      <td>7.832140e+05</td>\n",
       "      <td>0.000000</td>\n",
       "      <td>0.000000</td>\n",
       "    </tr>\n",
       "    <tr>\n",
       "      <th>25%</th>\n",
       "      <td>6.783989e+17</td>\n",
       "      <td>6.757419e+17</td>\n",
       "      <td>3.086374e+08</td>\n",
       "      <td>7.186315e+17</td>\n",
       "      <td>4.196984e+09</td>\n",
       "      <td>10.000000</td>\n",
       "      <td>10.000000</td>\n",
       "    </tr>\n",
       "    <tr>\n",
       "      <th>50%</th>\n",
       "      <td>7.196279e+17</td>\n",
       "      <td>7.038708e+17</td>\n",
       "      <td>4.196984e+09</td>\n",
       "      <td>7.804657e+17</td>\n",
       "      <td>4.196984e+09</td>\n",
       "      <td>11.000000</td>\n",
       "      <td>10.000000</td>\n",
       "    </tr>\n",
       "    <tr>\n",
       "      <th>75%</th>\n",
       "      <td>7.993373e+17</td>\n",
       "      <td>8.257804e+17</td>\n",
       "      <td>4.196984e+09</td>\n",
       "      <td>8.203146e+17</td>\n",
       "      <td>4.196984e+09</td>\n",
       "      <td>12.000000</td>\n",
       "      <td>10.000000</td>\n",
       "    </tr>\n",
       "    <tr>\n",
       "      <th>max</th>\n",
       "      <td>8.924206e+17</td>\n",
       "      <td>8.862664e+17</td>\n",
       "      <td>8.405479e+17</td>\n",
       "      <td>8.874740e+17</td>\n",
       "      <td>7.874618e+17</td>\n",
       "      <td>1776.000000</td>\n",
       "      <td>170.000000</td>\n",
       "    </tr>\n",
       "  </tbody>\n",
       "</table>\n",
       "</div>"
      ],
      "text/plain": [
       "           tweet_id  in_reply_to_status_id  in_reply_to_user_id  \\\n",
       "count  2.356000e+03           7.800000e+01         7.800000e+01   \n",
       "mean   7.427716e+17           7.455079e+17         2.014171e+16   \n",
       "std    6.856705e+16           7.582492e+16         1.252797e+17   \n",
       "min    6.660209e+17           6.658147e+17         1.185634e+07   \n",
       "25%    6.783989e+17           6.757419e+17         3.086374e+08   \n",
       "50%    7.196279e+17           7.038708e+17         4.196984e+09   \n",
       "75%    7.993373e+17           8.257804e+17         4.196984e+09   \n",
       "max    8.924206e+17           8.862664e+17         8.405479e+17   \n",
       "\n",
       "       retweeted_status_id  retweeted_status_user_id  rating_numerator  \\\n",
       "count         1.810000e+02              1.810000e+02       2356.000000   \n",
       "mean          7.720400e+17              1.241698e+16         13.126486   \n",
       "std           6.236928e+16              9.599254e+16         45.876648   \n",
       "min           6.661041e+17              7.832140e+05          0.000000   \n",
       "25%           7.186315e+17              4.196984e+09         10.000000   \n",
       "50%           7.804657e+17              4.196984e+09         11.000000   \n",
       "75%           8.203146e+17              4.196984e+09         12.000000   \n",
       "max           8.874740e+17              7.874618e+17       1776.000000   \n",
       "\n",
       "       rating_denominator  \n",
       "count         2356.000000  \n",
       "mean            10.455433  \n",
       "std              6.745237  \n",
       "min              0.000000  \n",
       "25%             10.000000  \n",
       "50%             10.000000  \n",
       "75%             10.000000  \n",
       "max            170.000000  "
      ]
     },
     "execution_count": 359,
     "metadata": {},
     "output_type": "execute_result"
    }
   ],
   "source": [
    "# Describe\n",
    "twitter_archive_enhanced.describe()"
   ]
  },
  {
   "cell_type": "code",
   "execution_count": 360,
   "id": "1588cd99",
   "metadata": {},
   "outputs": [
    {
     "data": {
      "text/plain": [
       "<a href=\"http://twitter.com/download/iphone\" rel=\"nofollow\">Twitter for iPhone</a>     2221\n",
       "<a href=\"http://vine.co\" rel=\"nofollow\">Vine - Make a Scene</a>                          91\n",
       "<a href=\"http://twitter.com\" rel=\"nofollow\">Twitter Web Client</a>                       33\n",
       "<a href=\"https://about.twitter.com/products/tweetdeck\" rel=\"nofollow\">TweetDeck</a>      11\n",
       "Name: source, dtype: int64"
      ]
     },
     "execution_count": 360,
     "metadata": {},
     "output_type": "execute_result"
    }
   ],
   "source": [
    "# Value_count\n",
    "twitter_archive_enhanced.source.value_counts()"
   ]
  },
  {
   "cell_type": "code",
   "execution_count": 361,
   "id": "3fe8633f",
   "metadata": {},
   "outputs": [
    {
     "data": {
      "text/plain": [
       "Say hello to Cupcake. She's an Icelandic Dippen Dot. Confused by the oddly geometric lawn pattern. 11/10 https://t.co/D7rorf4YKL                                       1\n",
       "This is Penny. She's both pupset and fired pup. Not pleased w your barbaric attempts at cleanliness. 12/10 would enjoy more shampoo options https://t.co/OYdDlfOGXP    1\n",
       "RT @dog_rates: This is Logan, the Chow who lived. He solemnly swears he's up to lots of good. H*ckin magical af 9.75/10 https://t.co/yBO5wu…                           1\n",
       "After so many requests, this is Bretagne. She was the last surviving 9/11 search dog, and our second ever 14/10. RIP https://t.co/XAVDNDaVgQ                           1\n",
       "Name: text, dtype: int64"
      ]
     },
     "execution_count": 361,
     "metadata": {},
     "output_type": "execute_result"
    }
   ],
   "source": [
    "twitter_archive_enhanced.text.value_counts().sample(4)"
   ]
  },
  {
   "cell_type": "code",
   "execution_count": 362,
   "id": "d6822ac5",
   "metadata": {},
   "outputs": [
    {
     "data": {
      "text/plain": [
       "None          745\n",
       "a              55\n",
       "Charlie        12\n",
       "Cooper         11\n",
       "Lucy           11\n",
       "             ... \n",
       "Dex             1\n",
       "Ace             1\n",
       "Tayzie          1\n",
       "Grizzie         1\n",
       "Christoper      1\n",
       "Name: name, Length: 957, dtype: int64"
      ]
     },
     "execution_count": 362,
     "metadata": {},
     "output_type": "execute_result"
    }
   ],
   "source": [
    "twitter_archive_enhanced.name.value_counts()"
   ]
  },
  {
   "cell_type": "code",
   "execution_count": 363,
   "id": "1dab08c9",
   "metadata": {},
   "outputs": [
    {
     "data": {
      "text/plain": [
       "1236        Kane\n",
       "2346         the\n",
       "1183        Otis\n",
       "515        Craig\n",
       "2197     Banditt\n",
       "959      Gilbert\n",
       "968         None\n",
       "1216     Calbert\n",
       "1626    Theodore\n",
       "126       Cooper\n",
       "1363        Chip\n",
       "1418     Jessiga\n",
       "283         None\n",
       "1546     Chipson\n",
       "1254        None\n",
       "1155        Fred\n",
       "903         Odie\n",
       "415      Paisley\n",
       "1514        None\n",
       "520          Gus\n",
       "1398      Fillup\n",
       "1268       Cecil\n",
       "531         None\n",
       "1420    Franklin\n",
       "544        Major\n",
       "1806        None\n",
       "195         None\n",
       "2342        None\n",
       "849        Angel\n",
       "464      Strudel\n",
       "Name: name, dtype: object"
      ]
     },
     "execution_count": 363,
     "metadata": {},
     "output_type": "execute_result"
    }
   ],
   "source": [
    "twitter_archive_enhanced.name.sample(30)"
   ]
  },
  {
   "cell_type": "code",
   "execution_count": 364,
   "id": "716646d1",
   "metadata": {},
   "outputs": [
    {
     "data": {
      "text/plain": [
       "12      558\n",
       "11      464\n",
       "10      461\n",
       "13      351\n",
       "9       158\n",
       "8       102\n",
       "7        55\n",
       "14       54\n",
       "5        37\n",
       "6        32\n",
       "3        19\n",
       "4        17\n",
       "2         9\n",
       "1         9\n",
       "75        2\n",
       "15        2\n",
       "420       2\n",
       "0         2\n",
       "80        1\n",
       "144       1\n",
       "17        1\n",
       "26        1\n",
       "20        1\n",
       "121       1\n",
       "143       1\n",
       "44        1\n",
       "60        1\n",
       "45        1\n",
       "50        1\n",
       "99        1\n",
       "204       1\n",
       "1776      1\n",
       "165       1\n",
       "666       1\n",
       "27        1\n",
       "182       1\n",
       "24        1\n",
       "960       1\n",
       "84        1\n",
       "88        1\n",
       "Name: rating_numerator, dtype: int64"
      ]
     },
     "execution_count": 364,
     "metadata": {},
     "output_type": "execute_result"
    }
   ],
   "source": [
    "twitter_archive_enhanced.rating_numerator.value_counts()"
   ]
  },
  {
   "cell_type": "code",
   "execution_count": 365,
   "id": "90c90fb7",
   "metadata": {},
   "outputs": [
    {
     "name": "stdout",
     "output_type": "stream",
     "text": [
      "340    RT @dog_rates: This is Logan, the Chow who liv...\n",
      "695    This is Logan, the Chow who lived. He solemnly...\n",
      "Name: text, dtype: object\n",
      "188     @dhmontgomery We also gave snoop dogg a 420/10...\n",
      "2074    After so many requests... here you go.\\n\\nGood...\n",
      "Name: text, dtype: object\n",
      "315     When you're so blinded by your systematic plag...\n",
      "1016    PUPDATE: can't see any. Even if I could, I cou...\n",
      "Name: text, dtype: object\n",
      "1254    Here's a brigade of puppers. All look very pre...\n",
      "Name: text, dtype: object\n",
      "979    This is Atticus. He's quite simply America af....\n",
      "Name: text, dtype: object\n",
      "1779    IT'S PUPPERGEDDON. Total of 144/120 ...I think...\n",
      "Name: text, dtype: object\n",
      "1712    Here we have uncovered an entire battalion of ...\n",
      "Name: text, dtype: object\n",
      "1663    I'm aware that I could've said 20/16, but here...\n",
      "Name: text, dtype: object\n",
      "1635    Someone help the girl is being mugged. Several...\n",
      "Name: text, dtype: object\n",
      "1634    Two sneaky puppers were not initially seen, mo...\n",
      "Name: text, dtype: object\n",
      "1433    Happy Wednesday here's a bucket of pups. 44/40...\n",
      "Name: text, dtype: object\n",
      "1351    Here is a whole flock of puppers.  60/50 I'll ...\n",
      "Name: text, dtype: object\n",
      "1274    From left to right:\\nCletus, Jerome, Alejandro...\n",
      "Name: text, dtype: object\n",
      "1202    This is Bluebert. He just saw that both #Final...\n",
      "Name: text, dtype: object\n",
      "1228    Happy Saturday here's 9 puppers on a bench. 99...\n",
      "Name: text, dtype: object\n",
      "1120    Say hello to this unbelievably well behaved sq...\n",
      "Name: text, dtype: object\n",
      "902    Why does this never happen at my front door......\n",
      "Name: text, dtype: object\n",
      "189    @s8n You tried very hard to portray this good ...\n",
      "Name: text, dtype: object\n",
      "763    This is Sophie. She's a Jubilant Bush Pupper. ...\n",
      "Name: text, dtype: object\n",
      "290    @markhoppus 182/10\n",
      "Name: text, dtype: object\n",
      "516    Meet Sam. She smiles 24/7 &amp; secretly aspir...\n",
      "Name: text, dtype: object\n",
      "313    @jonnysun @Lin_Manuel ok jomny I know you're e...\n",
      "Name: text, dtype: object\n",
      "433    The floofs have been released I repeat the flo...\n",
      "Name: text, dtype: object\n",
      "1843    Here we have an entire platoon of puppers. Tot...\n",
      "Name: text, dtype: object\n"
     ]
    }
   ],
   "source": [
    "# loc\n",
    "print(twitter_archive_enhanced.loc[twitter_archive_enhanced.rating_numerator == 75, 'text'])\n",
    "print(twitter_archive_enhanced.loc[twitter_archive_enhanced.rating_numerator == 420, 'text'])\n",
    "print(twitter_archive_enhanced.loc[twitter_archive_enhanced.rating_numerator == 0, 'text'])\n",
    "print(twitter_archive_enhanced.loc[twitter_archive_enhanced.rating_numerator == 80, 'text'])\n",
    "print(twitter_archive_enhanced.loc[twitter_archive_enhanced.rating_numerator == 1776, 'text'])\n",
    "print(twitter_archive_enhanced.loc[twitter_archive_enhanced.rating_numerator == 144, 'text'])\n",
    "print(twitter_archive_enhanced.loc[twitter_archive_enhanced.rating_numerator == 26, 'text'])\n",
    "print(twitter_archive_enhanced.loc[twitter_archive_enhanced.rating_numerator == 20, 'text'])\n",
    "print(twitter_archive_enhanced.loc[twitter_archive_enhanced.rating_numerator == 121, 'text'])\n",
    "print(twitter_archive_enhanced.loc[twitter_archive_enhanced.rating_numerator == 143, 'text'])\n",
    "print(twitter_archive_enhanced.loc[twitter_archive_enhanced.rating_numerator == 44, 'text'])\n",
    "print(twitter_archive_enhanced.loc[twitter_archive_enhanced.rating_numerator == 60, 'text'])\n",
    "print(twitter_archive_enhanced.loc[twitter_archive_enhanced.rating_numerator == 45, 'text'])\n",
    "print(twitter_archive_enhanced.loc[twitter_archive_enhanced.rating_numerator == 50, 'text'])\n",
    "print(twitter_archive_enhanced.loc[twitter_archive_enhanced.rating_numerator == 99, 'text'])\n",
    "print(twitter_archive_enhanced.loc[twitter_archive_enhanced.rating_numerator == 204, 'text'])\n",
    "print(twitter_archive_enhanced.loc[twitter_archive_enhanced.rating_numerator == 165, 'text'])\n",
    "print(twitter_archive_enhanced.loc[twitter_archive_enhanced.rating_numerator == 666, 'text'])\n",
    "print(twitter_archive_enhanced.loc[twitter_archive_enhanced.rating_numerator == 27, 'text'])\n",
    "print(twitter_archive_enhanced.loc[twitter_archive_enhanced.rating_numerator == 182, 'text'])\n",
    "print(twitter_archive_enhanced.loc[twitter_archive_enhanced.rating_numerator == 24, 'text'])\n",
    "print(twitter_archive_enhanced.loc[twitter_archive_enhanced.rating_numerator == 960, 'text'])\n",
    "print(twitter_archive_enhanced.loc[twitter_archive_enhanced.rating_numerator == 84, 'text'])\n",
    "print(twitter_archive_enhanced.loc[twitter_archive_enhanced.rating_numerator == 88, 'text'])"
   ]
  },
  {
   "cell_type": "code",
   "execution_count": 366,
   "id": "2d1481bc",
   "metadata": {},
   "outputs": [
    {
     "name": "stdout",
     "output_type": "stream",
     "text": [
      "RT @dog_rates: This is Logan, the Chow who lived. He solemnly swears he's up to lots of good. H*ckin magical af 9.75/10 https://t.co/yBO5wu…\n",
      "This is Logan, the Chow who lived. He solemnly swears he's up to lots of good. H*ckin magical af 9.75/10 https://t.co/yBO5wuqaPS\n",
      "@dhmontgomery We also gave snoop dogg a 420/10 but I think that predated your research\n",
      "After so many requests... here you go.\n",
      "\n",
      "Good dogg. 420/10 https://t.co/yfAAo1gdeY\n",
      "When you're so blinded by your systematic plagiarism that you forget what day it is. 0/10 https://t.co/YbEJPkg4Ag\n",
      "PUPDATE: can't see any. Even if I could, I couldn't reach them to pet. 0/10 much disappointment https://t.co/c7WXaB2nqX\n",
      "Here's a brigade of puppers. All look very prepared for whatever happens next. 80/80 https://t.co/0eb7R1Om12\n",
      "This is Atticus. He's quite simply America af. 1776/10 https://t.co/GRXwMxLBkh\n",
      "IT'S PUPPERGEDDON. Total of 144/120 ...I think https://t.co/ZanVtAtvIq\n",
      "Here we have uncovered an entire battalion of holiday puppers. Average of 11.26/10 https://t.co/eNm2S6p9BD\n",
      "Happy Wednesday here's a bucket of pups. 44/40 would pet all at once https://t.co/HppvrYuamZ\n",
      "Happy Saturday here's 9 puppers on a bench. 99/90 good work everybody https://t.co/mpvaVxKmc1\n"
     ]
    }
   ],
   "source": [
    "print(twitter_archive_enhanced['text'][340])\n",
    "print(twitter_archive_enhanced['text'][695])\n",
    "print(twitter_archive_enhanced['text'][188])\n",
    "print(twitter_archive_enhanced['text'][2074])\n",
    "print(twitter_archive_enhanced['text'][315])\n",
    "print(twitter_archive_enhanced['text'][1016])\n",
    "print(twitter_archive_enhanced['text'][1254])\n",
    "print(twitter_archive_enhanced['text'][979])\n",
    "print(twitter_archive_enhanced['text'][1779])\n",
    "print(twitter_archive_enhanced['text'][1712])\n",
    "print(twitter_archive_enhanced['text'][1433])\n",
    "print(twitter_archive_enhanced['text'][1228])"
   ]
  },
  {
   "cell_type": "code",
   "execution_count": 367,
   "id": "5ea49c6d",
   "metadata": {},
   "outputs": [
    {
     "data": {
      "text/plain": [
       "10     2333\n",
       "11        3\n",
       "50        3\n",
       "20        2\n",
       "80        2\n",
       "70        1\n",
       "7         1\n",
       "15        1\n",
       "150       1\n",
       "170       1\n",
       "0         1\n",
       "90        1\n",
       "40        1\n",
       "130       1\n",
       "110       1\n",
       "16        1\n",
       "120       1\n",
       "2         1\n",
       "Name: rating_denominator, dtype: int64"
      ]
     },
     "execution_count": 367,
     "metadata": {},
     "output_type": "execute_result"
    }
   ],
   "source": [
    "twitter_archive_enhanced.rating_denominator.value_counts()"
   ]
  },
  {
   "cell_type": "code",
   "execution_count": 368,
   "id": "0fad7785",
   "metadata": {},
   "outputs": [
    {
     "data": {
      "text/plain": [
       "None     2259\n",
       "doggo      97\n",
       "Name: doggo, dtype: int64"
      ]
     },
     "execution_count": 368,
     "metadata": {},
     "output_type": "execute_result"
    }
   ],
   "source": [
    "twitter_archive_enhanced.doggo.value_counts()"
   ]
  },
  {
   "cell_type": "code",
   "execution_count": 369,
   "id": "1d551d58",
   "metadata": {},
   "outputs": [
    {
     "data": {
      "text/plain": [
       "None       2346\n",
       "floofer      10\n",
       "Name: floofer, dtype: int64"
      ]
     },
     "execution_count": 369,
     "metadata": {},
     "output_type": "execute_result"
    }
   ],
   "source": [
    "twitter_archive_enhanced.floofer.value_counts()"
   ]
  },
  {
   "cell_type": "code",
   "execution_count": 370,
   "id": "6b3d08cd",
   "metadata": {},
   "outputs": [
    {
     "data": {
      "text/plain": [
       "None      2099\n",
       "pupper     257\n",
       "Name: pupper, dtype: int64"
      ]
     },
     "execution_count": 370,
     "metadata": {},
     "output_type": "execute_result"
    }
   ],
   "source": [
    "twitter_archive_enhanced.pupper.value_counts()"
   ]
  },
  {
   "cell_type": "code",
   "execution_count": 371,
   "id": "4e4ffbf3",
   "metadata": {},
   "outputs": [
    {
     "data": {
      "text/plain": [
       "None     2326\n",
       "puppo      30\n",
       "Name: puppo, dtype: int64"
      ]
     },
     "execution_count": 371,
     "metadata": {},
     "output_type": "execute_result"
    }
   ],
   "source": [
    "twitter_archive_enhanced.puppo.value_counts()"
   ]
  },
  {
   "cell_type": "code",
   "execution_count": null,
   "id": "480a259b",
   "metadata": {},
   "outputs": [],
   "source": []
  },
  {
   "cell_type": "code",
   "execution_count": null,
   "id": "6e0052f0",
   "metadata": {},
   "outputs": [],
   "source": []
  },
  {
   "cell_type": "code",
   "execution_count": 372,
   "id": "9f81b15a",
   "metadata": {},
   "outputs": [
    {
     "data": {
      "text/html": [
       "<div>\n",
       "<style scoped>\n",
       "    .dataframe tbody tr th:only-of-type {\n",
       "        vertical-align: middle;\n",
       "    }\n",
       "\n",
       "    .dataframe tbody tr th {\n",
       "        vertical-align: top;\n",
       "    }\n",
       "\n",
       "    .dataframe thead th {\n",
       "        text-align: right;\n",
       "    }\n",
       "</style>\n",
       "<table border=\"1\" class=\"dataframe\">\n",
       "  <thead>\n",
       "    <tr style=\"text-align: right;\">\n",
       "      <th></th>\n",
       "      <th>tweet_id</th>\n",
       "      <th>jpg_url</th>\n",
       "      <th>img_num</th>\n",
       "      <th>p1</th>\n",
       "      <th>p1_conf</th>\n",
       "      <th>p1_dog</th>\n",
       "      <th>p2</th>\n",
       "      <th>p2_conf</th>\n",
       "      <th>p2_dog</th>\n",
       "      <th>p3</th>\n",
       "      <th>p3_conf</th>\n",
       "      <th>p3_dog</th>\n",
       "    </tr>\n",
       "  </thead>\n",
       "  <tbody>\n",
       "    <tr>\n",
       "      <th>620</th>\n",
       "      <td>680473011644985345</td>\n",
       "      <td>https://pbs.twimg.com/media/CXGGlzvWYAArPfk.jpg</td>\n",
       "      <td>1</td>\n",
       "      <td>Lakeland_terrier</td>\n",
       "      <td>0.796694</td>\n",
       "      <td>True</td>\n",
       "      <td>West_Highland_white_terrier</td>\n",
       "      <td>0.138709</td>\n",
       "      <td>True</td>\n",
       "      <td>Norwich_terrier</td>\n",
       "      <td>0.016253</td>\n",
       "      <td>True</td>\n",
       "    </tr>\n",
       "    <tr>\n",
       "      <th>842</th>\n",
       "      <td>695051054296211456</td>\n",
       "      <td>https://pbs.twimg.com/media/CaVRP4GWwAERC0v.jpg</td>\n",
       "      <td>1</td>\n",
       "      <td>Boston_bull</td>\n",
       "      <td>0.761454</td>\n",
       "      <td>True</td>\n",
       "      <td>pug</td>\n",
       "      <td>0.075395</td>\n",
       "      <td>True</td>\n",
       "      <td>Chihuahua</td>\n",
       "      <td>0.041598</td>\n",
       "      <td>True</td>\n",
       "    </tr>\n",
       "    <tr>\n",
       "      <th>718</th>\n",
       "      <td>685667379192414208</td>\n",
       "      <td>https://pbs.twimg.com/media/CYP62A6WkAAOnL4.jpg</td>\n",
       "      <td>1</td>\n",
       "      <td>sliding_door</td>\n",
       "      <td>0.344526</td>\n",
       "      <td>False</td>\n",
       "      <td>doormat</td>\n",
       "      <td>0.190027</td>\n",
       "      <td>False</td>\n",
       "      <td>washbasin</td>\n",
       "      <td>0.046326</td>\n",
       "      <td>False</td>\n",
       "    </tr>\n",
       "    <tr>\n",
       "      <th>400</th>\n",
       "      <td>673688752737402881</td>\n",
       "      <td>https://pbs.twimg.com/media/CVlsVs3WIAAja6m.jpg</td>\n",
       "      <td>1</td>\n",
       "      <td>soft-coated_wheaten_terrier</td>\n",
       "      <td>0.340806</td>\n",
       "      <td>True</td>\n",
       "      <td>Sealyham_terrier</td>\n",
       "      <td>0.234898</td>\n",
       "      <td>True</td>\n",
       "      <td>kuvasz</td>\n",
       "      <td>0.203495</td>\n",
       "      <td>True</td>\n",
       "    </tr>\n",
       "    <tr>\n",
       "      <th>1752</th>\n",
       "      <td>824325613288833024</td>\n",
       "      <td>https://pbs.twimg.com/media/C3CXxaoWQAAiLuC.jpg</td>\n",
       "      <td>1</td>\n",
       "      <td>Pembroke</td>\n",
       "      <td>0.990793</td>\n",
       "      <td>True</td>\n",
       "      <td>Cardigan</td>\n",
       "      <td>0.008919</td>\n",
       "      <td>True</td>\n",
       "      <td>basenji</td>\n",
       "      <td>0.000262</td>\n",
       "      <td>True</td>\n",
       "    </tr>\n",
       "    <tr>\n",
       "      <th>466</th>\n",
       "      <td>675015141583413248</td>\n",
       "      <td>https://pbs.twimg.com/media/CV4iqh5WcAEV1E6.jpg</td>\n",
       "      <td>1</td>\n",
       "      <td>street_sign</td>\n",
       "      <td>0.290091</td>\n",
       "      <td>False</td>\n",
       "      <td>golden_retriever</td>\n",
       "      <td>0.258372</td>\n",
       "      <td>True</td>\n",
       "      <td>sandbar</td>\n",
       "      <td>0.132173</td>\n",
       "      <td>False</td>\n",
       "    </tr>\n",
       "    <tr>\n",
       "      <th>335</th>\n",
       "      <td>672205392827572224</td>\n",
       "      <td>https://pbs.twimg.com/media/CVQnPMrVAAAzShR.jpg</td>\n",
       "      <td>1</td>\n",
       "      <td>carton</td>\n",
       "      <td>0.952613</td>\n",
       "      <td>False</td>\n",
       "      <td>crate</td>\n",
       "      <td>0.035376</td>\n",
       "      <td>False</td>\n",
       "      <td>pug</td>\n",
       "      <td>0.003267</td>\n",
       "      <td>True</td>\n",
       "    </tr>\n",
       "    <tr>\n",
       "      <th>849</th>\n",
       "      <td>695629776980148225</td>\n",
       "      <td>https://pbs.twimg.com/media/Cadfl6zWcAEZqIW.jpg</td>\n",
       "      <td>1</td>\n",
       "      <td>Old_English_sheepdog</td>\n",
       "      <td>0.693857</td>\n",
       "      <td>True</td>\n",
       "      <td>otterhound</td>\n",
       "      <td>0.232117</td>\n",
       "      <td>True</td>\n",
       "      <td>West_Highland_white_terrier</td>\n",
       "      <td>0.012867</td>\n",
       "      <td>True</td>\n",
       "    </tr>\n",
       "    <tr>\n",
       "      <th>62</th>\n",
       "      <td>667160273090932737</td>\n",
       "      <td>https://pbs.twimg.com/media/CUI6uuaW4AAvCIs.jpg</td>\n",
       "      <td>1</td>\n",
       "      <td>golden_retriever</td>\n",
       "      <td>0.471351</td>\n",
       "      <td>True</td>\n",
       "      <td>miniature_poodle</td>\n",
       "      <td>0.091992</td>\n",
       "      <td>True</td>\n",
       "      <td>standard_poodle</td>\n",
       "      <td>0.087385</td>\n",
       "      <td>True</td>\n",
       "    </tr>\n",
       "    <tr>\n",
       "      <th>815</th>\n",
       "      <td>692752401762250755</td>\n",
       "      <td>https://pbs.twimg.com/tweet_video_thumb/CZ0mhd...</td>\n",
       "      <td>1</td>\n",
       "      <td>Samoyed</td>\n",
       "      <td>0.471276</td>\n",
       "      <td>True</td>\n",
       "      <td>Siberian_husky</td>\n",
       "      <td>0.158850</td>\n",
       "      <td>True</td>\n",
       "      <td>Eskimo_dog</td>\n",
       "      <td>0.138672</td>\n",
       "      <td>True</td>\n",
       "    </tr>\n",
       "    <tr>\n",
       "      <th>2011</th>\n",
       "      <td>879008229531029506</td>\n",
       "      <td>https://pbs.twimg.com/media/DDLdUrqXYAMOVzY.jpg</td>\n",
       "      <td>1</td>\n",
       "      <td>vizsla</td>\n",
       "      <td>0.960513</td>\n",
       "      <td>True</td>\n",
       "      <td>miniature_pinscher</td>\n",
       "      <td>0.009431</td>\n",
       "      <td>True</td>\n",
       "      <td>American_Staffordshire_terrier</td>\n",
       "      <td>0.008711</td>\n",
       "      <td>True</td>\n",
       "    </tr>\n",
       "    <tr>\n",
       "      <th>600</th>\n",
       "      <td>679736210798047232</td>\n",
       "      <td>https://pbs.twimg.com/media/CW7oelWWcAAhyzz.jpg</td>\n",
       "      <td>1</td>\n",
       "      <td>French_bulldog</td>\n",
       "      <td>0.319139</td>\n",
       "      <td>True</td>\n",
       "      <td>Chihuahua</td>\n",
       "      <td>0.154088</td>\n",
       "      <td>True</td>\n",
       "      <td>Cardigan</td>\n",
       "      <td>0.117688</td>\n",
       "      <td>True</td>\n",
       "    </tr>\n",
       "  </tbody>\n",
       "</table>\n",
       "</div>"
      ],
      "text/plain": [
       "                tweet_id                                            jpg_url  \\\n",
       "620   680473011644985345    https://pbs.twimg.com/media/CXGGlzvWYAArPfk.jpg   \n",
       "842   695051054296211456    https://pbs.twimg.com/media/CaVRP4GWwAERC0v.jpg   \n",
       "718   685667379192414208    https://pbs.twimg.com/media/CYP62A6WkAAOnL4.jpg   \n",
       "400   673688752737402881    https://pbs.twimg.com/media/CVlsVs3WIAAja6m.jpg   \n",
       "1752  824325613288833024    https://pbs.twimg.com/media/C3CXxaoWQAAiLuC.jpg   \n",
       "466   675015141583413248    https://pbs.twimg.com/media/CV4iqh5WcAEV1E6.jpg   \n",
       "335   672205392827572224    https://pbs.twimg.com/media/CVQnPMrVAAAzShR.jpg   \n",
       "849   695629776980148225    https://pbs.twimg.com/media/Cadfl6zWcAEZqIW.jpg   \n",
       "62    667160273090932737    https://pbs.twimg.com/media/CUI6uuaW4AAvCIs.jpg   \n",
       "815   692752401762250755  https://pbs.twimg.com/tweet_video_thumb/CZ0mhd...   \n",
       "2011  879008229531029506    https://pbs.twimg.com/media/DDLdUrqXYAMOVzY.jpg   \n",
       "600   679736210798047232    https://pbs.twimg.com/media/CW7oelWWcAAhyzz.jpg   \n",
       "\n",
       "      img_num                           p1   p1_conf  p1_dog  \\\n",
       "620         1             Lakeland_terrier  0.796694    True   \n",
       "842         1                  Boston_bull  0.761454    True   \n",
       "718         1                 sliding_door  0.344526   False   \n",
       "400         1  soft-coated_wheaten_terrier  0.340806    True   \n",
       "1752        1                     Pembroke  0.990793    True   \n",
       "466         1                  street_sign  0.290091   False   \n",
       "335         1                       carton  0.952613   False   \n",
       "849         1         Old_English_sheepdog  0.693857    True   \n",
       "62          1             golden_retriever  0.471351    True   \n",
       "815         1                      Samoyed  0.471276    True   \n",
       "2011        1                       vizsla  0.960513    True   \n",
       "600         1               French_bulldog  0.319139    True   \n",
       "\n",
       "                               p2   p2_conf  p2_dog  \\\n",
       "620   West_Highland_white_terrier  0.138709    True   \n",
       "842                           pug  0.075395    True   \n",
       "718                       doormat  0.190027   False   \n",
       "400              Sealyham_terrier  0.234898    True   \n",
       "1752                     Cardigan  0.008919    True   \n",
       "466              golden_retriever  0.258372    True   \n",
       "335                         crate  0.035376   False   \n",
       "849                    otterhound  0.232117    True   \n",
       "62               miniature_poodle  0.091992    True   \n",
       "815                Siberian_husky  0.158850    True   \n",
       "2011           miniature_pinscher  0.009431    True   \n",
       "600                     Chihuahua  0.154088    True   \n",
       "\n",
       "                                  p3   p3_conf  p3_dog  \n",
       "620                  Norwich_terrier  0.016253    True  \n",
       "842                        Chihuahua  0.041598    True  \n",
       "718                        washbasin  0.046326   False  \n",
       "400                           kuvasz  0.203495    True  \n",
       "1752                         basenji  0.000262    True  \n",
       "466                          sandbar  0.132173   False  \n",
       "335                              pug  0.003267    True  \n",
       "849      West_Highland_white_terrier  0.012867    True  \n",
       "62                   standard_poodle  0.087385    True  \n",
       "815                       Eskimo_dog  0.138672    True  \n",
       "2011  American_Staffordshire_terrier  0.008711    True  \n",
       "600                         Cardigan  0.117688    True  "
      ]
     },
     "execution_count": 372,
     "metadata": {},
     "output_type": "execute_result"
    }
   ],
   "source": [
    "image_predictions.sample(12)"
   ]
  },
  {
   "cell_type": "code",
   "execution_count": 373,
   "id": "c5885a67",
   "metadata": {},
   "outputs": [
    {
     "name": "stdout",
     "output_type": "stream",
     "text": [
      "<class 'pandas.core.frame.DataFrame'>\n",
      "RangeIndex: 2075 entries, 0 to 2074\n",
      "Data columns (total 12 columns):\n",
      " #   Column    Non-Null Count  Dtype  \n",
      "---  ------    --------------  -----  \n",
      " 0   tweet_id  2075 non-null   int64  \n",
      " 1   jpg_url   2075 non-null   object \n",
      " 2   img_num   2075 non-null   int64  \n",
      " 3   p1        2075 non-null   object \n",
      " 4   p1_conf   2075 non-null   float64\n",
      " 5   p1_dog    2075 non-null   bool   \n",
      " 6   p2        2075 non-null   object \n",
      " 7   p2_conf   2075 non-null   float64\n",
      " 8   p2_dog    2075 non-null   bool   \n",
      " 9   p3        2075 non-null   object \n",
      " 10  p3_conf   2075 non-null   float64\n",
      " 11  p3_dog    2075 non-null   bool   \n",
      "dtypes: bool(3), float64(3), int64(2), object(4)\n",
      "memory usage: 152.1+ KB\n"
     ]
    }
   ],
   "source": [
    "# check information about column names, datatype, missing data\n",
    "image_predictions.info()"
   ]
  },
  {
   "cell_type": "code",
   "execution_count": 374,
   "id": "9e7d5d91",
   "metadata": {},
   "outputs": [
    {
     "data": {
      "text/plain": [
       "tweet_id    0\n",
       "jpg_url     0\n",
       "img_num     0\n",
       "p1          0\n",
       "p1_conf     0\n",
       "p1_dog      0\n",
       "p2          0\n",
       "p2_conf     0\n",
       "p2_dog      0\n",
       "p3          0\n",
       "p3_conf     0\n",
       "p3_dog      0\n",
       "dtype: int64"
      ]
     },
     "execution_count": 374,
     "metadata": {},
     "output_type": "execute_result"
    }
   ],
   "source": [
    "# check if any null values\n",
    "image_predictions.isnull().sum()"
   ]
  },
  {
   "cell_type": "code",
   "execution_count": 375,
   "id": "ecb815df",
   "metadata": {},
   "outputs": [
    {
     "data": {
      "text/plain": [
       "0"
      ]
     },
     "execution_count": 375,
     "metadata": {},
     "output_type": "execute_result"
    }
   ],
   "source": [
    "# check if any duplicate records\n",
    "image_predictions.duplicated().sum()"
   ]
  },
  {
   "cell_type": "code",
   "execution_count": 376,
   "id": "b336aa9e",
   "metadata": {},
   "outputs": [
    {
     "data": {
      "text/plain": [
       "66"
      ]
     },
     "execution_count": 376,
     "metadata": {},
     "output_type": "execute_result"
    }
   ],
   "source": [
    "image_predictions.jpg_url.duplicated().sum()"
   ]
  },
  {
   "cell_type": "code",
   "execution_count": 377,
   "id": "e19bed66",
   "metadata": {},
   "outputs": [
    {
     "data": {
      "text/html": [
       "<div>\n",
       "<style scoped>\n",
       "    .dataframe tbody tr th:only-of-type {\n",
       "        vertical-align: middle;\n",
       "    }\n",
       "\n",
       "    .dataframe tbody tr th {\n",
       "        vertical-align: top;\n",
       "    }\n",
       "\n",
       "    .dataframe thead th {\n",
       "        text-align: right;\n",
       "    }\n",
       "</style>\n",
       "<table border=\"1\" class=\"dataframe\">\n",
       "  <thead>\n",
       "    <tr style=\"text-align: right;\">\n",
       "      <th></th>\n",
       "      <th>tweet_id</th>\n",
       "      <th>jpg_url</th>\n",
       "      <th>img_num</th>\n",
       "      <th>p1</th>\n",
       "      <th>p1_conf</th>\n",
       "      <th>p1_dog</th>\n",
       "      <th>p2</th>\n",
       "      <th>p2_conf</th>\n",
       "      <th>p2_dog</th>\n",
       "      <th>p3</th>\n",
       "      <th>p3_conf</th>\n",
       "      <th>p3_dog</th>\n",
       "    </tr>\n",
       "  </thead>\n",
       "  <tbody>\n",
       "  </tbody>\n",
       "</table>\n",
       "</div>"
      ],
      "text/plain": [
       "Empty DataFrame\n",
       "Columns: [tweet_id, jpg_url, img_num, p1, p1_conf, p1_dog, p2, p2_conf, p2_dog, p3, p3_conf, p3_dog]\n",
       "Index: []"
      ]
     },
     "execution_count": 377,
     "metadata": {},
     "output_type": "execute_result"
    }
   ],
   "source": [
    "image_predictions[image_predictions['jpg_url'].isnull()]"
   ]
  },
  {
   "cell_type": "code",
   "execution_count": 378,
   "id": "9a0a202c",
   "metadata": {},
   "outputs": [
    {
     "data": {
      "text/plain": [
       "2009"
      ]
     },
     "execution_count": 378,
     "metadata": {},
     "output_type": "execute_result"
    }
   ],
   "source": [
    "image_predictions.jpg_url.nunique()"
   ]
  },
  {
   "cell_type": "code",
   "execution_count": 379,
   "id": "72493848",
   "metadata": {},
   "outputs": [
    {
     "data": {
      "text/plain": [
       "tweet_id    2075\n",
       "jpg_url     2009\n",
       "img_num        4\n",
       "p1           378\n",
       "p1_conf     2006\n",
       "p1_dog         2\n",
       "p2           405\n",
       "p2_conf     2004\n",
       "p2_dog         2\n",
       "p3           408\n",
       "p3_conf     2006\n",
       "p3_dog         2\n",
       "dtype: int64"
      ]
     },
     "execution_count": 379,
     "metadata": {},
     "output_type": "execute_result"
    }
   ],
   "source": [
    "# Check the number of unique values in each column.\n",
    "image_predictions.nunique()"
   ]
  },
  {
   "cell_type": "code",
   "execution_count": 380,
   "id": "a0d844ac",
   "metadata": {},
   "outputs": [
    {
     "data": {
      "text/plain": [
       "golden_retriever      150\n",
       "Labrador_retriever    100\n",
       "Pembroke               89\n",
       "Chihuahua              83\n",
       "pug                    57\n",
       "                     ... \n",
       "pillow                  1\n",
       "carousel                1\n",
       "bald_eagle              1\n",
       "lorikeet                1\n",
       "orange                  1\n",
       "Name: p1, Length: 378, dtype: int64"
      ]
     },
     "execution_count": 380,
     "metadata": {},
     "output_type": "execute_result"
    }
   ],
   "source": [
    "image_predictions.p1.value_counts()"
   ]
  },
  {
   "cell_type": "code",
   "execution_count": 381,
   "id": "fbe5dc5e",
   "metadata": {
    "scrolled": true
   },
   "outputs": [
    {
     "data": {
      "text/html": [
       "<div>\n",
       "<style scoped>\n",
       "    .dataframe tbody tr th:only-of-type {\n",
       "        vertical-align: middle;\n",
       "    }\n",
       "\n",
       "    .dataframe tbody tr th {\n",
       "        vertical-align: top;\n",
       "    }\n",
       "\n",
       "    .dataframe thead th {\n",
       "        text-align: right;\n",
       "    }\n",
       "</style>\n",
       "<table border=\"1\" class=\"dataframe\">\n",
       "  <thead>\n",
       "    <tr style=\"text-align: right;\">\n",
       "      <th></th>\n",
       "      <th>tweet_id</th>\n",
       "      <th>jpg_url</th>\n",
       "      <th>img_num</th>\n",
       "      <th>p1</th>\n",
       "      <th>p1_conf</th>\n",
       "      <th>p1_dog</th>\n",
       "      <th>p2</th>\n",
       "      <th>p2_conf</th>\n",
       "      <th>p2_dog</th>\n",
       "      <th>p3</th>\n",
       "      <th>p3_conf</th>\n",
       "      <th>p3_dog</th>\n",
       "    </tr>\n",
       "  </thead>\n",
       "  <tbody>\n",
       "  </tbody>\n",
       "</table>\n",
       "</div>"
      ],
      "text/plain": [
       "Empty DataFrame\n",
       "Columns: [tweet_id, jpg_url, img_num, p1, p1_conf, p1_dog, p2, p2_conf, p2_dog, p3, p3_conf, p3_dog]\n",
       "Index: []"
      ]
     },
     "execution_count": 381,
     "metadata": {},
     "output_type": "execute_result"
    }
   ],
   "source": [
    "image_predictions[image_predictions.tweet_id.duplicated()]"
   ]
  },
  {
   "cell_type": "code",
   "execution_count": 382,
   "id": "9be0ccf6",
   "metadata": {},
   "outputs": [
    {
     "data": {
      "text/plain": [
       "Labrador_retriever    104\n",
       "golden_retriever       92\n",
       "Cardigan               73\n",
       "Chihuahua              44\n",
       "Pomeranian             42\n",
       "                     ... \n",
       "medicine_chest          1\n",
       "quail                   1\n",
       "horse_cart              1\n",
       "waffle_iron             1\n",
       "bagel                   1\n",
       "Name: p2, Length: 405, dtype: int64"
      ]
     },
     "execution_count": 382,
     "metadata": {},
     "output_type": "execute_result"
    }
   ],
   "source": [
    "image_predictions.p2.value_counts()"
   ]
  },
  {
   "cell_type": "code",
   "execution_count": 383,
   "id": "c1b6df84",
   "metadata": {},
   "outputs": [
    {
     "data": {
      "text/html": [
       "<div>\n",
       "<style scoped>\n",
       "    .dataframe tbody tr th:only-of-type {\n",
       "        vertical-align: middle;\n",
       "    }\n",
       "\n",
       "    .dataframe tbody tr th {\n",
       "        vertical-align: top;\n",
       "    }\n",
       "\n",
       "    .dataframe thead th {\n",
       "        text-align: right;\n",
       "    }\n",
       "</style>\n",
       "<table border=\"1\" class=\"dataframe\">\n",
       "  <thead>\n",
       "    <tr style=\"text-align: right;\">\n",
       "      <th></th>\n",
       "      <th>tweet_id</th>\n",
       "      <th>jpg_url</th>\n",
       "      <th>img_num</th>\n",
       "      <th>p1</th>\n",
       "      <th>p1_conf</th>\n",
       "      <th>p1_dog</th>\n",
       "      <th>p2</th>\n",
       "      <th>p2_conf</th>\n",
       "      <th>p2_dog</th>\n",
       "      <th>p3</th>\n",
       "      <th>p3_conf</th>\n",
       "      <th>p3_dog</th>\n",
       "    </tr>\n",
       "  </thead>\n",
       "  <tbody>\n",
       "    <tr>\n",
       "      <th>1297</th>\n",
       "      <td>752309394570878976</td>\n",
       "      <td>https://pbs.twimg.com/ext_tw_video_thumb/67535...</td>\n",
       "      <td>1</td>\n",
       "      <td>upright</td>\n",
       "      <td>0.303415</td>\n",
       "      <td>False</td>\n",
       "      <td>golden_retriever</td>\n",
       "      <td>0.181351</td>\n",
       "      <td>True</td>\n",
       "      <td>Brittany_spaniel</td>\n",
       "      <td>0.162084</td>\n",
       "      <td>True</td>\n",
       "    </tr>\n",
       "    <tr>\n",
       "      <th>1315</th>\n",
       "      <td>754874841593970688</td>\n",
       "      <td>https://pbs.twimg.com/media/CWza7kpWcAAdYLc.jpg</td>\n",
       "      <td>1</td>\n",
       "      <td>pug</td>\n",
       "      <td>0.272205</td>\n",
       "      <td>True</td>\n",
       "      <td>bull_mastiff</td>\n",
       "      <td>0.251530</td>\n",
       "      <td>True</td>\n",
       "      <td>bath_towel</td>\n",
       "      <td>0.116806</td>\n",
       "      <td>False</td>\n",
       "    </tr>\n",
       "    <tr>\n",
       "      <th>1333</th>\n",
       "      <td>757729163776290825</td>\n",
       "      <td>https://pbs.twimg.com/media/CWyD2HGUYAQ1Xa7.jpg</td>\n",
       "      <td>2</td>\n",
       "      <td>cash_machine</td>\n",
       "      <td>0.802333</td>\n",
       "      <td>False</td>\n",
       "      <td>schipperke</td>\n",
       "      <td>0.045519</td>\n",
       "      <td>True</td>\n",
       "      <td>German_shepherd</td>\n",
       "      <td>0.023353</td>\n",
       "      <td>True</td>\n",
       "    </tr>\n",
       "    <tr>\n",
       "      <th>1345</th>\n",
       "      <td>759159934323924993</td>\n",
       "      <td>https://pbs.twimg.com/media/CU1zsMSUAAAS0qW.jpg</td>\n",
       "      <td>1</td>\n",
       "      <td>Irish_terrier</td>\n",
       "      <td>0.254856</td>\n",
       "      <td>True</td>\n",
       "      <td>briard</td>\n",
       "      <td>0.227716</td>\n",
       "      <td>True</td>\n",
       "      <td>soft-coated_wheaten_terrier</td>\n",
       "      <td>0.223263</td>\n",
       "      <td>True</td>\n",
       "    </tr>\n",
       "    <tr>\n",
       "      <th>1349</th>\n",
       "      <td>759566828574212096</td>\n",
       "      <td>https://pbs.twimg.com/media/CkNjahBXAAQ2kWo.jpg</td>\n",
       "      <td>1</td>\n",
       "      <td>Labrador_retriever</td>\n",
       "      <td>0.967397</td>\n",
       "      <td>True</td>\n",
       "      <td>golden_retriever</td>\n",
       "      <td>0.016641</td>\n",
       "      <td>True</td>\n",
       "      <td>ice_bear</td>\n",
       "      <td>0.014858</td>\n",
       "      <td>False</td>\n",
       "    </tr>\n",
       "    <tr>\n",
       "      <th>...</th>\n",
       "      <td>...</td>\n",
       "      <td>...</td>\n",
       "      <td>...</td>\n",
       "      <td>...</td>\n",
       "      <td>...</td>\n",
       "      <td>...</td>\n",
       "      <td>...</td>\n",
       "      <td>...</td>\n",
       "      <td>...</td>\n",
       "      <td>...</td>\n",
       "      <td>...</td>\n",
       "      <td>...</td>\n",
       "    </tr>\n",
       "    <tr>\n",
       "      <th>1903</th>\n",
       "      <td>851953902622658560</td>\n",
       "      <td>https://pbs.twimg.com/media/C4KHj-nWQAA3poV.jpg</td>\n",
       "      <td>1</td>\n",
       "      <td>Staffordshire_bullterrier</td>\n",
       "      <td>0.757547</td>\n",
       "      <td>True</td>\n",
       "      <td>American_Staffordshire_terrier</td>\n",
       "      <td>0.149950</td>\n",
       "      <td>True</td>\n",
       "      <td>Chesapeake_Bay_retriever</td>\n",
       "      <td>0.047523</td>\n",
       "      <td>True</td>\n",
       "    </tr>\n",
       "    <tr>\n",
       "      <th>1944</th>\n",
       "      <td>861769973181624320</td>\n",
       "      <td>https://pbs.twimg.com/media/CzG425nWgAAnP7P.jpg</td>\n",
       "      <td>2</td>\n",
       "      <td>Arabian_camel</td>\n",
       "      <td>0.366248</td>\n",
       "      <td>False</td>\n",
       "      <td>house_finch</td>\n",
       "      <td>0.209852</td>\n",
       "      <td>False</td>\n",
       "      <td>cocker_spaniel</td>\n",
       "      <td>0.046403</td>\n",
       "      <td>True</td>\n",
       "    </tr>\n",
       "    <tr>\n",
       "      <th>1992</th>\n",
       "      <td>873697596434513921</td>\n",
       "      <td>https://pbs.twimg.com/media/DA7iHL5U0AA1OQo.jpg</td>\n",
       "      <td>1</td>\n",
       "      <td>laptop</td>\n",
       "      <td>0.153718</td>\n",
       "      <td>False</td>\n",
       "      <td>French_bulldog</td>\n",
       "      <td>0.099984</td>\n",
       "      <td>True</td>\n",
       "      <td>printer</td>\n",
       "      <td>0.077130</td>\n",
       "      <td>False</td>\n",
       "    </tr>\n",
       "    <tr>\n",
       "      <th>2041</th>\n",
       "      <td>885311592912609280</td>\n",
       "      <td>https://pbs.twimg.com/media/C4bTH6nWMAAX_bJ.jpg</td>\n",
       "      <td>1</td>\n",
       "      <td>Labrador_retriever</td>\n",
       "      <td>0.908703</td>\n",
       "      <td>True</td>\n",
       "      <td>seat_belt</td>\n",
       "      <td>0.057091</td>\n",
       "      <td>False</td>\n",
       "      <td>pug</td>\n",
       "      <td>0.011933</td>\n",
       "      <td>True</td>\n",
       "    </tr>\n",
       "    <tr>\n",
       "      <th>2055</th>\n",
       "      <td>888202515573088257</td>\n",
       "      <td>https://pbs.twimg.com/media/DFDw2tyUQAAAFke.jpg</td>\n",
       "      <td>2</td>\n",
       "      <td>Pembroke</td>\n",
       "      <td>0.809197</td>\n",
       "      <td>True</td>\n",
       "      <td>Rhodesian_ridgeback</td>\n",
       "      <td>0.054950</td>\n",
       "      <td>True</td>\n",
       "      <td>beagle</td>\n",
       "      <td>0.038915</td>\n",
       "      <td>True</td>\n",
       "    </tr>\n",
       "  </tbody>\n",
       "</table>\n",
       "<p>66 rows × 12 columns</p>\n",
       "</div>"
      ],
      "text/plain": [
       "                tweet_id                                            jpg_url  \\\n",
       "1297  752309394570878976  https://pbs.twimg.com/ext_tw_video_thumb/67535...   \n",
       "1315  754874841593970688    https://pbs.twimg.com/media/CWza7kpWcAAdYLc.jpg   \n",
       "1333  757729163776290825    https://pbs.twimg.com/media/CWyD2HGUYAQ1Xa7.jpg   \n",
       "1345  759159934323924993    https://pbs.twimg.com/media/CU1zsMSUAAAS0qW.jpg   \n",
       "1349  759566828574212096    https://pbs.twimg.com/media/CkNjahBXAAQ2kWo.jpg   \n",
       "...                  ...                                                ...   \n",
       "1903  851953902622658560    https://pbs.twimg.com/media/C4KHj-nWQAA3poV.jpg   \n",
       "1944  861769973181624320    https://pbs.twimg.com/media/CzG425nWgAAnP7P.jpg   \n",
       "1992  873697596434513921    https://pbs.twimg.com/media/DA7iHL5U0AA1OQo.jpg   \n",
       "2041  885311592912609280    https://pbs.twimg.com/media/C4bTH6nWMAAX_bJ.jpg   \n",
       "2055  888202515573088257    https://pbs.twimg.com/media/DFDw2tyUQAAAFke.jpg   \n",
       "\n",
       "      img_num                         p1   p1_conf  p1_dog  \\\n",
       "1297        1                    upright  0.303415   False   \n",
       "1315        1                        pug  0.272205    True   \n",
       "1333        2               cash_machine  0.802333   False   \n",
       "1345        1              Irish_terrier  0.254856    True   \n",
       "1349        1         Labrador_retriever  0.967397    True   \n",
       "...       ...                        ...       ...     ...   \n",
       "1903        1  Staffordshire_bullterrier  0.757547    True   \n",
       "1944        2              Arabian_camel  0.366248   False   \n",
       "1992        1                     laptop  0.153718   False   \n",
       "2041        1         Labrador_retriever  0.908703    True   \n",
       "2055        2                   Pembroke  0.809197    True   \n",
       "\n",
       "                                  p2   p2_conf  p2_dog  \\\n",
       "1297                golden_retriever  0.181351    True   \n",
       "1315                    bull_mastiff  0.251530    True   \n",
       "1333                      schipperke  0.045519    True   \n",
       "1345                          briard  0.227716    True   \n",
       "1349                golden_retriever  0.016641    True   \n",
       "...                              ...       ...     ...   \n",
       "1903  American_Staffordshire_terrier  0.149950    True   \n",
       "1944                     house_finch  0.209852   False   \n",
       "1992                  French_bulldog  0.099984    True   \n",
       "2041                       seat_belt  0.057091   False   \n",
       "2055             Rhodesian_ridgeback  0.054950    True   \n",
       "\n",
       "                               p3   p3_conf  p3_dog  \n",
       "1297             Brittany_spaniel  0.162084    True  \n",
       "1315                   bath_towel  0.116806   False  \n",
       "1333              German_shepherd  0.023353    True  \n",
       "1345  soft-coated_wheaten_terrier  0.223263    True  \n",
       "1349                     ice_bear  0.014858   False  \n",
       "...                           ...       ...     ...  \n",
       "1903     Chesapeake_Bay_retriever  0.047523    True  \n",
       "1944               cocker_spaniel  0.046403    True  \n",
       "1992                      printer  0.077130   False  \n",
       "2041                          pug  0.011933    True  \n",
       "2055                       beagle  0.038915    True  \n",
       "\n",
       "[66 rows x 12 columns]"
      ]
     },
     "execution_count": 383,
     "metadata": {},
     "output_type": "execute_result"
    }
   ],
   "source": [
    "# duplicated\n",
    "image_predictions[image_predictions.jpg_url.duplicated()]"
   ]
  },
  {
   "cell_type": "code",
   "execution_count": 384,
   "id": "dc3ec478",
   "metadata": {},
   "outputs": [
    {
     "data": {
      "text/plain": [
       "Labrador_retriever    79\n",
       "Chihuahua             58\n",
       "golden_retriever      48\n",
       "Eskimo_dog            38\n",
       "kelpie                35\n",
       "                      ..\n",
       "ox                     1\n",
       "assault_rifle          1\n",
       "axolotl                1\n",
       "pot                    1\n",
       "banana                 1\n",
       "Name: p3, Length: 408, dtype: int64"
      ]
     },
     "execution_count": 384,
     "metadata": {},
     "output_type": "execute_result"
    }
   ],
   "source": [
    "image_predictions.p3.value_counts()"
   ]
  },
  {
   "cell_type": "code",
   "execution_count": null,
   "id": "b2bc44ac",
   "metadata": {},
   "outputs": [],
   "source": []
  },
  {
   "cell_type": "code",
   "execution_count": 385,
   "id": "0a8ddf18",
   "metadata": {},
   "outputs": [
    {
     "data": {
      "text/html": [
       "<div>\n",
       "<style scoped>\n",
       "    .dataframe tbody tr th:only-of-type {\n",
       "        vertical-align: middle;\n",
       "    }\n",
       "\n",
       "    .dataframe tbody tr th {\n",
       "        vertical-align: top;\n",
       "    }\n",
       "\n",
       "    .dataframe thead th {\n",
       "        text-align: right;\n",
       "    }\n",
       "</style>\n",
       "<table border=\"1\" class=\"dataframe\">\n",
       "  <thead>\n",
       "    <tr style=\"text-align: right;\">\n",
       "      <th></th>\n",
       "      <th>id</th>\n",
       "      <th>retweet_count</th>\n",
       "      <th>favorite_count</th>\n",
       "    </tr>\n",
       "  </thead>\n",
       "  <tbody>\n",
       "    <tr>\n",
       "      <th>1862</th>\n",
       "      <td>675362609739206656</td>\n",
       "      <td>262</td>\n",
       "      <td>1136</td>\n",
       "    </tr>\n",
       "    <tr>\n",
       "      <th>2233</th>\n",
       "      <td>668171859951755264</td>\n",
       "      <td>208</td>\n",
       "      <td>525</td>\n",
       "    </tr>\n",
       "    <tr>\n",
       "      <th>817</th>\n",
       "      <td>770655142660169732</td>\n",
       "      <td>2013</td>\n",
       "      <td>8130</td>\n",
       "    </tr>\n",
       "    <tr>\n",
       "      <th>1269</th>\n",
       "      <td>709409458133323776</td>\n",
       "      <td>788</td>\n",
       "      <td>2855</td>\n",
       "    </tr>\n",
       "    <tr>\n",
       "      <th>888</th>\n",
       "      <td>759566828574212096</td>\n",
       "      <td>24319</td>\n",
       "      <td>0</td>\n",
       "    </tr>\n",
       "    <tr>\n",
       "      <th>1347</th>\n",
       "      <td>704134088924532736</td>\n",
       "      <td>519</td>\n",
       "      <td>1653</td>\n",
       "    </tr>\n",
       "    <tr>\n",
       "      <th>466</th>\n",
       "      <td>817120970343411712</td>\n",
       "      <td>3011</td>\n",
       "      <td>13367</td>\n",
       "    </tr>\n",
       "    <tr>\n",
       "      <th>1756</th>\n",
       "      <td>678755239630127104</td>\n",
       "      <td>3741</td>\n",
       "      <td>7802</td>\n",
       "    </tr>\n",
       "    <tr>\n",
       "      <th>1705</th>\n",
       "      <td>680801747103793152</td>\n",
       "      <td>925</td>\n",
       "      <td>2600</td>\n",
       "    </tr>\n",
       "    <tr>\n",
       "      <th>1275</th>\n",
       "      <td>709042156699303936</td>\n",
       "      <td>1864</td>\n",
       "      <td>5197</td>\n",
       "    </tr>\n",
       "    <tr>\n",
       "      <th>1141</th>\n",
       "      <td>727314416056803329</td>\n",
       "      <td>834</td>\n",
       "      <td>3623</td>\n",
       "    </tr>\n",
       "    <tr>\n",
       "      <th>1234</th>\n",
       "      <td>712438159032893441</td>\n",
       "      <td>1756</td>\n",
       "      <td>5799</td>\n",
       "    </tr>\n",
       "  </tbody>\n",
       "</table>\n",
       "</div>"
      ],
      "text/plain": [
       "                      id  retweet_count  favorite_count\n",
       "1862  675362609739206656            262            1136\n",
       "2233  668171859951755264            208             525\n",
       "817   770655142660169732           2013            8130\n",
       "1269  709409458133323776            788            2855\n",
       "888   759566828574212096          24319               0\n",
       "1347  704134088924532736            519            1653\n",
       "466   817120970343411712           3011           13367\n",
       "1756  678755239630127104           3741            7802\n",
       "1705  680801747103793152            925            2600\n",
       "1275  709042156699303936           1864            5197\n",
       "1141  727314416056803329            834            3623\n",
       "1234  712438159032893441           1756            5799"
      ]
     },
     "execution_count": 385,
     "metadata": {},
     "output_type": "execute_result"
    }
   ],
   "source": [
    "tweet_data.sample(12)"
   ]
  },
  {
   "cell_type": "code",
   "execution_count": 386,
   "id": "a07e4968",
   "metadata": {},
   "outputs": [
    {
     "name": "stdout",
     "output_type": "stream",
     "text": [
      "<class 'pandas.core.frame.DataFrame'>\n",
      "RangeIndex: 2354 entries, 0 to 2353\n",
      "Data columns (total 3 columns):\n",
      " #   Column          Non-Null Count  Dtype\n",
      "---  ------          --------------  -----\n",
      " 0   id              2354 non-null   int64\n",
      " 1   retweet_count   2354 non-null   int64\n",
      " 2   favorite_count  2354 non-null   int64\n",
      "dtypes: int64(3)\n",
      "memory usage: 55.3 KB\n"
     ]
    }
   ],
   "source": [
    "# check information about column names, datatype, missing data\n",
    "tweet_data.info()"
   ]
  },
  {
   "cell_type": "code",
   "execution_count": 387,
   "id": "527cbc5d",
   "metadata": {},
   "outputs": [
    {
     "data": {
      "text/plain": [
       "id                0\n",
       "retweet_count     0\n",
       "favorite_count    0\n",
       "dtype: int64"
      ]
     },
     "execution_count": 387,
     "metadata": {},
     "output_type": "execute_result"
    }
   ],
   "source": [
    "# check if any null values\n",
    "tweet_data.isnull().sum()"
   ]
  },
  {
   "cell_type": "code",
   "execution_count": 388,
   "id": "ed62f3a2",
   "metadata": {},
   "outputs": [
    {
     "data": {
      "text/html": [
       "<div>\n",
       "<style scoped>\n",
       "    .dataframe tbody tr th:only-of-type {\n",
       "        vertical-align: middle;\n",
       "    }\n",
       "\n",
       "    .dataframe tbody tr th {\n",
       "        vertical-align: top;\n",
       "    }\n",
       "\n",
       "    .dataframe thead th {\n",
       "        text-align: right;\n",
       "    }\n",
       "</style>\n",
       "<table border=\"1\" class=\"dataframe\">\n",
       "  <thead>\n",
       "    <tr style=\"text-align: right;\">\n",
       "      <th></th>\n",
       "      <th>id</th>\n",
       "      <th>retweet_count</th>\n",
       "      <th>favorite_count</th>\n",
       "    </tr>\n",
       "  </thead>\n",
       "  <tbody>\n",
       "    <tr>\n",
       "      <th>count</th>\n",
       "      <td>2.354000e+03</td>\n",
       "      <td>2354.000000</td>\n",
       "      <td>2354.000000</td>\n",
       "    </tr>\n",
       "    <tr>\n",
       "      <th>mean</th>\n",
       "      <td>7.426978e+17</td>\n",
       "      <td>3164.797366</td>\n",
       "      <td>8080.968564</td>\n",
       "    </tr>\n",
       "    <tr>\n",
       "      <th>std</th>\n",
       "      <td>6.852812e+16</td>\n",
       "      <td>5284.770364</td>\n",
       "      <td>11814.771334</td>\n",
       "    </tr>\n",
       "    <tr>\n",
       "      <th>min</th>\n",
       "      <td>6.660209e+17</td>\n",
       "      <td>0.000000</td>\n",
       "      <td>0.000000</td>\n",
       "    </tr>\n",
       "    <tr>\n",
       "      <th>25%</th>\n",
       "      <td>6.783975e+17</td>\n",
       "      <td>624.500000</td>\n",
       "      <td>1415.000000</td>\n",
       "    </tr>\n",
       "    <tr>\n",
       "      <th>50%</th>\n",
       "      <td>7.194596e+17</td>\n",
       "      <td>1473.500000</td>\n",
       "      <td>3603.500000</td>\n",
       "    </tr>\n",
       "    <tr>\n",
       "      <th>75%</th>\n",
       "      <td>7.993058e+17</td>\n",
       "      <td>3652.000000</td>\n",
       "      <td>10122.250000</td>\n",
       "    </tr>\n",
       "    <tr>\n",
       "      <th>max</th>\n",
       "      <td>8.924206e+17</td>\n",
       "      <td>79515.000000</td>\n",
       "      <td>132810.000000</td>\n",
       "    </tr>\n",
       "  </tbody>\n",
       "</table>\n",
       "</div>"
      ],
      "text/plain": [
       "                 id  retweet_count  favorite_count\n",
       "count  2.354000e+03    2354.000000     2354.000000\n",
       "mean   7.426978e+17    3164.797366     8080.968564\n",
       "std    6.852812e+16    5284.770364    11814.771334\n",
       "min    6.660209e+17       0.000000        0.000000\n",
       "25%    6.783975e+17     624.500000     1415.000000\n",
       "50%    7.194596e+17    1473.500000     3603.500000\n",
       "75%    7.993058e+17    3652.000000    10122.250000\n",
       "max    8.924206e+17   79515.000000   132810.000000"
      ]
     },
     "execution_count": 388,
     "metadata": {},
     "output_type": "execute_result"
    }
   ],
   "source": [
    "tweet_data.describe()"
   ]
  },
  {
   "cell_type": "code",
   "execution_count": 389,
   "id": "5dabbc49",
   "metadata": {},
   "outputs": [
    {
     "data": {
      "text/html": [
       "<div>\n",
       "<style scoped>\n",
       "    .dataframe tbody tr th:only-of-type {\n",
       "        vertical-align: middle;\n",
       "    }\n",
       "\n",
       "    .dataframe tbody tr th {\n",
       "        vertical-align: top;\n",
       "    }\n",
       "\n",
       "    .dataframe thead th {\n",
       "        text-align: right;\n",
       "    }\n",
       "</style>\n",
       "<table border=\"1\" class=\"dataframe\">\n",
       "  <thead>\n",
       "    <tr style=\"text-align: right;\">\n",
       "      <th></th>\n",
       "      <th>id</th>\n",
       "      <th>retweet_count</th>\n",
       "      <th>favorite_count</th>\n",
       "    </tr>\n",
       "  </thead>\n",
       "  <tbody>\n",
       "  </tbody>\n",
       "</table>\n",
       "</div>"
      ],
      "text/plain": [
       "Empty DataFrame\n",
       "Columns: [id, retweet_count, favorite_count]\n",
       "Index: []"
      ]
     },
     "execution_count": 389,
     "metadata": {},
     "output_type": "execute_result"
    }
   ],
   "source": [
    "tweet_data[tweet_data.id.duplicated()]"
   ]
  },
  {
   "cell_type": "code",
   "execution_count": 390,
   "id": "d4f7c506",
   "metadata": {},
   "outputs": [
    {
     "data": {
      "text/plain": [
       "False"
      ]
     },
     "execution_count": 390,
     "metadata": {},
     "output_type": "execute_result"
    }
   ],
   "source": [
    "tweet_data.index.duplicated().any()"
   ]
  },
  {
   "cell_type": "code",
   "execution_count": null,
   "id": "82cbfd4b",
   "metadata": {},
   "outputs": [],
   "source": []
  },
  {
   "cell_type": "markdown",
   "id": "3ef74fb8",
   "metadata": {},
   "source": [
    "### Quality\n",
    "`twitter_archive_enhanced` **table**\n",
    "<br>\n",
    "<br>1. Erroneous data type: `tweet_id` should be a string to integer datatype, `timestamp` should be in datetime not string datatype.\n",
    "<br>2. You only want original ratings (no retweets) that have images\n",
    "<br>3. Columns not needed: `in_reply_to_status_id`, `in_reply_to_user_id`, `retweeted_status_id`, `retweeted_status_user_id`, `retweeted_status_timestamp`.\n",
    "<br>4. Extractions possible: Gender(M or F) of dogs could be extracted from `text`,(phone, vine, tweet_deck) could be extracted from source.\n",
    "<br>5. Missing values: the `expanded_urls` is 2297 instead of 2356.\n",
    "<br>6. invalid data entry: all `rating_numerator` should be => 10, all `rating_denominator` should be = 10.\n",
    "<br>7. Lowercase: all values in `name` column should be in lowercase\n",
    "<br>8. inaccurate values: values like a,an,by,none,just,his,old,the,actually etc are seen in the `name` column.\n",
    "<br>9. Column name/value change: should be `floof` instead of `floofer`.\n",
    "<br>10. None & Null values should be represented as Nan in all column especially `name`,  `floof`, `doggo`, `pupper`, `puppo` columns \n",
    "<br>\n",
    "<br> `image_predictions` **table**\n",
    "<br>\n",
    "<br>11. Erroneous data type: `tweet_id` should be a string to integer datatype.\n",
    "<br>12. Descriptive column names: `jpg_url` should be `image_url`,  `img_num` should be `image_number`,`p1` should be `prediction_1`& `p1_conf` should be `prediction_confidence_1`, `p2` should be `prediction_2` & `p2_conf` should be `prediction_confidence_2`, `p3` should be `prediction_3` & `p3_conf` should be `prediction_confidence_3`etc...\n",
    "<br>13. Missing records: 2075 instead of 2356\n",
    "<br>\n",
    "<br> `tweet_data` **table**\n",
    "<br>\n",
    "<br>14. Descriptive column name: `id` should be `tweet_id`\n",
    "<br>15. Erroneous data type: `tweet_id` should be a string to integer datatype.\n",
    "<br>16. Missing records: 2354 instead of 2356.\n",
    "<br>\n",
    "### Tidiness\n",
    " `general` **table**\n",
    "<br>\n",
    "<br>1. All three dataframes can be combined into one single dataframe.\n",
    "<br>\n",
    "<br>`twitter_archive_enhanced` **table**\n",
    "<br>\n",
    "<br>2. `doggo`, `floof`, `pupper`, `puppo` should be in 1 column instead of 4 column.\n",
    "<br>"
   ]
  },
  {
   "cell_type": "code",
   "execution_count": null,
   "id": "06c07cdf",
   "metadata": {},
   "outputs": [],
   "source": []
  },
  {
   "cell_type": "code",
   "execution_count": null,
   "id": "a63aee37",
   "metadata": {},
   "outputs": [],
   "source": []
  },
  {
   "cell_type": "markdown",
   "id": "e55cf043",
   "metadata": {},
   "source": [
    "## Cleaning Data\n",
    "In this section, clean **all** of the issues you documented while assessing. \n"
   ]
  },
  {
   "cell_type": "code",
   "execution_count": null,
   "id": "77ca0d13",
   "metadata": {},
   "outputs": [],
   "source": []
  },
  {
   "cell_type": "code",
   "execution_count": 391,
   "id": "48f1de80",
   "metadata": {},
   "outputs": [],
   "source": [
    "# Make copies of original pieces of data\n",
    "clean_twitter_archive_enhanced = twitter_archive_enhanced.copy()\n",
    "clean_image_predictions = image_predictions.copy()\n",
    "clean_tweet_data = tweet_data.copy()"
   ]
  },
  {
   "cell_type": "code",
   "execution_count": null,
   "id": "d452b05a",
   "metadata": {},
   "outputs": [],
   "source": []
  },
  {
   "cell_type": "markdown",
   "id": "eb36c1b7",
   "metadata": {},
   "source": [
    "\n",
    "\n",
    "\n",
    "### Issue #1:"
   ]
  },
  {
   "cell_type": "markdown",
   "id": "67136016",
   "metadata": {},
   "source": [
    "#### Define:  You only want original ratings (no retweets) that have images"
   ]
  },
  {
   "cell_type": "markdown",
   "id": "4ff9fea1",
   "metadata": {},
   "source": [
    "#### Code"
   ]
  },
  {
   "cell_type": "code",
   "execution_count": 392,
   "id": "ade2dfa5",
   "metadata": {},
   "outputs": [],
   "source": [
    "# Filter clean_twitter_archive_enhanced to only have original tweets and remove all retweets then,\n",
    "clean_twitter_archive_enhanced = clean_twitter_archive_enhanced[clean_twitter_archive_enhanced['retweeted_status_id'].isnull()]\n",
    "\n",
    "# filter clean_twitter_archive_enhanced to only have tweets having images in clean_image_predictions dataframe:\n",
    "clean_twitter_archive_enhanced = clean_twitter_archive_enhanced[clean_twitter_archive_enhanced['tweet_id'].isin(clean_image_predictions['tweet_id'].unique())]\n",
    "# Filter clean_tweet_data to only have 'id' in clean_twitter_archive_enhanced 'tweet_id'\n",
    "clean_tweet_data = clean_tweet_data[clean_tweet_data['id'].isin(clean_twitter_archive_enhanced['tweet_id'].unique())]"
   ]
  },
  {
   "cell_type": "markdown",
   "id": "3a19c091",
   "metadata": {},
   "source": [
    "#### Test"
   ]
  },
  {
   "cell_type": "code",
   "execution_count": 393,
   "id": "5dbb6612",
   "metadata": {},
   "outputs": [
    {
     "name": "stdout",
     "output_type": "stream",
     "text": [
      "<class 'pandas.core.frame.DataFrame'>\n",
      "Int64Index: 1994 entries, 0 to 2355\n",
      "Data columns (total 17 columns):\n",
      " #   Column                      Non-Null Count  Dtype  \n",
      "---  ------                      --------------  -----  \n",
      " 0   tweet_id                    1994 non-null   int64  \n",
      " 1   in_reply_to_status_id       23 non-null     float64\n",
      " 2   in_reply_to_user_id         23 non-null     float64\n",
      " 3   timestamp                   1994 non-null   object \n",
      " 4   source                      1994 non-null   object \n",
      " 5   text                        1994 non-null   object \n",
      " 6   retweeted_status_id         0 non-null      float64\n",
      " 7   retweeted_status_user_id    0 non-null      float64\n",
      " 8   retweeted_status_timestamp  0 non-null      object \n",
      " 9   expanded_urls               1994 non-null   object \n",
      " 10  rating_numerator            1994 non-null   int64  \n",
      " 11  rating_denominator          1994 non-null   int64  \n",
      " 12  name                        1994 non-null   object \n",
      " 13  doggo                       1994 non-null   object \n",
      " 14  floofer                     1994 non-null   object \n",
      " 15  pupper                      1994 non-null   object \n",
      " 16  puppo                       1994 non-null   object \n",
      "dtypes: float64(4), int64(3), object(10)\n",
      "memory usage: 280.4+ KB\n"
     ]
    }
   ],
   "source": [
    "# Check if all retweets as been removed:\n",
    "clean_twitter_archive_enhanced.info()"
   ]
  },
  {
   "cell_type": "code",
   "execution_count": 394,
   "id": "d1ebceb4",
   "metadata": {},
   "outputs": [
    {
     "data": {
      "text/plain": [
       "(1994, 3)"
      ]
     },
     "execution_count": 394,
     "metadata": {},
     "output_type": "execute_result"
    }
   ],
   "source": [
    "# check shape\n",
    "clean_tweet_data.shape"
   ]
  },
  {
   "cell_type": "code",
   "execution_count": 395,
   "id": "059f99cb",
   "metadata": {},
   "outputs": [
    {
     "data": {
      "text/plain": [
       "(1994, 17)"
      ]
     },
     "execution_count": 395,
     "metadata": {},
     "output_type": "execute_result"
    }
   ],
   "source": [
    "clean_twitter_archive_enhanced.shape"
   ]
  },
  {
   "cell_type": "markdown",
   "id": "a94e5872",
   "metadata": {},
   "source": [
    "### Missing Data"
   ]
  },
  {
   "cell_type": "markdown",
   "id": "830e293d",
   "metadata": {},
   "source": [
    "### Issue #2, 3, 4:`"
   ]
  },
  {
   "cell_type": "markdown",
   "id": "589a242d",
   "metadata": {},
   "source": [
    "- Missing expanded_urls is 2297 instead of 2356 in `clean_twitter_archive_enhanced` table.\n",
    "- Missing records 2075 instead of 2356 in `clean_image_predictions` table.\n",
    "- Missing records 2354 instead of 2356 in `clean_tweet_data` table."
   ]
  },
  {
   "cell_type": "markdown",
   "id": "f3c95170",
   "metadata": {},
   "source": [
    "#### Define: All this issues have been fixed after executing issue 1, since `clean_twitter_archive_enhanced`.shape is (1994,17) & `clean_tweet_data`.shape is (1994,3) respectively.."
   ]
  },
  {
   "cell_type": "markdown",
   "id": "758c5583",
   "metadata": {},
   "source": [
    "#### Code"
   ]
  },
  {
   "cell_type": "code",
   "execution_count": 396,
   "id": "be331539",
   "metadata": {},
   "outputs": [],
   "source": [
    "# No programmatic cleaning code needed anymore"
   ]
  },
  {
   "cell_type": "markdown",
   "id": "2cdfa8ed",
   "metadata": {},
   "source": [
    "#### Test"
   ]
  },
  {
   "cell_type": "code",
   "execution_count": 397,
   "id": "1aa05432",
   "metadata": {},
   "outputs": [
    {
     "data": {
      "text/plain": [
       "0"
      ]
     },
     "execution_count": 397,
     "metadata": {},
     "output_type": "execute_result"
    }
   ],
   "source": [
    "# isnull\n",
    "clean_twitter_archive_enhanced.expanded_urls.isnull().sum()"
   ]
  },
  {
   "cell_type": "code",
   "execution_count": 398,
   "id": "39bae5bf",
   "metadata": {},
   "outputs": [
    {
     "data": {
      "text/plain": [
       "(1994, 3)"
      ]
     },
     "execution_count": 398,
     "metadata": {},
     "output_type": "execute_result"
    }
   ],
   "source": [
    "clean_tweet_data.shape"
   ]
  },
  {
   "cell_type": "code",
   "execution_count": null,
   "id": "11a45d01",
   "metadata": {},
   "outputs": [],
   "source": []
  },
  {
   "cell_type": "markdown",
   "id": "b4126b80",
   "metadata": {},
   "source": [
    "### Tidiness"
   ]
  },
  {
   "cell_type": "markdown",
   "id": "36ad823c",
   "metadata": {},
   "source": [
    "- All three dataframes can be combined into one single dataframe.\n",
    "- doggo, floof, pupper, puppo should be in 1 column instead of 4 column\n",
    "- The image predictions could be condensed to show just the most confident dog breed prediction"
   ]
  },
  {
   "cell_type": "markdown",
   "id": "5ae564b9",
   "metadata": {},
   "source": [
    "### Issue #3, 4, 5, 6:"
   ]
  },
  {
   "cell_type": "markdown",
   "id": "be93c534",
   "metadata": {},
   "source": [
    "- All three dataframes can be combined into one single dataframe."
   ]
  },
  {
   "cell_type": "markdown",
   "id": "a688d9ca",
   "metadata": {},
   "source": [
    "#### Define: Create a new dataframe by using the `merge` method  to merge the three tables based on a common column `tweet_id`, before that we have to do a column name change from id to tweet_id in the `clean_tweet_data` table and deal with the erroneous data type of the `tweet_id` column which would be  changed from integer datatype to string datatype in all the tables, alongside timestamp would be changed from string datatype to datetime datatype in the `clean_twitter_archive_enhanced` table."
   ]
  },
  {
   "cell_type": "markdown",
   "id": "bcf8694b",
   "metadata": {},
   "source": [
    "#### Define: Use the `rename` method to change column name."
   ]
  },
  {
   "cell_type": "markdown",
   "id": "07c332c0",
   "metadata": {},
   "source": [
    "#### Code"
   ]
  },
  {
   "cell_type": "code",
   "execution_count": 399,
   "id": "ecc6093e",
   "metadata": {},
   "outputs": [],
   "source": [
    "# Rename column in clean_tweet_data table\n",
    "clean_tweet_data.rename (columns={'id' : 'tweet_id'}, inplace= True)"
   ]
  },
  {
   "cell_type": "markdown",
   "id": "41f9b112",
   "metadata": {},
   "source": [
    "#### Test"
   ]
  },
  {
   "cell_type": "code",
   "execution_count": 400,
   "id": "6f159c42",
   "metadata": {},
   "outputs": [
    {
     "data": {
      "text/html": [
       "<div>\n",
       "<style scoped>\n",
       "    .dataframe tbody tr th:only-of-type {\n",
       "        vertical-align: middle;\n",
       "    }\n",
       "\n",
       "    .dataframe tbody tr th {\n",
       "        vertical-align: top;\n",
       "    }\n",
       "\n",
       "    .dataframe thead th {\n",
       "        text-align: right;\n",
       "    }\n",
       "</style>\n",
       "<table border=\"1\" class=\"dataframe\">\n",
       "  <thead>\n",
       "    <tr style=\"text-align: right;\">\n",
       "      <th></th>\n",
       "      <th>tweet_id</th>\n",
       "      <th>retweet_count</th>\n",
       "      <th>favorite_count</th>\n",
       "    </tr>\n",
       "  </thead>\n",
       "  <tbody>\n",
       "    <tr>\n",
       "      <th>0</th>\n",
       "      <td>892420643555336193</td>\n",
       "      <td>8853</td>\n",
       "      <td>39467</td>\n",
       "    </tr>\n",
       "    <tr>\n",
       "      <th>1</th>\n",
       "      <td>892177421306343426</td>\n",
       "      <td>6514</td>\n",
       "      <td>33819</td>\n",
       "    </tr>\n",
       "  </tbody>\n",
       "</table>\n",
       "</div>"
      ],
      "text/plain": [
       "             tweet_id  retweet_count  favorite_count\n",
       "0  892420643555336193           8853           39467\n",
       "1  892177421306343426           6514           33819"
      ]
     },
     "execution_count": 400,
     "metadata": {},
     "output_type": "execute_result"
    }
   ],
   "source": [
    "clean_tweet_data.head(2)"
   ]
  },
  {
   "cell_type": "code",
   "execution_count": null,
   "id": "872dfee4",
   "metadata": {},
   "outputs": [],
   "source": []
  },
  {
   "cell_type": "markdown",
   "id": "6b76f85f",
   "metadata": {},
   "source": [
    "#### Define: Use the `astype` method & `datetime` method to change datatypes in all tables"
   ]
  },
  {
   "cell_type": "markdown",
   "id": "f02f0a6f",
   "metadata": {},
   "source": [
    "#### Code"
   ]
  },
  {
   "cell_type": "code",
   "execution_count": 401,
   "id": "6a84db62",
   "metadata": {},
   "outputs": [],
   "source": [
    "# Convert tweet_id to string\n",
    "clean_twitter_archive_enhanced['tweet_id'] = clean_twitter_archive_enhanced['tweet_id'].astype(str)\n",
    "clean_image_predictions['tweet_id'] = clean_image_predictions['tweet_id'].astype(str)\n",
    "clean_tweet_data['tweet_id'] = clean_tweet_data['tweet_id'].astype(str)\n",
    "\n",
    "# Convert timestamp to datetime\n",
    "clean_twitter_archive_enhanced['timestamp'] = pd.to_datetime(clean_twitter_archive_enhanced['timestamp'])"
   ]
  },
  {
   "cell_type": "markdown",
   "id": "793f756c",
   "metadata": {},
   "source": [
    "#### Test"
   ]
  },
  {
   "cell_type": "code",
   "execution_count": 402,
   "id": "e3bc6767",
   "metadata": {},
   "outputs": [
    {
     "name": "stdout",
     "output_type": "stream",
     "text": [
      "<class 'pandas.core.frame.DataFrame'>\n",
      "Int64Index: 1994 entries, 0 to 2355\n",
      "Data columns (total 17 columns):\n",
      " #   Column                      Non-Null Count  Dtype              \n",
      "---  ------                      --------------  -----              \n",
      " 0   tweet_id                    1994 non-null   object             \n",
      " 1   in_reply_to_status_id       23 non-null     float64            \n",
      " 2   in_reply_to_user_id         23 non-null     float64            \n",
      " 3   timestamp                   1994 non-null   datetime64[ns, UTC]\n",
      " 4   source                      1994 non-null   object             \n",
      " 5   text                        1994 non-null   object             \n",
      " 6   retweeted_status_id         0 non-null      float64            \n",
      " 7   retweeted_status_user_id    0 non-null      float64            \n",
      " 8   retweeted_status_timestamp  0 non-null      object             \n",
      " 9   expanded_urls               1994 non-null   object             \n",
      " 10  rating_numerator            1994 non-null   int64              \n",
      " 11  rating_denominator          1994 non-null   int64              \n",
      " 12  name                        1994 non-null   object             \n",
      " 13  doggo                       1994 non-null   object             \n",
      " 14  floofer                     1994 non-null   object             \n",
      " 15  pupper                      1994 non-null   object             \n",
      " 16  puppo                       1994 non-null   object             \n",
      "dtypes: datetime64[ns, UTC](1), float64(4), int64(2), object(10)\n",
      "memory usage: 280.4+ KB\n"
     ]
    }
   ],
   "source": [
    "clean_twitter_archive_enhanced.info()"
   ]
  },
  {
   "cell_type": "code",
   "execution_count": 403,
   "id": "f026e510",
   "metadata": {},
   "outputs": [
    {
     "name": "stdout",
     "output_type": "stream",
     "text": [
      "<class 'pandas.core.frame.DataFrame'>\n",
      "RangeIndex: 2075 entries, 0 to 2074\n",
      "Data columns (total 12 columns):\n",
      " #   Column    Non-Null Count  Dtype  \n",
      "---  ------    --------------  -----  \n",
      " 0   tweet_id  2075 non-null   object \n",
      " 1   jpg_url   2075 non-null   object \n",
      " 2   img_num   2075 non-null   int64  \n",
      " 3   p1        2075 non-null   object \n",
      " 4   p1_conf   2075 non-null   float64\n",
      " 5   p1_dog    2075 non-null   bool   \n",
      " 6   p2        2075 non-null   object \n",
      " 7   p2_conf   2075 non-null   float64\n",
      " 8   p2_dog    2075 non-null   bool   \n",
      " 9   p3        2075 non-null   object \n",
      " 10  p3_conf   2075 non-null   float64\n",
      " 11  p3_dog    2075 non-null   bool   \n",
      "dtypes: bool(3), float64(3), int64(1), object(5)\n",
      "memory usage: 152.1+ KB\n"
     ]
    }
   ],
   "source": [
    "clean_image_predictions.info()"
   ]
  },
  {
   "cell_type": "code",
   "execution_count": 404,
   "id": "d893e287",
   "metadata": {},
   "outputs": [
    {
     "name": "stdout",
     "output_type": "stream",
     "text": [
      "<class 'pandas.core.frame.DataFrame'>\n",
      "Int64Index: 1994 entries, 0 to 2353\n",
      "Data columns (total 3 columns):\n",
      " #   Column          Non-Null Count  Dtype \n",
      "---  ------          --------------  ----- \n",
      " 0   tweet_id        1994 non-null   object\n",
      " 1   retweet_count   1994 non-null   int64 \n",
      " 2   favorite_count  1994 non-null   int64 \n",
      "dtypes: int64(2), object(1)\n",
      "memory usage: 62.3+ KB\n"
     ]
    }
   ],
   "source": [
    " clean_tweet_data.info()"
   ]
  },
  {
   "cell_type": "code",
   "execution_count": null,
   "id": "ae7af7ea",
   "metadata": {},
   "outputs": [],
   "source": []
  },
  {
   "cell_type": "markdown",
   "id": "9250c502",
   "metadata": {},
   "source": [
    "#### Define: Use the `merge` method to merge the three tables on a common column `tweet_id`."
   ]
  },
  {
   "cell_type": "markdown",
   "id": "0c3e47d0",
   "metadata": {},
   "source": [
    "#### Code"
   ]
  },
  {
   "cell_type": "code",
   "execution_count": 405,
   "id": "212db64c",
   "metadata": {},
   "outputs": [],
   "source": [
    "# Create a new dataframe that merge clean_twitter_archive_enhanced and clean_image_predictions\n",
    "\n",
    "df_we_rate_dogs = pd.merge(clean_twitter_archive_enhanced, \n",
    "                      clean_image_predictions,\n",
    "                      how = 'left', on = ['tweet_id'])\n",
    "# Create a new dataframe that merge new dataframe and clean_tweet_data\n",
    "df_we_rate_dogs = pd.merge(df_we_rate_dogs, \n",
    "                      clean_tweet_data,\n",
    "                      how = 'left', on = ['tweet_id'])"
   ]
  },
  {
   "cell_type": "markdown",
   "id": "2335aec2",
   "metadata": {},
   "source": [
    "#### Test"
   ]
  },
  {
   "cell_type": "code",
   "execution_count": 406,
   "id": "0230bc40",
   "metadata": {},
   "outputs": [
    {
     "data": {
      "text/html": [
       "<div>\n",
       "<style scoped>\n",
       "    .dataframe tbody tr th:only-of-type {\n",
       "        vertical-align: middle;\n",
       "    }\n",
       "\n",
       "    .dataframe tbody tr th {\n",
       "        vertical-align: top;\n",
       "    }\n",
       "\n",
       "    .dataframe thead th {\n",
       "        text-align: right;\n",
       "    }\n",
       "</style>\n",
       "<table border=\"1\" class=\"dataframe\">\n",
       "  <thead>\n",
       "    <tr style=\"text-align: right;\">\n",
       "      <th></th>\n",
       "      <th>tweet_id</th>\n",
       "      <th>in_reply_to_status_id</th>\n",
       "      <th>in_reply_to_user_id</th>\n",
       "      <th>timestamp</th>\n",
       "      <th>source</th>\n",
       "      <th>text</th>\n",
       "      <th>retweeted_status_id</th>\n",
       "      <th>retweeted_status_user_id</th>\n",
       "      <th>retweeted_status_timestamp</th>\n",
       "      <th>expanded_urls</th>\n",
       "      <th>...</th>\n",
       "      <th>p1_conf</th>\n",
       "      <th>p1_dog</th>\n",
       "      <th>p2</th>\n",
       "      <th>p2_conf</th>\n",
       "      <th>p2_dog</th>\n",
       "      <th>p3</th>\n",
       "      <th>p3_conf</th>\n",
       "      <th>p3_dog</th>\n",
       "      <th>retweet_count</th>\n",
       "      <th>favorite_count</th>\n",
       "    </tr>\n",
       "  </thead>\n",
       "  <tbody>\n",
       "    <tr>\n",
       "      <th>0</th>\n",
       "      <td>892420643555336193</td>\n",
       "      <td>NaN</td>\n",
       "      <td>NaN</td>\n",
       "      <td>2017-08-01 16:23:56+00:00</td>\n",
       "      <td>&lt;a href=\"http://twitter.com/download/iphone\" r...</td>\n",
       "      <td>This is Phineas. He's a mystical boy. Only eve...</td>\n",
       "      <td>NaN</td>\n",
       "      <td>NaN</td>\n",
       "      <td>NaN</td>\n",
       "      <td>https://twitter.com/dog_rates/status/892420643...</td>\n",
       "      <td>...</td>\n",
       "      <td>0.097049</td>\n",
       "      <td>False</td>\n",
       "      <td>bagel</td>\n",
       "      <td>0.085851</td>\n",
       "      <td>False</td>\n",
       "      <td>banana</td>\n",
       "      <td>0.076110</td>\n",
       "      <td>False</td>\n",
       "      <td>8853</td>\n",
       "      <td>39467</td>\n",
       "    </tr>\n",
       "    <tr>\n",
       "      <th>1</th>\n",
       "      <td>892177421306343426</td>\n",
       "      <td>NaN</td>\n",
       "      <td>NaN</td>\n",
       "      <td>2017-08-01 00:17:27+00:00</td>\n",
       "      <td>&lt;a href=\"http://twitter.com/download/iphone\" r...</td>\n",
       "      <td>This is Tilly. She's just checking pup on you....</td>\n",
       "      <td>NaN</td>\n",
       "      <td>NaN</td>\n",
       "      <td>NaN</td>\n",
       "      <td>https://twitter.com/dog_rates/status/892177421...</td>\n",
       "      <td>...</td>\n",
       "      <td>0.323581</td>\n",
       "      <td>True</td>\n",
       "      <td>Pekinese</td>\n",
       "      <td>0.090647</td>\n",
       "      <td>True</td>\n",
       "      <td>papillon</td>\n",
       "      <td>0.068957</td>\n",
       "      <td>True</td>\n",
       "      <td>6514</td>\n",
       "      <td>33819</td>\n",
       "    </tr>\n",
       "    <tr>\n",
       "      <th>2</th>\n",
       "      <td>891815181378084864</td>\n",
       "      <td>NaN</td>\n",
       "      <td>NaN</td>\n",
       "      <td>2017-07-31 00:18:03+00:00</td>\n",
       "      <td>&lt;a href=\"http://twitter.com/download/iphone\" r...</td>\n",
       "      <td>This is Archie. He is a rare Norwegian Pouncin...</td>\n",
       "      <td>NaN</td>\n",
       "      <td>NaN</td>\n",
       "      <td>NaN</td>\n",
       "      <td>https://twitter.com/dog_rates/status/891815181...</td>\n",
       "      <td>...</td>\n",
       "      <td>0.716012</td>\n",
       "      <td>True</td>\n",
       "      <td>malamute</td>\n",
       "      <td>0.078253</td>\n",
       "      <td>True</td>\n",
       "      <td>kelpie</td>\n",
       "      <td>0.031379</td>\n",
       "      <td>True</td>\n",
       "      <td>4328</td>\n",
       "      <td>25461</td>\n",
       "    </tr>\n",
       "    <tr>\n",
       "      <th>3</th>\n",
       "      <td>891689557279858688</td>\n",
       "      <td>NaN</td>\n",
       "      <td>NaN</td>\n",
       "      <td>2017-07-30 15:58:51+00:00</td>\n",
       "      <td>&lt;a href=\"http://twitter.com/download/iphone\" r...</td>\n",
       "      <td>This is Darla. She commenced a snooze mid meal...</td>\n",
       "      <td>NaN</td>\n",
       "      <td>NaN</td>\n",
       "      <td>NaN</td>\n",
       "      <td>https://twitter.com/dog_rates/status/891689557...</td>\n",
       "      <td>...</td>\n",
       "      <td>0.170278</td>\n",
       "      <td>False</td>\n",
       "      <td>Labrador_retriever</td>\n",
       "      <td>0.168086</td>\n",
       "      <td>True</td>\n",
       "      <td>spatula</td>\n",
       "      <td>0.040836</td>\n",
       "      <td>False</td>\n",
       "      <td>8964</td>\n",
       "      <td>42908</td>\n",
       "    </tr>\n",
       "    <tr>\n",
       "      <th>4</th>\n",
       "      <td>891327558926688256</td>\n",
       "      <td>NaN</td>\n",
       "      <td>NaN</td>\n",
       "      <td>2017-07-29 16:00:24+00:00</td>\n",
       "      <td>&lt;a href=\"http://twitter.com/download/iphone\" r...</td>\n",
       "      <td>This is Franklin. He would like you to stop ca...</td>\n",
       "      <td>NaN</td>\n",
       "      <td>NaN</td>\n",
       "      <td>NaN</td>\n",
       "      <td>https://twitter.com/dog_rates/status/891327558...</td>\n",
       "      <td>...</td>\n",
       "      <td>0.555712</td>\n",
       "      <td>True</td>\n",
       "      <td>English_springer</td>\n",
       "      <td>0.225770</td>\n",
       "      <td>True</td>\n",
       "      <td>German_short-haired_pointer</td>\n",
       "      <td>0.175219</td>\n",
       "      <td>True</td>\n",
       "      <td>9774</td>\n",
       "      <td>41048</td>\n",
       "    </tr>\n",
       "  </tbody>\n",
       "</table>\n",
       "<p>5 rows × 30 columns</p>\n",
       "</div>"
      ],
      "text/plain": [
       "             tweet_id  in_reply_to_status_id  in_reply_to_user_id  \\\n",
       "0  892420643555336193                    NaN                  NaN   \n",
       "1  892177421306343426                    NaN                  NaN   \n",
       "2  891815181378084864                    NaN                  NaN   \n",
       "3  891689557279858688                    NaN                  NaN   \n",
       "4  891327558926688256                    NaN                  NaN   \n",
       "\n",
       "                  timestamp  \\\n",
       "0 2017-08-01 16:23:56+00:00   \n",
       "1 2017-08-01 00:17:27+00:00   \n",
       "2 2017-07-31 00:18:03+00:00   \n",
       "3 2017-07-30 15:58:51+00:00   \n",
       "4 2017-07-29 16:00:24+00:00   \n",
       "\n",
       "                                              source  \\\n",
       "0  <a href=\"http://twitter.com/download/iphone\" r...   \n",
       "1  <a href=\"http://twitter.com/download/iphone\" r...   \n",
       "2  <a href=\"http://twitter.com/download/iphone\" r...   \n",
       "3  <a href=\"http://twitter.com/download/iphone\" r...   \n",
       "4  <a href=\"http://twitter.com/download/iphone\" r...   \n",
       "\n",
       "                                                text  retweeted_status_id  \\\n",
       "0  This is Phineas. He's a mystical boy. Only eve...                  NaN   \n",
       "1  This is Tilly. She's just checking pup on you....                  NaN   \n",
       "2  This is Archie. He is a rare Norwegian Pouncin...                  NaN   \n",
       "3  This is Darla. She commenced a snooze mid meal...                  NaN   \n",
       "4  This is Franklin. He would like you to stop ca...                  NaN   \n",
       "\n",
       "   retweeted_status_user_id retweeted_status_timestamp  \\\n",
       "0                       NaN                        NaN   \n",
       "1                       NaN                        NaN   \n",
       "2                       NaN                        NaN   \n",
       "3                       NaN                        NaN   \n",
       "4                       NaN                        NaN   \n",
       "\n",
       "                                       expanded_urls  ...   p1_conf  p1_dog  \\\n",
       "0  https://twitter.com/dog_rates/status/892420643...  ...  0.097049   False   \n",
       "1  https://twitter.com/dog_rates/status/892177421...  ...  0.323581    True   \n",
       "2  https://twitter.com/dog_rates/status/891815181...  ...  0.716012    True   \n",
       "3  https://twitter.com/dog_rates/status/891689557...  ...  0.170278   False   \n",
       "4  https://twitter.com/dog_rates/status/891327558...  ...  0.555712    True   \n",
       "\n",
       "                   p2   p2_conf p2_dog                           p3   p3_conf  \\\n",
       "0               bagel  0.085851  False                       banana  0.076110   \n",
       "1            Pekinese  0.090647   True                     papillon  0.068957   \n",
       "2            malamute  0.078253   True                       kelpie  0.031379   \n",
       "3  Labrador_retriever  0.168086   True                      spatula  0.040836   \n",
       "4    English_springer  0.225770   True  German_short-haired_pointer  0.175219   \n",
       "\n",
       "  p3_dog  retweet_count favorite_count  \n",
       "0  False           8853          39467  \n",
       "1   True           6514          33819  \n",
       "2   True           4328          25461  \n",
       "3  False           8964          42908  \n",
       "4   True           9774          41048  \n",
       "\n",
       "[5 rows x 30 columns]"
      ]
     },
     "execution_count": 406,
     "metadata": {},
     "output_type": "execute_result"
    }
   ],
   "source": [
    "df_we_rate_dogs.head()"
   ]
  },
  {
   "cell_type": "code",
   "execution_count": 407,
   "id": "6c844243",
   "metadata": {},
   "outputs": [
    {
     "name": "stdout",
     "output_type": "stream",
     "text": [
      "<class 'pandas.core.frame.DataFrame'>\n",
      "Int64Index: 1994 entries, 0 to 1993\n",
      "Data columns (total 30 columns):\n",
      " #   Column                      Non-Null Count  Dtype              \n",
      "---  ------                      --------------  -----              \n",
      " 0   tweet_id                    1994 non-null   object             \n",
      " 1   in_reply_to_status_id       23 non-null     float64            \n",
      " 2   in_reply_to_user_id         23 non-null     float64            \n",
      " 3   timestamp                   1994 non-null   datetime64[ns, UTC]\n",
      " 4   source                      1994 non-null   object             \n",
      " 5   text                        1994 non-null   object             \n",
      " 6   retweeted_status_id         0 non-null      float64            \n",
      " 7   retweeted_status_user_id    0 non-null      float64            \n",
      " 8   retweeted_status_timestamp  0 non-null      object             \n",
      " 9   expanded_urls               1994 non-null   object             \n",
      " 10  rating_numerator            1994 non-null   int64              \n",
      " 11  rating_denominator          1994 non-null   int64              \n",
      " 12  name                        1994 non-null   object             \n",
      " 13  doggo                       1994 non-null   object             \n",
      " 14  floofer                     1994 non-null   object             \n",
      " 15  pupper                      1994 non-null   object             \n",
      " 16  puppo                       1994 non-null   object             \n",
      " 17  jpg_url                     1994 non-null   object             \n",
      " 18  img_num                     1994 non-null   int64              \n",
      " 19  p1                          1994 non-null   object             \n",
      " 20  p1_conf                     1994 non-null   float64            \n",
      " 21  p1_dog                      1994 non-null   bool               \n",
      " 22  p2                          1994 non-null   object             \n",
      " 23  p2_conf                     1994 non-null   float64            \n",
      " 24  p2_dog                      1994 non-null   bool               \n",
      " 25  p3                          1994 non-null   object             \n",
      " 26  p3_conf                     1994 non-null   float64            \n",
      " 27  p3_dog                      1994 non-null   bool               \n",
      " 28  retweet_count               1994 non-null   int64              \n",
      " 29  favorite_count              1994 non-null   int64              \n",
      "dtypes: bool(3), datetime64[ns, UTC](1), float64(7), int64(5), object(14)\n",
      "memory usage: 442.0+ KB\n"
     ]
    }
   ],
   "source": [
    "df_we_rate_dogs.info()"
   ]
  },
  {
   "cell_type": "code",
   "execution_count": null,
   "id": "3d81e393",
   "metadata": {},
   "outputs": [],
   "source": []
  },
  {
   "cell_type": "markdown",
   "id": "52906e6b",
   "metadata": {},
   "source": [
    "### Issue #7:"
   ]
  },
  {
   "cell_type": "markdown",
   "id": "9e03d0a1",
   "metadata": {},
   "source": [
    "#### Define: Condense the 4 dog stage column (`doggo`, `floofer`, `puppo`, `pupper`) into a single `dog_stage` column and convert it into a categorical variable. Also, remove the unwanted columns."
   ]
  },
  {
   "cell_type": "markdown",
   "id": "11bdc955",
   "metadata": {},
   "source": [
    "#### Code"
   ]
  },
  {
   "cell_type": "code",
   "execution_count": 408,
   "id": "c326bd15",
   "metadata": {},
   "outputs": [],
   "source": [
    "# Create a function to find 'doggo', 'floofer', 'puppo', 'pupper' in text\n",
    "def get_stage(row):\n",
    "    if 'doggo' in row['text'].lower():\n",
    "        dog_stage = 'doggo'\n",
    "    elif 'floof' in row['text'].lower():\n",
    "        dog_stage = 'floofer'\n",
    "    elif 'pupper' in row['text'].lower():\n",
    "        dog_stage = 'pupper'\n",
    "    elif 'puppo' in row['text'].lower():\n",
    "        dog_stage = 'puppo'\n",
    "    else:\n",
    "        dog_stage = ''\n",
    "    return dog_stage"
   ]
  },
  {
   "cell_type": "code",
   "execution_count": 409,
   "id": "1a1a2dda",
   "metadata": {},
   "outputs": [],
   "source": [
    "# Apply function to column and change datatype to category\n",
    "df_we_rate_dogs['dog_stage'] = df_we_rate_dogs.apply(get_stage, axis=1)\n",
    "df_we_rate_dogs['dog_stage'] = df_we_rate_dogs.dog_stage.astype('category')"
   ]
  },
  {
   "cell_type": "code",
   "execution_count": 410,
   "id": "04be9eb2",
   "metadata": {},
   "outputs": [],
   "source": [
    "# drop columns\n",
    "df_we_rate_dogs.drop(['doggo','pupper','floofer','puppo'], axis=1, inplace=True)"
   ]
  },
  {
   "cell_type": "markdown",
   "id": "39583ef2",
   "metadata": {},
   "source": [
    "#### Test"
   ]
  },
  {
   "cell_type": "code",
   "execution_count": 411,
   "id": "2dae8883",
   "metadata": {},
   "outputs": [
    {
     "name": "stdout",
     "output_type": "stream",
     "text": [
      "<class 'pandas.core.frame.DataFrame'>\n",
      "Int64Index: 1994 entries, 0 to 1993\n",
      "Data columns (total 27 columns):\n",
      " #   Column                      Non-Null Count  Dtype              \n",
      "---  ------                      --------------  -----              \n",
      " 0   tweet_id                    1994 non-null   object             \n",
      " 1   in_reply_to_status_id       23 non-null     float64            \n",
      " 2   in_reply_to_user_id         23 non-null     float64            \n",
      " 3   timestamp                   1994 non-null   datetime64[ns, UTC]\n",
      " 4   source                      1994 non-null   object             \n",
      " 5   text                        1994 non-null   object             \n",
      " 6   retweeted_status_id         0 non-null      float64            \n",
      " 7   retweeted_status_user_id    0 non-null      float64            \n",
      " 8   retweeted_status_timestamp  0 non-null      object             \n",
      " 9   expanded_urls               1994 non-null   object             \n",
      " 10  rating_numerator            1994 non-null   int64              \n",
      " 11  rating_denominator          1994 non-null   int64              \n",
      " 12  name                        1994 non-null   object             \n",
      " 13  jpg_url                     1994 non-null   object             \n",
      " 14  img_num                     1994 non-null   int64              \n",
      " 15  p1                          1994 non-null   object             \n",
      " 16  p1_conf                     1994 non-null   float64            \n",
      " 17  p1_dog                      1994 non-null   bool               \n",
      " 18  p2                          1994 non-null   object             \n",
      " 19  p2_conf                     1994 non-null   float64            \n",
      " 20  p2_dog                      1994 non-null   bool               \n",
      " 21  p3                          1994 non-null   object             \n",
      " 22  p3_conf                     1994 non-null   float64            \n",
      " 23  p3_dog                      1994 non-null   bool               \n",
      " 24  retweet_count               1994 non-null   int64              \n",
      " 25  favorite_count              1994 non-null   int64              \n",
      " 26  dog_stage                   1994 non-null   category           \n",
      "dtypes: bool(3), category(1), datetime64[ns, UTC](1), float64(7), int64(5), object(10)\n",
      "memory usage: 381.9+ KB\n"
     ]
    }
   ],
   "source": [
    "df_we_rate_dogs.info()"
   ]
  },
  {
   "cell_type": "code",
   "execution_count": 412,
   "id": "e1f7a6a5",
   "metadata": {},
   "outputs": [
    {
     "data": {
      "text/plain": [
       "           1625\n",
       "pupper      227\n",
       "doggo        80\n",
       "floofer      35\n",
       "puppo        27\n",
       "Name: dog_stage, dtype: int64"
      ]
     },
     "execution_count": 412,
     "metadata": {},
     "output_type": "execute_result"
    }
   ],
   "source": [
    "df_we_rate_dogs.dog_stage.value_counts()"
   ]
  },
  {
   "cell_type": "code",
   "execution_count": 413,
   "id": "2c348647",
   "metadata": {},
   "outputs": [
    {
     "data": {
      "text/plain": [
       "1994"
      ]
     },
     "execution_count": 413,
     "metadata": {},
     "output_type": "execute_result"
    }
   ],
   "source": [
    "df_we_rate_dogs.dog_stage.value_counts().sum()"
   ]
  },
  {
   "cell_type": "code",
   "execution_count": null,
   "id": "0b4d23d7",
   "metadata": {},
   "outputs": [],
   "source": []
  },
  {
   "cell_type": "markdown",
   "id": "d07f7f2d",
   "metadata": {},
   "source": [
    "### Issue #7:"
   ]
  },
  {
   "cell_type": "markdown",
   "id": "b5187407",
   "metadata": {},
   "source": [
    "#### Define: Create a fuction that fimds 'he' and 'she' from `text` column, use `apply` method to apply into a new column, finally use `astype` method to change the datatype to category."
   ]
  },
  {
   "cell_type": "markdown",
   "id": "e313a301",
   "metadata": {},
   "source": [
    "#### Code"
   ]
  },
  {
   "cell_type": "code",
   "execution_count": 414,
   "id": "6327358f",
   "metadata": {},
   "outputs": [],
   "source": [
    "# Create function to find 'he' and 'she' from text column\n",
    "def get_gender(row):\n",
    "    if 'she' in row['text'].lower():\n",
    "        gender = 'F'\n",
    "    elif 'he' in row['text'].lower():\n",
    "        gender = 'M'\n",
    "    else:\n",
    "        gender = ''\n",
    "    return gender"
   ]
  },
  {
   "cell_type": "code",
   "execution_count": 415,
   "id": "f1809f23",
   "metadata": {},
   "outputs": [],
   "source": [
    "# Apply function to column and change datatype to category\n",
    "df_we_rate_dogs['gender'] = df_we_rate_dogs.apply(get_gender, axis=1)\n",
    "df_we_rate_dogs['gender'] = df_we_rate_dogs.gender.astype('category')\n"
   ]
  },
  {
   "cell_type": "markdown",
   "id": "5529fd3f",
   "metadata": {},
   "source": [
    "\n",
    "#### Test"
   ]
  },
  {
   "cell_type": "code",
   "execution_count": 416,
   "id": "d26ead7b",
   "metadata": {},
   "outputs": [
    {
     "data": {
      "text/plain": [
       "M    1402\n",
       "F     351\n",
       "      241\n",
       "Name: gender, dtype: int64"
      ]
     },
     "execution_count": 416,
     "metadata": {},
     "output_type": "execute_result"
    }
   ],
   "source": [
    "df_we_rate_dogs.gender.value_counts()"
   ]
  },
  {
   "cell_type": "code",
   "execution_count": 417,
   "id": "8caf48d3",
   "metadata": {},
   "outputs": [
    {
     "data": {
      "text/html": [
       "<div>\n",
       "<style scoped>\n",
       "    .dataframe tbody tr th:only-of-type {\n",
       "        vertical-align: middle;\n",
       "    }\n",
       "\n",
       "    .dataframe tbody tr th {\n",
       "        vertical-align: top;\n",
       "    }\n",
       "\n",
       "    .dataframe thead th {\n",
       "        text-align: right;\n",
       "    }\n",
       "</style>\n",
       "<table border=\"1\" class=\"dataframe\">\n",
       "  <thead>\n",
       "    <tr style=\"text-align: right;\">\n",
       "      <th></th>\n",
       "      <th>tweet_id</th>\n",
       "      <th>in_reply_to_status_id</th>\n",
       "      <th>in_reply_to_user_id</th>\n",
       "      <th>timestamp</th>\n",
       "      <th>source</th>\n",
       "      <th>text</th>\n",
       "      <th>retweeted_status_id</th>\n",
       "      <th>retweeted_status_user_id</th>\n",
       "      <th>retweeted_status_timestamp</th>\n",
       "      <th>expanded_urls</th>\n",
       "      <th>...</th>\n",
       "      <th>p2</th>\n",
       "      <th>p2_conf</th>\n",
       "      <th>p2_dog</th>\n",
       "      <th>p3</th>\n",
       "      <th>p3_conf</th>\n",
       "      <th>p3_dog</th>\n",
       "      <th>retweet_count</th>\n",
       "      <th>favorite_count</th>\n",
       "      <th>dog_stage</th>\n",
       "      <th>gender</th>\n",
       "    </tr>\n",
       "  </thead>\n",
       "  <tbody>\n",
       "    <tr>\n",
       "      <th>1367</th>\n",
       "      <td>680889648562991104</td>\n",
       "      <td>NaN</td>\n",
       "      <td>NaN</td>\n",
       "      <td>2015-12-26 23:15:17+00:00</td>\n",
       "      <td>&lt;a href=\"http://twitter.com/download/iphone\" r...</td>\n",
       "      <td>This is Cheesy. It's her birthday. She's patie...</td>\n",
       "      <td>NaN</td>\n",
       "      <td>NaN</td>\n",
       "      <td>NaN</td>\n",
       "      <td>https://twitter.com/dog_rates/status/680889648...</td>\n",
       "      <td>...</td>\n",
       "      <td>collie</td>\n",
       "      <td>0.078331</td>\n",
       "      <td>True</td>\n",
       "      <td>Pomeranian</td>\n",
       "      <td>0.020407</td>\n",
       "      <td>True</td>\n",
       "      <td>418</td>\n",
       "      <td>1945</td>\n",
       "      <td></td>\n",
       "      <td>F</td>\n",
       "    </tr>\n",
       "    <tr>\n",
       "      <th>1459</th>\n",
       "      <td>676946864479084545</td>\n",
       "      <td>NaN</td>\n",
       "      <td>NaN</td>\n",
       "      <td>2015-12-16 02:08:04+00:00</td>\n",
       "      <td>&lt;a href=\"http://twitter.com/download/iphone\" r...</td>\n",
       "      <td>This pups goal was to get all four feet as clo...</td>\n",
       "      <td>NaN</td>\n",
       "      <td>NaN</td>\n",
       "      <td>NaN</td>\n",
       "      <td>https://twitter.com/dog_rates/status/676946864...</td>\n",
       "      <td>...</td>\n",
       "      <td>golden_retriever</td>\n",
       "      <td>0.055655</td>\n",
       "      <td>True</td>\n",
       "      <td>Great_Pyrenees</td>\n",
       "      <td>0.041018</td>\n",
       "      <td>True</td>\n",
       "      <td>426</td>\n",
       "      <td>1844</td>\n",
       "      <td></td>\n",
       "      <td>M</td>\n",
       "    </tr>\n",
       "  </tbody>\n",
       "</table>\n",
       "<p>2 rows × 28 columns</p>\n",
       "</div>"
      ],
      "text/plain": [
       "                tweet_id  in_reply_to_status_id  in_reply_to_user_id  \\\n",
       "1367  680889648562991104                    NaN                  NaN   \n",
       "1459  676946864479084545                    NaN                  NaN   \n",
       "\n",
       "                     timestamp  \\\n",
       "1367 2015-12-26 23:15:17+00:00   \n",
       "1459 2015-12-16 02:08:04+00:00   \n",
       "\n",
       "                                                 source  \\\n",
       "1367  <a href=\"http://twitter.com/download/iphone\" r...   \n",
       "1459  <a href=\"http://twitter.com/download/iphone\" r...   \n",
       "\n",
       "                                                   text  retweeted_status_id  \\\n",
       "1367  This is Cheesy. It's her birthday. She's patie...                  NaN   \n",
       "1459  This pups goal was to get all four feet as clo...                  NaN   \n",
       "\n",
       "      retweeted_status_user_id retweeted_status_timestamp  \\\n",
       "1367                       NaN                        NaN   \n",
       "1459                       NaN                        NaN   \n",
       "\n",
       "                                          expanded_urls  ...  \\\n",
       "1367  https://twitter.com/dog_rates/status/680889648...  ...   \n",
       "1459  https://twitter.com/dog_rates/status/676946864...  ...   \n",
       "\n",
       "                    p2   p2_conf p2_dog              p3   p3_conf p3_dog  \\\n",
       "1367            collie  0.078331   True      Pomeranian  0.020407   True   \n",
       "1459  golden_retriever  0.055655   True  Great_Pyrenees  0.041018   True   \n",
       "\n",
       "      retweet_count  favorite_count dog_stage  gender  \n",
       "1367            418            1945                 F  \n",
       "1459            426            1844                 M  \n",
       "\n",
       "[2 rows x 28 columns]"
      ]
     },
     "execution_count": 417,
     "metadata": {},
     "output_type": "execute_result"
    }
   ],
   "source": [
    "df_we_rate_dogs.sample(2)"
   ]
  },
  {
   "cell_type": "code",
   "execution_count": null,
   "id": "0502a6d8",
   "metadata": {},
   "outputs": [],
   "source": []
  },
  {
   "cell_type": "markdown",
   "id": "cddc6638",
   "metadata": {},
   "source": [
    "### Issue #8:"
   ]
  },
  {
   "cell_type": "markdown",
   "id": "49a24c3c",
   "metadata": {},
   "source": [
    "#### Define: Using the `drop` method, drop columns not needed `in_reply_to_status_id`, ` in_reply_to_user_id`, `retweeted_status_id`, `retweeted_status_user_id`, `retweeted_status_timestamp`, `expanded_urls` ."
   ]
  },
  {
   "cell_type": "markdown",
   "id": "eb24677f",
   "metadata": {},
   "source": [
    "#### Code"
   ]
  },
  {
   "cell_type": "code",
   "execution_count": 418,
   "id": "239b1f03",
   "metadata": {},
   "outputs": [],
   "source": [
    "df_we_rate_dogs = df_we_rate_dogs.drop([ 'in_reply_to_status_id', 'in_reply_to_user_id' , 'retweeted_status_id', 'retweeted_status_user_id', 'retweeted_status_timestamp', 'expanded_urls'], axis = 1)"
   ]
  },
  {
   "cell_type": "markdown",
   "id": "61c21f21",
   "metadata": {},
   "source": [
    "#### Test"
   ]
  },
  {
   "cell_type": "code",
   "execution_count": 419,
   "id": "43f38b25",
   "metadata": {},
   "outputs": [
    {
     "name": "stdout",
     "output_type": "stream",
     "text": [
      "<class 'pandas.core.frame.DataFrame'>\n",
      "Int64Index: 1994 entries, 0 to 1993\n",
      "Data columns (total 22 columns):\n",
      " #   Column              Non-Null Count  Dtype              \n",
      "---  ------              --------------  -----              \n",
      " 0   tweet_id            1994 non-null   object             \n",
      " 1   timestamp           1994 non-null   datetime64[ns, UTC]\n",
      " 2   source              1994 non-null   object             \n",
      " 3   text                1994 non-null   object             \n",
      " 4   rating_numerator    1994 non-null   int64              \n",
      " 5   rating_denominator  1994 non-null   int64              \n",
      " 6   name                1994 non-null   object             \n",
      " 7   jpg_url             1994 non-null   object             \n",
      " 8   img_num             1994 non-null   int64              \n",
      " 9   p1                  1994 non-null   object             \n",
      " 10  p1_conf             1994 non-null   float64            \n",
      " 11  p1_dog              1994 non-null   bool               \n",
      " 12  p2                  1994 non-null   object             \n",
      " 13  p2_conf             1994 non-null   float64            \n",
      " 14  p2_dog              1994 non-null   bool               \n",
      " 15  p3                  1994 non-null   object             \n",
      " 16  p3_conf             1994 non-null   float64            \n",
      " 17  p3_dog              1994 non-null   bool               \n",
      " 18  retweet_count       1994 non-null   int64              \n",
      " 19  favorite_count      1994 non-null   int64              \n",
      " 20  dog_stage           1994 non-null   category           \n",
      " 21  gender              1994 non-null   category           \n",
      "dtypes: bool(3), category(2), datetime64[ns, UTC](1), float64(3), int64(5), object(8)\n",
      "memory usage: 290.5+ KB\n"
     ]
    }
   ],
   "source": [
    "df_we_rate_dogs.info()"
   ]
  },
  {
   "cell_type": "code",
   "execution_count": null,
   "id": "d0b8c4c5",
   "metadata": {},
   "outputs": [],
   "source": []
  },
  {
   "cell_type": "markdown",
   "id": "e2981fe9",
   "metadata": {},
   "source": [
    "### Issue #9:"
   ]
  },
  {
   "cell_type": "markdown",
   "id": "465952ef",
   "metadata": {},
   "source": [
    "#### Define: use `replace` method to replace hyperlink tags with words in  `source` column."
   ]
  },
  {
   "cell_type": "markdown",
   "id": "0ee7ec0c",
   "metadata": {},
   "source": [
    "#### Code"
   ]
  },
  {
   "cell_type": "code",
   "execution_count": 420,
   "id": "0ad1a05a",
   "metadata": {},
   "outputs": [],
   "source": [
    "df_we_rate_dogs['source'].replace(['<a href=\"http://twitter.com/download/iphone\" rel=\"nofollow\">Twitter for iPhone</a>',\\\n",
    "                                   '<a href=\"http://twitter.com\" rel=\"nofollow\">Twitter Web Client</a>',\\\n",
    "                                   '<a href=\"https://about.twitter.com/products/tweetdeck\" rel=\"nofollow\">TweetDeck</a>'],\\\n",
    "                                  ['iphone','web','tweetdeck'], inplace=True)"
   ]
  },
  {
   "cell_type": "markdown",
   "id": "69a51f12",
   "metadata": {},
   "source": [
    "#### Test"
   ]
  },
  {
   "cell_type": "code",
   "execution_count": 421,
   "id": "cad016cb",
   "metadata": {},
   "outputs": [
    {
     "data": {
      "text/plain": [
       "iphone       1955\n",
       "web            28\n",
       "tweetdeck      11\n",
       "Name: source, dtype: int64"
      ]
     },
     "execution_count": 421,
     "metadata": {},
     "output_type": "execute_result"
    }
   ],
   "source": [
    "df_we_rate_dogs.source.value_counts()"
   ]
  },
  {
   "cell_type": "code",
   "execution_count": 422,
   "id": "dc7dd36b",
   "metadata": {},
   "outputs": [
    {
     "data": {
      "text/html": [
       "<div>\n",
       "<style scoped>\n",
       "    .dataframe tbody tr th:only-of-type {\n",
       "        vertical-align: middle;\n",
       "    }\n",
       "\n",
       "    .dataframe tbody tr th {\n",
       "        vertical-align: top;\n",
       "    }\n",
       "\n",
       "    .dataframe thead th {\n",
       "        text-align: right;\n",
       "    }\n",
       "</style>\n",
       "<table border=\"1\" class=\"dataframe\">\n",
       "  <thead>\n",
       "    <tr style=\"text-align: right;\">\n",
       "      <th></th>\n",
       "      <th>tweet_id</th>\n",
       "      <th>timestamp</th>\n",
       "      <th>source</th>\n",
       "      <th>text</th>\n",
       "      <th>rating_numerator</th>\n",
       "      <th>rating_denominator</th>\n",
       "      <th>name</th>\n",
       "      <th>jpg_url</th>\n",
       "      <th>img_num</th>\n",
       "      <th>p1</th>\n",
       "      <th>...</th>\n",
       "      <th>p2</th>\n",
       "      <th>p2_conf</th>\n",
       "      <th>p2_dog</th>\n",
       "      <th>p3</th>\n",
       "      <th>p3_conf</th>\n",
       "      <th>p3_dog</th>\n",
       "      <th>retweet_count</th>\n",
       "      <th>favorite_count</th>\n",
       "      <th>dog_stage</th>\n",
       "      <th>gender</th>\n",
       "    </tr>\n",
       "  </thead>\n",
       "  <tbody>\n",
       "    <tr>\n",
       "      <th>0</th>\n",
       "      <td>892420643555336193</td>\n",
       "      <td>2017-08-01 16:23:56+00:00</td>\n",
       "      <td>iphone</td>\n",
       "      <td>This is Phineas. He's a mystical boy. Only eve...</td>\n",
       "      <td>13</td>\n",
       "      <td>10</td>\n",
       "      <td>Phineas</td>\n",
       "      <td>https://pbs.twimg.com/media/DGKD1-bXoAAIAUK.jpg</td>\n",
       "      <td>1</td>\n",
       "      <td>orange</td>\n",
       "      <td>...</td>\n",
       "      <td>bagel</td>\n",
       "      <td>0.085851</td>\n",
       "      <td>False</td>\n",
       "      <td>banana</td>\n",
       "      <td>0.076110</td>\n",
       "      <td>False</td>\n",
       "      <td>8853</td>\n",
       "      <td>39467</td>\n",
       "      <td></td>\n",
       "      <td>M</td>\n",
       "    </tr>\n",
       "    <tr>\n",
       "      <th>1</th>\n",
       "      <td>892177421306343426</td>\n",
       "      <td>2017-08-01 00:17:27+00:00</td>\n",
       "      <td>iphone</td>\n",
       "      <td>This is Tilly. She's just checking pup on you....</td>\n",
       "      <td>13</td>\n",
       "      <td>10</td>\n",
       "      <td>Tilly</td>\n",
       "      <td>https://pbs.twimg.com/media/DGGmoV4XsAAUL6n.jpg</td>\n",
       "      <td>1</td>\n",
       "      <td>Chihuahua</td>\n",
       "      <td>...</td>\n",
       "      <td>Pekinese</td>\n",
       "      <td>0.090647</td>\n",
       "      <td>True</td>\n",
       "      <td>papillon</td>\n",
       "      <td>0.068957</td>\n",
       "      <td>True</td>\n",
       "      <td>6514</td>\n",
       "      <td>33819</td>\n",
       "      <td></td>\n",
       "      <td>F</td>\n",
       "    </tr>\n",
       "    <tr>\n",
       "      <th>2</th>\n",
       "      <td>891815181378084864</td>\n",
       "      <td>2017-07-31 00:18:03+00:00</td>\n",
       "      <td>iphone</td>\n",
       "      <td>This is Archie. He is a rare Norwegian Pouncin...</td>\n",
       "      <td>12</td>\n",
       "      <td>10</td>\n",
       "      <td>Archie</td>\n",
       "      <td>https://pbs.twimg.com/media/DGBdLU1WsAANxJ9.jpg</td>\n",
       "      <td>1</td>\n",
       "      <td>Chihuahua</td>\n",
       "      <td>...</td>\n",
       "      <td>malamute</td>\n",
       "      <td>0.078253</td>\n",
       "      <td>True</td>\n",
       "      <td>kelpie</td>\n",
       "      <td>0.031379</td>\n",
       "      <td>True</td>\n",
       "      <td>4328</td>\n",
       "      <td>25461</td>\n",
       "      <td></td>\n",
       "      <td>M</td>\n",
       "    </tr>\n",
       "    <tr>\n",
       "      <th>3</th>\n",
       "      <td>891689557279858688</td>\n",
       "      <td>2017-07-30 15:58:51+00:00</td>\n",
       "      <td>iphone</td>\n",
       "      <td>This is Darla. She commenced a snooze mid meal...</td>\n",
       "      <td>13</td>\n",
       "      <td>10</td>\n",
       "      <td>Darla</td>\n",
       "      <td>https://pbs.twimg.com/media/DF_q7IAWsAEuuN8.jpg</td>\n",
       "      <td>1</td>\n",
       "      <td>paper_towel</td>\n",
       "      <td>...</td>\n",
       "      <td>Labrador_retriever</td>\n",
       "      <td>0.168086</td>\n",
       "      <td>True</td>\n",
       "      <td>spatula</td>\n",
       "      <td>0.040836</td>\n",
       "      <td>False</td>\n",
       "      <td>8964</td>\n",
       "      <td>42908</td>\n",
       "      <td></td>\n",
       "      <td>F</td>\n",
       "    </tr>\n",
       "  </tbody>\n",
       "</table>\n",
       "<p>4 rows × 22 columns</p>\n",
       "</div>"
      ],
      "text/plain": [
       "             tweet_id                 timestamp  source  \\\n",
       "0  892420643555336193 2017-08-01 16:23:56+00:00  iphone   \n",
       "1  892177421306343426 2017-08-01 00:17:27+00:00  iphone   \n",
       "2  891815181378084864 2017-07-31 00:18:03+00:00  iphone   \n",
       "3  891689557279858688 2017-07-30 15:58:51+00:00  iphone   \n",
       "\n",
       "                                                text  rating_numerator  \\\n",
       "0  This is Phineas. He's a mystical boy. Only eve...                13   \n",
       "1  This is Tilly. She's just checking pup on you....                13   \n",
       "2  This is Archie. He is a rare Norwegian Pouncin...                12   \n",
       "3  This is Darla. She commenced a snooze mid meal...                13   \n",
       "\n",
       "   rating_denominator     name  \\\n",
       "0                  10  Phineas   \n",
       "1                  10    Tilly   \n",
       "2                  10   Archie   \n",
       "3                  10    Darla   \n",
       "\n",
       "                                           jpg_url  img_num           p1  ...  \\\n",
       "0  https://pbs.twimg.com/media/DGKD1-bXoAAIAUK.jpg        1       orange  ...   \n",
       "1  https://pbs.twimg.com/media/DGGmoV4XsAAUL6n.jpg        1    Chihuahua  ...   \n",
       "2  https://pbs.twimg.com/media/DGBdLU1WsAANxJ9.jpg        1    Chihuahua  ...   \n",
       "3  https://pbs.twimg.com/media/DF_q7IAWsAEuuN8.jpg        1  paper_towel  ...   \n",
       "\n",
       "                   p2   p2_conf p2_dog        p3   p3_conf p3_dog  \\\n",
       "0               bagel  0.085851  False    banana  0.076110  False   \n",
       "1            Pekinese  0.090647   True  papillon  0.068957   True   \n",
       "2            malamute  0.078253   True    kelpie  0.031379   True   \n",
       "3  Labrador_retriever  0.168086   True   spatula  0.040836  False   \n",
       "\n",
       "   retweet_count  favorite_count  dog_stage  gender  \n",
       "0           8853           39467                  M  \n",
       "1           6514           33819                  F  \n",
       "2           4328           25461                  M  \n",
       "3           8964           42908                  F  \n",
       "\n",
       "[4 rows x 22 columns]"
      ]
     },
     "execution_count": 422,
     "metadata": {},
     "output_type": "execute_result"
    }
   ],
   "source": [
    "df_we_rate_dogs.head(4)"
   ]
  },
  {
   "cell_type": "code",
   "execution_count": null,
   "id": "93665836",
   "metadata": {},
   "outputs": [],
   "source": []
  },
  {
   "cell_type": "markdown",
   "id": "6680a5d2",
   "metadata": {},
   "source": [
    "### Issue #10:"
   ]
  },
  {
   "cell_type": "markdown",
   "id": "d7c86d0a",
   "metadata": {},
   "source": [
    "#### Define: Create a fuction that finds '10'  from `text` column, use `apply` method to apply into a new column(which will be the new denominator), finally drop value not needed"
   ]
  },
  {
   "cell_type": "markdown",
   "id": "feaff051",
   "metadata": {},
   "source": [
    "#### Code"
   ]
  },
  {
   "cell_type": "code",
   "execution_count": 423,
   "id": "3cc13b15",
   "metadata": {},
   "outputs": [],
   "source": [
    "# Create function to find '10' from text column\n",
    "def get_denominator(row):\n",
    "    if '10' in row['text'].lower():\n",
    "        rating_correct_denominator = 10\n",
    "    else:\n",
    "        rating_correct_denominator = 0\n",
    "    return rating_correct_denominator"
   ]
  },
  {
   "cell_type": "code",
   "execution_count": 424,
   "id": "58ada37f",
   "metadata": {},
   "outputs": [],
   "source": [
    "# Apply function to column\n",
    "df_we_rate_dogs['rating_correct_denominator'] = df_we_rate_dogs.apply(get_denominator, axis=1)\n",
    "\n",
    "# Drop all the value with 0 \n",
    "df_we_rate_dogs = df_we_rate_dogs[df_we_rate_dogs.rating_correct_denominator != 0]"
   ]
  },
  {
   "cell_type": "markdown",
   "id": "4f22db51",
   "metadata": {},
   "source": [
    "#### Test"
   ]
  },
  {
   "cell_type": "code",
   "execution_count": 425,
   "id": "da942aac",
   "metadata": {},
   "outputs": [
    {
     "data": {
      "text/plain": [
       "10    1982\n",
       "Name: rating_correct_denominator, dtype: int64"
      ]
     },
     "execution_count": 425,
     "metadata": {},
     "output_type": "execute_result"
    }
   ],
   "source": [
    "df_we_rate_dogs.rating_correct_denominator.value_counts()"
   ]
  },
  {
   "cell_type": "code",
   "execution_count": 426,
   "id": "bf589ef0",
   "metadata": {},
   "outputs": [
    {
     "name": "stdout",
     "output_type": "stream",
     "text": [
      "<class 'pandas.core.frame.DataFrame'>\n",
      "Int64Index: 1982 entries, 0 to 1993\n",
      "Data columns (total 23 columns):\n",
      " #   Column                      Non-Null Count  Dtype              \n",
      "---  ------                      --------------  -----              \n",
      " 0   tweet_id                    1982 non-null   object             \n",
      " 1   timestamp                   1982 non-null   datetime64[ns, UTC]\n",
      " 2   source                      1982 non-null   object             \n",
      " 3   text                        1982 non-null   object             \n",
      " 4   rating_numerator            1982 non-null   int64              \n",
      " 5   rating_denominator          1982 non-null   int64              \n",
      " 6   name                        1982 non-null   object             \n",
      " 7   jpg_url                     1982 non-null   object             \n",
      " 8   img_num                     1982 non-null   int64              \n",
      " 9   p1                          1982 non-null   object             \n",
      " 10  p1_conf                     1982 non-null   float64            \n",
      " 11  p1_dog                      1982 non-null   bool               \n",
      " 12  p2                          1982 non-null   object             \n",
      " 13  p2_conf                     1982 non-null   float64            \n",
      " 14  p2_dog                      1982 non-null   bool               \n",
      " 15  p3                          1982 non-null   object             \n",
      " 16  p3_conf                     1982 non-null   float64            \n",
      " 17  p3_dog                      1982 non-null   bool               \n",
      " 18  retweet_count               1982 non-null   int64              \n",
      " 19  favorite_count              1982 non-null   int64              \n",
      " 20  dog_stage                   1982 non-null   category           \n",
      " 21  gender                      1982 non-null   category           \n",
      " 22  rating_correct_denominator  1982 non-null   int64              \n",
      "dtypes: bool(3), category(2), datetime64[ns, UTC](1), float64(3), int64(6), object(8)\n",
      "memory usage: 304.2+ KB\n"
     ]
    }
   ],
   "source": [
    "df_we_rate_dogs.info()"
   ]
  },
  {
   "cell_type": "code",
   "execution_count": null,
   "id": "0d631c25",
   "metadata": {},
   "outputs": [],
   "source": []
  },
  {
   "cell_type": "markdown",
   "id": "8aa3c320",
   "metadata": {},
   "source": [
    "- Dealing with the numerators"
   ]
  },
  {
   "cell_type": "markdown",
   "id": "3983afff",
   "metadata": {},
   "source": [
    "#### Define: Use the query method to re-access the rating numerator, to get  rating numerator > 15 and < 15"
   ]
  },
  {
   "cell_type": "markdown",
   "id": "a0543336",
   "metadata": {},
   "source": [
    "#### code"
   ]
  },
  {
   "cell_type": "code",
   "execution_count": 427,
   "id": "0fe59b73",
   "metadata": {},
   "outputs": [
    {
     "data": {
      "text/html": [
       "<div>\n",
       "<style scoped>\n",
       "    .dataframe tbody tr th:only-of-type {\n",
       "        vertical-align: middle;\n",
       "    }\n",
       "\n",
       "    .dataframe tbody tr th {\n",
       "        vertical-align: top;\n",
       "    }\n",
       "\n",
       "    .dataframe thead th {\n",
       "        text-align: right;\n",
       "    }\n",
       "</style>\n",
       "<table border=\"1\" class=\"dataframe\">\n",
       "  <thead>\n",
       "    <tr style=\"text-align: right;\">\n",
       "      <th></th>\n",
       "      <th>text</th>\n",
       "      <th>rating_numerator</th>\n",
       "      <th>rating_correct_denominator</th>\n",
       "    </tr>\n",
       "  </thead>\n",
       "  <tbody>\n",
       "    <tr>\n",
       "      <th>503</th>\n",
       "      <td>This is Logan, the Chow who lived. He solemnly...</td>\n",
       "      <td>75</td>\n",
       "      <td>10</td>\n",
       "    </tr>\n",
       "    <tr>\n",
       "      <th>553</th>\n",
       "      <td>This is Sophie. She's a Jubilant Bush Pupper. ...</td>\n",
       "      <td>27</td>\n",
       "      <td>10</td>\n",
       "    </tr>\n",
       "    <tr>\n",
       "      <th>726</th>\n",
       "      <td>This is Atticus. He's quite simply America af....</td>\n",
       "      <td>1776</td>\n",
       "      <td>10</td>\n",
       "    </tr>\n",
       "    <tr>\n",
       "      <th>925</th>\n",
       "      <td>This is Bluebert. He just saw that both #Final...</td>\n",
       "      <td>50</td>\n",
       "      <td>10</td>\n",
       "    </tr>\n",
       "    <tr>\n",
       "      <th>1303</th>\n",
       "      <td>Someone help the girl is being mugged. Several...</td>\n",
       "      <td>121</td>\n",
       "      <td>10</td>\n",
       "    </tr>\n",
       "    <tr>\n",
       "      <th>1374</th>\n",
       "      <td>Here we have uncovered an entire battalion of ...</td>\n",
       "      <td>26</td>\n",
       "      <td>10</td>\n",
       "    </tr>\n",
       "    <tr>\n",
       "      <th>1718</th>\n",
       "      <td>After so many requests... here you go.\\n\\nGood...</td>\n",
       "      <td>420</td>\n",
       "      <td>10</td>\n",
       "    </tr>\n",
       "  </tbody>\n",
       "</table>\n",
       "</div>"
      ],
      "text/plain": [
       "                                                   text  rating_numerator  \\\n",
       "503   This is Logan, the Chow who lived. He solemnly...                75   \n",
       "553   This is Sophie. She's a Jubilant Bush Pupper. ...                27   \n",
       "726   This is Atticus. He's quite simply America af....              1776   \n",
       "925   This is Bluebert. He just saw that both #Final...                50   \n",
       "1303  Someone help the girl is being mugged. Several...               121   \n",
       "1374  Here we have uncovered an entire battalion of ...                26   \n",
       "1718  After so many requests... here you go.\\n\\nGood...               420   \n",
       "\n",
       "      rating_correct_denominator  \n",
       "503                           10  \n",
       "553                           10  \n",
       "726                           10  \n",
       "925                           10  \n",
       "1303                          10  \n",
       "1374                          10  \n",
       "1718                          10  "
      ]
     },
     "execution_count": 427,
     "metadata": {},
     "output_type": "execute_result"
    }
   ],
   "source": [
    "rating_numerator_above_15 = df_we_rate_dogs.query('rating_numerator > 15 ')[['text','rating_numerator', 'rating_correct_denominator']]\n",
    "rating_numerator_above_15"
   ]
  },
  {
   "cell_type": "code",
   "execution_count": 428,
   "id": "81d0521f",
   "metadata": {},
   "outputs": [
    {
     "name": "stdout",
     "output_type": "stream",
     "text": [
      "This is Logan, the Chow who lived. He solemnly swears he's up to lots of good. H*ckin magical af 9.75/10 https://t.co/yBO5wuqaPS\n",
      "This is Sophie. She's a Jubilant Bush Pupper. Super h*ckin rare. Appears at random just to smile at the locals. 11.27/10 would smile back https://t.co/QFaUiIHxHq\n",
      "This is Atticus. He's quite simply America af. 1776/10 https://t.co/GRXwMxLBkh\n",
      "This is Bluebert. He just saw that both #FinalFur match ups are split 50/50. Amazed af. 11/10 https://t.co/Kky1DPG4iq\n",
      "Someone help the girl is being mugged. Several are distracting her while two steal her shoes. Clever puppers 121/110 https://t.co/1zfnTJLt55\n",
      "Here we have uncovered an entire battalion of holiday puppers. Average of 11.26/10 https://t.co/eNm2S6p9BD\n",
      "After so many requests... here you go.\n",
      "\n",
      "Good dogg. 420/10 https://t.co/yfAAo1gdeY\n"
     ]
    }
   ],
   "source": [
    "print(df_we_rate_dogs['text'][503])\n",
    "print(df_we_rate_dogs['text'][553])\n",
    "print(df_we_rate_dogs['text'][726])\n",
    "print(df_we_rate_dogs['text'][925])\n",
    "print(df_we_rate_dogs['text'][1303])\n",
    "print(df_we_rate_dogs['text'][1374])\n",
    "print(df_we_rate_dogs['text'][1718])"
   ]
  },
  {
   "cell_type": "code",
   "execution_count": 429,
   "id": "84f1d618",
   "metadata": {},
   "outputs": [
    {
     "data": {
      "text/html": [
       "<div>\n",
       "<style scoped>\n",
       "    .dataframe tbody tr th:only-of-type {\n",
       "        vertical-align: middle;\n",
       "    }\n",
       "\n",
       "    .dataframe tbody tr th {\n",
       "        vertical-align: top;\n",
       "    }\n",
       "\n",
       "    .dataframe thead th {\n",
       "        text-align: right;\n",
       "    }\n",
       "</style>\n",
       "<table border=\"1\" class=\"dataframe\">\n",
       "  <thead>\n",
       "    <tr style=\"text-align: right;\">\n",
       "      <th></th>\n",
       "      <th>text</th>\n",
       "      <th>rating_numerator</th>\n",
       "      <th>rating_correct_denominator</th>\n",
       "    </tr>\n",
       "  </thead>\n",
       "  <tbody>\n",
       "    <tr>\n",
       "      <th>39</th>\n",
       "      <td>This is Bella. She hopes her smile made you sm...</td>\n",
       "      <td>5</td>\n",
       "      <td>10</td>\n",
       "    </tr>\n",
       "    <tr>\n",
       "      <th>177</th>\n",
       "      <td>This is Jerry. He's doing a distinguished tong...</td>\n",
       "      <td>6</td>\n",
       "      <td>10</td>\n",
       "    </tr>\n",
       "    <tr>\n",
       "      <th>235</th>\n",
       "      <td>When you're so blinded by your systematic plag...</td>\n",
       "      <td>0</td>\n",
       "      <td>10</td>\n",
       "    </tr>\n",
       "    <tr>\n",
       "      <th>530</th>\n",
       "      <td>Who keeps sending in pictures without dogs in ...</td>\n",
       "      <td>5</td>\n",
       "      <td>10</td>\n",
       "    </tr>\n",
       "    <tr>\n",
       "      <th>554</th>\n",
       "      <td>This is Wesley. He's clearly trespassing. Seem...</td>\n",
       "      <td>3</td>\n",
       "      <td>10</td>\n",
       "    </tr>\n",
       "    <tr>\n",
       "      <th>...</th>\n",
       "      <td>...</td>\n",
       "      <td>...</td>\n",
       "      <td>...</td>\n",
       "    </tr>\n",
       "    <tr>\n",
       "      <th>1989</th>\n",
       "      <td>Here we have a 1949 1st generation vulpix. Enj...</td>\n",
       "      <td>5</td>\n",
       "      <td>10</td>\n",
       "    </tr>\n",
       "    <tr>\n",
       "      <th>1990</th>\n",
       "      <td>This is a purebred Piers Morgan. Loves to Netf...</td>\n",
       "      <td>6</td>\n",
       "      <td>10</td>\n",
       "    </tr>\n",
       "    <tr>\n",
       "      <th>1991</th>\n",
       "      <td>Here is a very happy pup. Big fan of well-main...</td>\n",
       "      <td>9</td>\n",
       "      <td>10</td>\n",
       "    </tr>\n",
       "    <tr>\n",
       "      <th>1992</th>\n",
       "      <td>This is a western brown Mitsubishi terrier. Up...</td>\n",
       "      <td>7</td>\n",
       "      <td>10</td>\n",
       "    </tr>\n",
       "    <tr>\n",
       "      <th>1993</th>\n",
       "      <td>Here we have a Japanese Irish Setter. Lost eye...</td>\n",
       "      <td>8</td>\n",
       "      <td>10</td>\n",
       "    </tr>\n",
       "  </tbody>\n",
       "</table>\n",
       "<p>414 rows × 3 columns</p>\n",
       "</div>"
      ],
      "text/plain": [
       "                                                   text  rating_numerator  \\\n",
       "39    This is Bella. She hopes her smile made you sm...                 5   \n",
       "177   This is Jerry. He's doing a distinguished tong...                 6   \n",
       "235   When you're so blinded by your systematic plag...                 0   \n",
       "530   Who keeps sending in pictures without dogs in ...                 5   \n",
       "554   This is Wesley. He's clearly trespassing. Seem...                 3   \n",
       "...                                                 ...               ...   \n",
       "1989  Here we have a 1949 1st generation vulpix. Enj...                 5   \n",
       "1990  This is a purebred Piers Morgan. Loves to Netf...                 6   \n",
       "1991  Here is a very happy pup. Big fan of well-main...                 9   \n",
       "1992  This is a western brown Mitsubishi terrier. Up...                 7   \n",
       "1993  Here we have a Japanese Irish Setter. Lost eye...                 8   \n",
       "\n",
       "      rating_correct_denominator  \n",
       "39                            10  \n",
       "177                           10  \n",
       "235                           10  \n",
       "530                           10  \n",
       "554                           10  \n",
       "...                          ...  \n",
       "1989                          10  \n",
       "1990                          10  \n",
       "1991                          10  \n",
       "1992                          10  \n",
       "1993                          10  \n",
       "\n",
       "[414 rows x 3 columns]"
      ]
     },
     "execution_count": 429,
     "metadata": {},
     "output_type": "execute_result"
    }
   ],
   "source": [
    "rating_numerator_below_10 = df_we_rate_dogs.query('rating_numerator < 10 ')[['text','rating_numerator', 'rating_correct_denominator']]\n",
    "rating_numerator_below_10"
   ]
  },
  {
   "cell_type": "markdown",
   "id": "bd7f05a4",
   "metadata": {},
   "source": [
    "#### Define: Use the `replace` method to replace rating_numerator greater than 15 of significant value."
   ]
  },
  {
   "cell_type": "markdown",
   "id": "46c6caac",
   "metadata": {},
   "source": [
    "#### Code"
   ]
  },
  {
   "cell_type": "code",
   "execution_count": 430,
   "id": "365f8e5c",
   "metadata": {},
   "outputs": [],
   "source": [
    "# Replace value\n",
    "df_we_rate_dogs['rating_numerator'].replace([75.0, 27.0, 50.0, 121.0,26.0], [10, 11, 11, 12, 11], inplace=True)"
   ]
  },
  {
   "cell_type": "markdown",
   "id": "8c9d1d8a",
   "metadata": {},
   "source": [
    "#### Test"
   ]
  },
  {
   "cell_type": "code",
   "execution_count": 431,
   "id": "e00ad6b3",
   "metadata": {},
   "outputs": [
    {
     "name": "stdout",
     "output_type": "stream",
     "text": [
      "10\n",
      "11\n",
      "11\n",
      "12\n",
      "11\n"
     ]
    }
   ],
   "source": [
    "print(df_we_rate_dogs['rating_numerator'][503])\n",
    "print(df_we_rate_dogs['rating_numerator'][553])\n",
    "print(df_we_rate_dogs['rating_numerator'][925])\n",
    "print(df_we_rate_dogs['rating_numerator'][1303])\n",
    "print(df_we_rate_dogs['rating_numerator'][1374])"
   ]
  },
  {
   "cell_type": "code",
   "execution_count": 432,
   "id": "05c25b92",
   "metadata": {},
   "outputs": [
    {
     "data": {
      "text/html": [
       "<div>\n",
       "<style scoped>\n",
       "    .dataframe tbody tr th:only-of-type {\n",
       "        vertical-align: middle;\n",
       "    }\n",
       "\n",
       "    .dataframe tbody tr th {\n",
       "        vertical-align: top;\n",
       "    }\n",
       "\n",
       "    .dataframe thead th {\n",
       "        text-align: right;\n",
       "    }\n",
       "</style>\n",
       "<table border=\"1\" class=\"dataframe\">\n",
       "  <thead>\n",
       "    <tr style=\"text-align: right;\">\n",
       "      <th></th>\n",
       "      <th>text</th>\n",
       "      <th>rating_numerator</th>\n",
       "      <th>rating_correct_denominator</th>\n",
       "    </tr>\n",
       "  </thead>\n",
       "  <tbody>\n",
       "    <tr>\n",
       "      <th>726</th>\n",
       "      <td>This is Atticus. He's quite simply America af....</td>\n",
       "      <td>1776</td>\n",
       "      <td>10</td>\n",
       "    </tr>\n",
       "    <tr>\n",
       "      <th>1718</th>\n",
       "      <td>After so many requests... here you go.\\n\\nGood...</td>\n",
       "      <td>420</td>\n",
       "      <td>10</td>\n",
       "    </tr>\n",
       "  </tbody>\n",
       "</table>\n",
       "</div>"
      ],
      "text/plain": [
       "                                                   text  rating_numerator  \\\n",
       "726   This is Atticus. He's quite simply America af....              1776   \n",
       "1718  After so many requests... here you go.\\n\\nGood...               420   \n",
       "\n",
       "      rating_correct_denominator  \n",
       "726                           10  \n",
       "1718                          10  "
      ]
     },
     "execution_count": 432,
     "metadata": {},
     "output_type": "execute_result"
    }
   ],
   "source": [
    "rating_numerator_above_15 = df_we_rate_dogs.query('rating_numerator > 15 ')[['text','rating_numerator', 'rating_correct_denominator']]\n",
    "rating_numerator_above_15"
   ]
  },
  {
   "cell_type": "markdown",
   "id": "a7d8ae12",
   "metadata": {},
   "source": [
    "- These rating_numerator are left alone and rated by the handler because they are simply awesome"
   ]
  },
  {
   "cell_type": "code",
   "execution_count": null,
   "id": "43828c79",
   "metadata": {},
   "outputs": [],
   "source": []
  },
  {
   "cell_type": "markdown",
   "id": "69a89cb9",
   "metadata": {},
   "source": [
    "#### Define: Drop all the `rating_numerator` less than 10."
   ]
  },
  {
   "cell_type": "markdown",
   "id": "57e966b0",
   "metadata": {},
   "source": [
    "#### Code:"
   ]
  },
  {
   "cell_type": "code",
   "execution_count": 433,
   "id": "d7f2058d",
   "metadata": {},
   "outputs": [],
   "source": [
    "# Drop all the value with 0 \n",
    "df_we_rate_dogs = df_we_rate_dogs[df_we_rate_dogs.rating_numerator > 9]\n",
    "# Assign values to a new column\n",
    "df_we_rate_dogs['rating_correct_numerator'] = df_we_rate_dogs['rating_numerator']\n",
    "# Drop columns\n",
    "df_we_rate_dogs = df_we_rate_dogs.drop([ 'rating_numerator', 'rating_denominator'], axis=1)"
   ]
  },
  {
   "cell_type": "markdown",
   "id": "eafe6cb6",
   "metadata": {},
   "source": [
    "#### Test"
   ]
  },
  {
   "cell_type": "code",
   "execution_count": 434,
   "id": "6fd2b763",
   "metadata": {},
   "outputs": [
    {
     "data": {
      "text/html": [
       "<div>\n",
       "<style scoped>\n",
       "    .dataframe tbody tr th:only-of-type {\n",
       "        vertical-align: middle;\n",
       "    }\n",
       "\n",
       "    .dataframe tbody tr th {\n",
       "        vertical-align: top;\n",
       "    }\n",
       "\n",
       "    .dataframe thead th {\n",
       "        text-align: right;\n",
       "    }\n",
       "</style>\n",
       "<table border=\"1\" class=\"dataframe\">\n",
       "  <thead>\n",
       "    <tr style=\"text-align: right;\">\n",
       "      <th></th>\n",
       "      <th>text</th>\n",
       "      <th>rating_correct_numerator</th>\n",
       "      <th>rating_correct_denominator</th>\n",
       "    </tr>\n",
       "  </thead>\n",
       "  <tbody>\n",
       "  </tbody>\n",
       "</table>\n",
       "</div>"
      ],
      "text/plain": [
       "Empty DataFrame\n",
       "Columns: [text, rating_correct_numerator, rating_correct_denominator]\n",
       "Index: []"
      ]
     },
     "execution_count": 434,
     "metadata": {},
     "output_type": "execute_result"
    }
   ],
   "source": [
    "rating_numerator_above_15 = df_we_rate_dogs.query('rating_correct_numerator < 10 ')[['text','rating_correct_numerator', 'rating_correct_denominator']]\n",
    "rating_numerator_above_15"
   ]
  },
  {
   "cell_type": "code",
   "execution_count": 435,
   "id": "4cfbe6e8",
   "metadata": {},
   "outputs": [
    {
     "name": "stdout",
     "output_type": "stream",
     "text": [
      "<class 'pandas.core.frame.DataFrame'>\n",
      "Int64Index: 1568 entries, 0 to 1988\n",
      "Data columns (total 22 columns):\n",
      " #   Column                      Non-Null Count  Dtype              \n",
      "---  ------                      --------------  -----              \n",
      " 0   tweet_id                    1568 non-null   object             \n",
      " 1   timestamp                   1568 non-null   datetime64[ns, UTC]\n",
      " 2   source                      1568 non-null   object             \n",
      " 3   text                        1568 non-null   object             \n",
      " 4   name                        1568 non-null   object             \n",
      " 5   jpg_url                     1568 non-null   object             \n",
      " 6   img_num                     1568 non-null   int64              \n",
      " 7   p1                          1568 non-null   object             \n",
      " 8   p1_conf                     1568 non-null   float64            \n",
      " 9   p1_dog                      1568 non-null   bool               \n",
      " 10  p2                          1568 non-null   object             \n",
      " 11  p2_conf                     1568 non-null   float64            \n",
      " 12  p2_dog                      1568 non-null   bool               \n",
      " 13  p3                          1568 non-null   object             \n",
      " 14  p3_conf                     1568 non-null   float64            \n",
      " 15  p3_dog                      1568 non-null   bool               \n",
      " 16  retweet_count               1568 non-null   int64              \n",
      " 17  favorite_count              1568 non-null   int64              \n",
      " 18  dog_stage                   1568 non-null   category           \n",
      " 19  gender                      1568 non-null   category           \n",
      " 20  rating_correct_denominator  1568 non-null   int64              \n",
      " 21  rating_correct_numerator    1568 non-null   int64              \n",
      "dtypes: bool(3), category(2), datetime64[ns, UTC](1), float64(3), int64(5), object(8)\n",
      "memory usage: 228.5+ KB\n"
     ]
    }
   ],
   "source": [
    "df_we_rate_dogs.info()"
   ]
  },
  {
   "cell_type": "code",
   "execution_count": null,
   "id": "97b5e84a",
   "metadata": {},
   "outputs": [],
   "source": []
  },
  {
   "cell_type": "markdown",
   "id": "78ef3f8d",
   "metadata": {},
   "source": [
    "### Issue #11:"
   ]
  },
  {
   "cell_type": "markdown",
   "id": "f354cc15",
   "metadata": {},
   "source": [
    "#### Define:"
   ]
  },
  {
   "cell_type": "markdown",
   "id": "e03f77fd",
   "metadata": {},
   "source": [
    "#### Code"
   ]
  },
  {
   "cell_type": "code",
   "execution_count": 436,
   "id": "efa87ff7",
   "metadata": {},
   "outputs": [],
   "source": [
    "df_we_rate_dogs['name'] = df_we_rate_dogs['name'].str.lower()"
   ]
  },
  {
   "cell_type": "markdown",
   "id": "c2f01535",
   "metadata": {},
   "source": [
    "#### Test"
   ]
  },
  {
   "cell_type": "code",
   "execution_count": 437,
   "id": "493fe42e",
   "metadata": {},
   "outputs": [
    {
     "data": {
      "text/plain": [
       "none       412\n",
       "a           29\n",
       "charlie     11\n",
       "lucy        10\n",
       "cooper       9\n",
       "          ... \n",
       "hero         1\n",
       "stormy       1\n",
       "mairi        1\n",
       "loomis       1\n",
       "lugan        1\n",
       "Name: name, Length: 793, dtype: int64"
      ]
     },
     "execution_count": 437,
     "metadata": {},
     "output_type": "execute_result"
    }
   ],
   "source": [
    "df_we_rate_dogs.name.value_counts()"
   ]
  },
  {
   "cell_type": "code",
   "execution_count": null,
   "id": "9c73c32c",
   "metadata": {},
   "outputs": [],
   "source": []
  },
  {
   "cell_type": "markdown",
   "id": "8b693df0",
   "metadata": {},
   "source": [
    "### Issue #12:"
   ]
  },
  {
   "cell_type": "markdown",
   "id": "da73dbfd",
   "metadata": {},
   "source": [
    "#### Define: Use the `replace` method with `np.nan`"
   ]
  },
  {
   "cell_type": "markdown",
   "id": "a14fa963",
   "metadata": {},
   "source": [
    "#### Code"
   ]
  },
  {
   "cell_type": "code",
   "execution_count": 438,
   "id": "abc9ec78",
   "metadata": {},
   "outputs": [],
   "source": [
    "# Replace\n",
    "df_we_rate_dogs.name = df_we_rate_dogs.name.replace(['none', 'a', 'by', 'just', 'unacceptable',\\\n",
    "                                                    'an', 'such', 'quite', 'not', 'o', 'very'\\\n",
    "                                                    'my', 'his', 'one', 'actually', 'getting'\\\n",
    "                                                    'mad','this', 'old', 'the', 'life'], np.nan)"
   ]
  },
  {
   "cell_type": "markdown",
   "id": "3e39b78f",
   "metadata": {},
   "source": [
    "#### Test"
   ]
  },
  {
   "cell_type": "code",
   "execution_count": 439,
   "id": "a86e9345",
   "metadata": {},
   "outputs": [
    {
     "data": {
      "text/plain": [
       "charlie    11\n",
       "lucy       10\n",
       "cooper      9\n",
       "oliver      9\n",
       "tucker      8\n",
       "           ..\n",
       "pinot       1\n",
       "dallas      1\n",
       "hero        1\n",
       "stormy      1\n",
       "lugan       1\n",
       "Name: name, Length: 780, dtype: int64"
      ]
     },
     "execution_count": 439,
     "metadata": {},
     "output_type": "execute_result"
    }
   ],
   "source": [
    "df_we_rate_dogs.name.value_counts()"
   ]
  },
  {
   "cell_type": "code",
   "execution_count": null,
   "id": "a8388d59",
   "metadata": {},
   "outputs": [],
   "source": []
  },
  {
   "cell_type": "markdown",
   "id": "5536812a",
   "metadata": {},
   "source": [
    "### Issue #13:"
   ]
  },
  {
   "cell_type": "markdown",
   "id": "9fb253c8",
   "metadata": {},
   "source": [
    "#### Define: Use `rename` method to change column name"
   ]
  },
  {
   "cell_type": "markdown",
   "id": "a9f6cc24",
   "metadata": {},
   "source": [
    "#### Code"
   ]
  },
  {
   "cell_type": "code",
   "execution_count": 440,
   "id": "f1e8e19f",
   "metadata": {},
   "outputs": [],
   "source": [
    "# Rename columns\n",
    "df_we_rate_dogs.rename (columns={'jpg_url' : 'image_url',\\\n",
    "                                 'img_num' : 'image_num',\\\n",
    "                                 'p1' : 'prediction_1',\\\n",
    "                                 'p1_conf' : 'prediction_confidence_1',\\\n",
    "                                 'p1_dog' : 'prediction_dog_1',\\\n",
    "                                 'p2' : 'prediction_2',\\\n",
    "                                 'p2_conf' : 'prediction_confidence_2',\\\n",
    "                                 'p2_dog' : 'prediction_dog_2',\\\n",
    "                                 'p3' : 'prediction_3',\\\n",
    "                                 'p3_conf' : 'prediction_confidence_3',\\\n",
    "                                 'p3_dog' : 'prediction_dog_3'}, inplace= True)"
   ]
  },
  {
   "cell_type": "markdown",
   "id": "3bf44bcc",
   "metadata": {},
   "source": [
    "#### Test"
   ]
  },
  {
   "cell_type": "code",
   "execution_count": 441,
   "id": "a165a3c1",
   "metadata": {},
   "outputs": [
    {
     "name": "stdout",
     "output_type": "stream",
     "text": [
      "<class 'pandas.core.frame.DataFrame'>\n",
      "Int64Index: 1568 entries, 0 to 1988\n",
      "Data columns (total 22 columns):\n",
      " #   Column                      Non-Null Count  Dtype              \n",
      "---  ------                      --------------  -----              \n",
      " 0   tweet_id                    1568 non-null   object             \n",
      " 1   timestamp                   1568 non-null   datetime64[ns, UTC]\n",
      " 2   source                      1568 non-null   object             \n",
      " 3   text                        1568 non-null   object             \n",
      " 4   name                        1107 non-null   object             \n",
      " 5   image_url                   1568 non-null   object             \n",
      " 6   image_num                   1568 non-null   int64              \n",
      " 7   prediction_1                1568 non-null   object             \n",
      " 8   prediction_confidence_1     1568 non-null   float64            \n",
      " 9   prediction_dog_1            1568 non-null   bool               \n",
      " 10  prediction_2                1568 non-null   object             \n",
      " 11  prediction_confidence_2     1568 non-null   float64            \n",
      " 12  prediction_dog_2            1568 non-null   bool               \n",
      " 13  prediction_3                1568 non-null   object             \n",
      " 14  prediction_confidence_3     1568 non-null   float64            \n",
      " 15  prediction_dog_3            1568 non-null   bool               \n",
      " 16  retweet_count               1568 non-null   int64              \n",
      " 17  favorite_count              1568 non-null   int64              \n",
      " 18  dog_stage                   1568 non-null   category           \n",
      " 19  gender                      1568 non-null   category           \n",
      " 20  rating_correct_denominator  1568 non-null   int64              \n",
      " 21  rating_correct_numerator    1568 non-null   int64              \n",
      "dtypes: bool(3), category(2), datetime64[ns, UTC](1), float64(3), int64(5), object(8)\n",
      "memory usage: 228.5+ KB\n"
     ]
    }
   ],
   "source": [
    "df_we_rate_dogs.info()"
   ]
  },
  {
   "cell_type": "code",
   "execution_count": null,
   "id": "fc84d296",
   "metadata": {},
   "outputs": [],
   "source": []
  },
  {
   "cell_type": "code",
   "execution_count": null,
   "id": "c036da52",
   "metadata": {},
   "outputs": [],
   "source": []
  },
  {
   "cell_type": "markdown",
   "id": "502ab382",
   "metadata": {},
   "source": [
    "## Storing Data\n",
    "Save gathered, assessed, and cleaned master dataset to a CSV file named \"twitter_archive_master.csv\"."
   ]
  },
  {
   "cell_type": "code",
   "execution_count": 442,
   "id": "9c76d27c",
   "metadata": {},
   "outputs": [],
   "source": [
    "# Save our data frame as CSV. file: \n",
    "df_we_rate_dogs.to_csv('twitter_archive_master.csv', index= False)"
   ]
  },
  {
   "cell_type": "markdown",
   "id": "3646d85f",
   "metadata": {},
   "source": [
    "## Analyzing and Visualizing Data"
   ]
  },
  {
   "cell_type": "markdown",
   "id": "e695516f",
   "metadata": {},
   "source": [
    "- In this section, analyze and visualize your wrangled data. You must produce at least **three (3) insights and one (1) visualization.**"
   ]
  },
  {
   "cell_type": "markdown",
   "id": "ee6861dd",
   "metadata": {},
   "source": [
    "### Insights:\n",
    "1. Which is most source of the tweets?\n",
    "\n",
    "2. What are the popular names of dogs given?\n",
    "\n",
    "3. Which is the most common dog stage?\n",
    "\n",
    "4. Which gender is most frequently seen in the dataset"
   ]
  },
  {
   "cell_type": "markdown",
   "id": "c8a944de",
   "metadata": {},
   "source": [
    "### Visualization"
   ]
  },
  {
   "cell_type": "markdown",
   "id": "df429974",
   "metadata": {},
   "source": [
    "#### Insight & visualisation \n",
    "- Which is most source of the tweets?"
   ]
  },
  {
   "cell_type": "code",
   "execution_count": 443,
   "id": "e9fa52e0",
   "metadata": {},
   "outputs": [
    {
     "data": {
      "text/plain": [
       "<AxesSubplot:>"
      ]
     },
     "execution_count": 443,
     "metadata": {},
     "output_type": "execute_result"
    },
    {
     "data": {
      "image/png": "[encoded data removed]",
      "text/plain": [
       "<Figure size 720x360 with 1 Axes>"
      ]
     },
     "metadata": {
      "image/png": {
       "height": 346,
       "width": 604
      },
      "needs_background": "light"
     },
     "output_type": "display_data"
    }
   ],
   "source": [
    "df_we_rate_dogs.source.value_counts().plot.bar(figsize=(10,5) )"
   ]
  },
  {
   "cell_type": "markdown",
   "id": "5960c3b3",
   "metadata": {},
   "source": [
    "- Iphone is the most source of tweet"
   ]
  },
  {
   "cell_type": "code",
   "execution_count": null,
   "id": "39b06e86",
   "metadata": {},
   "outputs": [],
   "source": []
  },
  {
   "cell_type": "markdown",
   "id": "3dc6fb6b",
   "metadata": {},
   "source": [
    "#### Insight & visualisation\n",
    "- What are the popular names of dogs given?"
   ]
  },
  {
   "cell_type": "code",
   "execution_count": 444,
   "id": "be5533d0",
   "metadata": {},
   "outputs": [
    {
     "data": {
      "image/png": "[encoded data removed]",
      "text/plain": [
       "<Figure size 432x288 with 1 Axes>"
      ]
     },
     "metadata": {
      "image/png": {
       "height": 277,
       "width": 368
      },
      "needs_background": "light"
     },
     "output_type": "display_data"
    }
   ],
   "source": [
    "df_we_rate_dogs.name.value_counts()[0:10].plot(kind='bar');"
   ]
  },
  {
   "cell_type": "markdown",
   "id": "c300adfc",
   "metadata": {},
   "source": [
    "- Charlie is the most popular dog name given in this dataset"
   ]
  },
  {
   "cell_type": "code",
   "execution_count": null,
   "id": "60e6d493",
   "metadata": {},
   "outputs": [],
   "source": []
  }
 ],
 "metadata": {
  "kernelspec": {
   "display_name": "Python 3 (ipykernel)",
   "language": "python",
   "name": "python3"
  },
  "language_info": {
   "codemirror_mode": {
    "name": "ipython",
    "version": 3
   },
   "file_extension": ".py",
   "mimetype": "text/x-python",
   "name": "python",
   "nbconvert_exporter": "python",
   "pygments_lexer": "ipython3",
   "version": "3.9.7"
  }
 },
 "nbformat": 4,
 "nbformat_minor": 5
}
